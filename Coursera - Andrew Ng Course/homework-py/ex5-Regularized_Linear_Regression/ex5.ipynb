{
 "cells": [
  {
   "cell_type": "markdown",
   "metadata": {},
   "source": [
    "# Exercise 5: Regularized Linear Regression and Bias v.s. Variance"
   ]
  },
  {
   "cell_type": "markdown",
   "metadata": {},
   "source": [
    "## Regularized Linear Regression"
   ]
  },
  {
   "cell_type": "markdown",
   "metadata": {},
   "source": [
    "### Visualizing the dataset\n",
    "The dataset is divided into three parts:\n",
    "1. A **training** set that your model will learn on: $X$, $y$\n",
    "2. A **cross validation** set determining the regularization parameter:, $Xval$, $yval$\n",
    "3. A **test** set for evaluating performance. These are \"unseen\" examples which your model did not see during training: $Xtest$, $ytest$"
   ]
  },
  {
   "cell_type": "code",
   "execution_count": 1,
   "metadata": {},
   "outputs": [],
   "source": [
    "import numpy as np\n",
    "import matplotlib.pyplot as plt\n",
    "import scipy.io as sio\n",
    "\n",
    "from pandas import DataFrame as dframe"
   ]
  },
  {
   "cell_type": "code",
   "execution_count": 2,
   "metadata": {},
   "outputs": [],
   "source": [
    "# =========== Part 1: Loading and Visualizing Data =============\n",
    "data = sio.loadmat('./ex5data1.mat')"
   ]
  },
  {
   "cell_type": "code",
   "execution_count": 3,
   "metadata": {},
   "outputs": [
    {
     "data": {
      "text/plain": [
       "dict_keys(['__header__', '__version__', '__globals__', 'X', 'y', 'Xtest', 'ytest', 'Xval', 'yval'])"
      ]
     },
     "execution_count": 3,
     "metadata": {},
     "output_type": "execute_result"
    }
   ],
   "source": [
    "data.keys()"
   ]
  },
  {
   "cell_type": "code",
   "execution_count": 4,
   "metadata": {},
   "outputs": [],
   "source": [
    "# Store keys inside data into respective variable\n",
    "X = data['X']\n",
    "y = data['y']\n",
    "Xtest = data['Xtest']\n",
    "ytest = data['ytest']\n",
    "Xval = data['Xval']\n",
    "yval = data['yval']"
   ]
  },
  {
   "cell_type": "code",
   "execution_count": 5,
   "metadata": {
    "scrolled": false
   },
   "outputs": [
    {
     "data": {
      "text/plain": [
       "((12, 1), (12, 1))"
      ]
     },
     "execution_count": 5,
     "metadata": {},
     "output_type": "execute_result"
    }
   ],
   "source": [
    "X.shape, y.shape"
   ]
  },
  {
   "cell_type": "code",
   "execution_count": 6,
   "metadata": {},
   "outputs": [],
   "source": [
    "X_bias = np.hstack([np.ones([len(X), 1]), X])"
   ]
  },
  {
   "cell_type": "code",
   "execution_count": 7,
   "metadata": {},
   "outputs": [],
   "source": [
    "# m = Number of examples\n",
    "m = X.shape[0]"
   ]
  },
  {
   "cell_type": "code",
   "execution_count": 8,
   "metadata": {},
   "outputs": [
    {
     "data": {
      "image/png": "[encoded data removed]",
      "text/plain": [
       "<Figure size 504x360 with 1 Axes>"
      ]
     },
     "metadata": {
      "needs_background": "light"
     },
     "output_type": "display_data"
    }
   ],
   "source": [
    "# Plot training data\n",
    "plt.figure(figsize=(7, 5))\n",
    "plt.scatter(X, y, c='r', marker='x', s=60, lw=2)\n",
    "plt.xlabel('Change in water level (x)', fontsize=15)\n",
    "plt.ylabel('Water flowing out of the dam (y)', fontsize=15)\n",
    "plt.show()"
   ]
  },
  {
   "cell_type": "markdown",
   "metadata": {},
   "source": [
    "### Regularized linear regression cost function\n",
    "![reg-cost-funct.png](./img/reg-cost-funct.png)"
   ]
  },
  {
   "cell_type": "code",
   "execution_count": 9,
   "metadata": {},
   "outputs": [],
   "source": [
    "# =========== Part 2: Regularized Linear Regression Cost =============\n",
    "def linearRegCostFunction(X, y, theta, λ):\n",
    "    '''\n",
    "    LINEARREGCOSTFUNCTION Compute cost and gradient for regularized linear \n",
    "        regression with multiple variables\n",
    "        [J, grad] = LINEARREGCOSTFUNCTION(X, y, theta, lambda) computes the \n",
    "        cost of using theta as the parameter for linear regression to fit the \n",
    "        data points in X and y. Returns the cost in J and the gradient in grad\n",
    "    \n",
    "        Note that, argument X should already has bias term\n",
    "    '''\n",
    "    # Give bias term if X doesn't have one\n",
    "    if not np.array_equiv(X[:, 0], 1):\n",
    "        X = np.insert(X, 0, 1, axis=1)\n",
    "        \n",
    "    # Number of dataset, m, and number of features, n\n",
    "    m, n = X.shape\n",
    "    \n",
    "    # Hypothesis\n",
    "    h = X@theta\n",
    "    \n",
    "    # Cost function\n",
    "    J = 1/(2*m) * np.sum((h-y)**2) + λ/(2*m) * np.sum(theta[1:]**2) \n",
    "\n",
    "    # Gradient\n",
    "    grad = 1/m * (X.T @ (h-y))\n",
    "    grad[1:] = grad[1:] + λ/m* theta[1:]    \n",
    "    \n",
    "    return J, grad"
   ]
  },
  {
   "cell_type": "code",
   "execution_count": 10,
   "metadata": {},
   "outputs": [],
   "source": [
    "# Define theta and convert it to 2D array\n",
    "theta  = np.array([1, 1])[:, np.newaxis]"
   ]
  },
  {
   "cell_type": "code",
   "execution_count": 11,
   "metadata": {},
   "outputs": [
    {
     "data": {
      "text/plain": [
       "303.9931922202643"
      ]
     },
     "execution_count": 11,
     "metadata": {},
     "output_type": "execute_result"
    }
   ],
   "source": [
    "J = linearRegCostFunction(X_bias, y, theta, 1)[0]\n",
    "J"
   ]
  },
  {
   "cell_type": "code",
   "execution_count": 12,
   "metadata": {},
   "outputs": [
    {
     "name": "stdout",
     "output_type": "stream",
     "text": [
      "Cost at theta = [1 ; 1]: 303.9931922202643\n",
      "this value should be about 303.993192\n"
     ]
    }
   ],
   "source": [
    "print('Cost at theta = [1 ; 1]:', J)\n",
    "print('this value should be about 303.993192')"
   ]
  },
  {
   "cell_type": "markdown",
   "metadata": {},
   "source": [
    "### Regularized linear regression gradient\n",
    "The partial derivative of regularized linear regression's cost for $\\theta_j$ is\n",
    "![reg-grad](./img/reg-grad.png)"
   ]
  },
  {
   "cell_type": "code",
   "execution_count": 13,
   "metadata": {},
   "outputs": [
    {
     "data": {
      "text/plain": [
       "array([[-15.30301567],\n",
       "       [598.25074417]])"
      ]
     },
     "execution_count": 13,
     "metadata": {},
     "output_type": "execute_result"
    }
   ],
   "source": [
    "# =========== Part 3: Regularized Linear Regression Gradient =============\n",
    "# Still using theta (1, 1), find gradient\n",
    "grad = linearRegCostFunction(X_bias, y, theta, 1)[1]\n",
    "grad"
   ]
  },
  {
   "cell_type": "code",
   "execution_count": 14,
   "metadata": {},
   "outputs": [
    {
     "name": "stdout",
     "output_type": "stream",
     "text": [
      "Gradient at theta = [1 ; 1]:\n",
      " [[-15.30301567]\n",
      " [598.25074417]]\n",
      "this value should be about [-15.303016; 598.250744]\n"
     ]
    }
   ],
   "source": [
    "print('Gradient at theta = [1 ; 1]:\\n', grad)\n",
    "print('this value should be about [-15.303016; 598.250744]')"
   ]
  },
  {
   "cell_type": "markdown",
   "metadata": {},
   "source": [
    "### Fitting linear regression\n",
    "One cost function and gradient are computed correctly, \n",
    "the trainLinearReg function will use your cost function to train regularized linear regression.\n",
    "The training function will use `fmincg` to optimize cost function"
   ]
  },
  {
   "cell_type": "code",
   "execution_count": 15,
   "metadata": {},
   "outputs": [],
   "source": [
    "from scipy import optimize as opt"
   ]
  },
  {
   "cell_type": "code",
   "execution_count": 16,
   "metadata": {},
   "outputs": [],
   "source": [
    "# =========== Part 4: Train Linear Regression =============\n",
    "# We learn from previous chapter in python fmincg requires separate cost and gradient function\n",
    "# and put the value to be optimized (theta) as the first argument\n",
    "def costFunction(theta, X, y, λ):\n",
    "    '''\n",
    "    costFunction(theta, X, y, λ) will return regularized cost function J\n",
    "    \n",
    "    The argument X should already has bias term\n",
    "    '''\n",
    "    # Number of dataset, m, and number of features, n\n",
    "    m, n = X.shape\n",
    "    \n",
    "    # Hypothesis\n",
    "    h = X@theta\n",
    "    \n",
    "    # Cost function\n",
    "    J = 1/(2*m) * np.sum((h-y)**2) + λ/(2*m) * np.sum(theta[1:]**2) \n",
    "    \n",
    "    return J"
   ]
  },
  {
   "cell_type": "code",
   "execution_count": 17,
   "metadata": {},
   "outputs": [],
   "source": [
    "def grad(theta, X, y, λ):\n",
    "    '''\n",
    "    grad(theta, X, y, λ) will return gradient theta\n",
    "    \n",
    "    The argument X should already has bias term\n",
    "    '''\n",
    "\n",
    "    # Number of dataset, m, and number of features, n\n",
    "    m, n = X.shape\n",
    "    \n",
    "    # Hypothesis\n",
    "    h = X@theta\n",
    "    \n",
    "    # Gradient\n",
    "    grad = 1/m * (X.T @ (h-y))\n",
    "    grad[1:] = grad[1:] + λ/m* theta[1:]    \n",
    "    \n",
    "    return grad"
   ]
  },
  {
   "cell_type": "code",
   "execution_count": 18,
   "metadata": {},
   "outputs": [
    {
     "data": {
      "text/plain": [
       "array([[-15.30301567],\n",
       "       [598.25074417]])"
      ]
     },
     "execution_count": 18,
     "metadata": {},
     "output_type": "execute_result"
    }
   ],
   "source": [
    "grad(np.array([1, 1])[:, np.newaxis], X_bias, y, 1)"
   ]
  },
  {
   "cell_type": "code",
   "execution_count": 19,
   "metadata": {},
   "outputs": [],
   "source": [
    "def regGradDescent(theta, X, y, λ):\n",
    "    # Initialize some useful values\n",
    "    m = X.shape[0]; # number of training examples\n",
    "\n",
    "    # You need to return the following variables correctly \n",
    "    grad = np.zeros([theta.size,1]);\n",
    "    \n",
    "    # Sigmoiddd\n",
    "    z = X@theta\n",
    "    g_z = z\n",
    "    \n",
    "    # Grad descent\n",
    "    grad = 1/m * X.T @ (z - y);\n",
    "    grad[1:] = grad[1:] + (λ/m * theta[1:])\n",
    "    \n",
    "    return grad"
   ]
  },
  {
   "cell_type": "code",
   "execution_count": 20,
   "metadata": {},
   "outputs": [],
   "source": [
    "def trainLinearReg(X, y, λ):\n",
    "    '''TRAINLINEARREG Trains linear regression given a dataset (X, y) and a\n",
    "        regularization parameter lambda\n",
    "        [theta] = TRAINLINEARREG (X, y, lambda) trains linear regression using\n",
    "        the dataset (X, y) and regularization parameter lambda. Returns the\n",
    "        trained parameters theta.\n",
    "    \n",
    "        Note that, argument X should already has bias term \n",
    "    '''\n",
    "    # Give bias term if X doesn't have one\n",
    "    if not np.array_equiv(X[:, 0], 1):\n",
    "        X = np.insert(X, 0, 1, axis=1)\n",
    "        \n",
    "    # Initialize Theta\n",
    "    initial_theta = np.zeros([X.shape[1], 1]) \n",
    "    \n",
    "    # Number of dataset, m, and number of features, n\n",
    "    m, n = X.shape    \n",
    "    \n",
    "    # Optimization\n",
    "    arg = (X, y.flatten(), λ)\n",
    "    \n",
    "    res = opt.fmin_cg(f=costFunction,\n",
    "                  x0=initial_theta,\n",
    "                  fprime=grad,\n",
    "                  args=arg, \n",
    "                  maxiter=100) # This max iter is set to 100 to match MATLAB result in plotting polynomial regression\n",
    "    \n",
    "    return res"
   ]
  },
  {
   "cell_type": "code",
   "execution_count": 21,
   "metadata": {},
   "outputs": [],
   "source": [
    "lambd = 0"
   ]
  },
  {
   "cell_type": "code",
   "execution_count": 22,
   "metadata": {
    "scrolled": true
   },
   "outputs": [
    {
     "name": "stdout",
     "output_type": "stream",
     "text": [
      "Optimization terminated successfully.\n",
      "         Current function value: 22.373906\n",
      "         Iterations: 2\n",
      "         Function evaluations: 5\n",
      "         Gradient evaluations: 5\n"
     ]
    }
   ],
   "source": [
    "# Train linear regression with lambda = 0\n",
    "opt_theta = trainLinearReg(X_bias, y, lambd)"
   ]
  },
  {
   "cell_type": "code",
   "execution_count": 23,
   "metadata": {},
   "outputs": [
    {
     "data": {
      "text/plain": [
       "array([13.08790351,  0.36777923])"
      ]
     },
     "execution_count": 23,
     "metadata": {},
     "output_type": "execute_result"
    }
   ],
   "source": [
    "opt_theta"
   ]
  },
  {
   "cell_type": "code",
   "execution_count": 24,
   "metadata": {},
   "outputs": [
    {
     "data": {
      "image/png": "[encoded data removed]",
      "text/plain": [
       "<Figure size 504x360 with 1 Axes>"
      ]
     },
     "metadata": {
      "needs_background": "light"
     },
     "output_type": "display_data"
    }
   ],
   "source": [
    "# Plot fit over the data\n",
    "plt.figure(figsize=(7, 5))\n",
    "plt.scatter(X, y, c='r', marker='x', lw=1.5)\n",
    "plt.plot(X, X_bias@opt_theta, '--', lw=2)\n",
    "plt.xlabel('Change in water level (x)', fontsize=15)\n",
    "plt.ylabel('Water flowing out of the dam (y)' , fontsize=15)\n",
    "plt.show()"
   ]
  },
  {
   "cell_type": "markdown",
   "metadata": {},
   "source": [
    "## Bias-variance\n",
    "An important concept in machine learning is the bias-variance tradeoff. Models with high bias are not complex enough for the data and tend to underfit, while models with high variance overfit to the training data"
   ]
  },
  {
   "cell_type": "markdown",
   "metadata": {},
   "source": [
    "### Learning curves\n",
    "Learning curves will be useful in debugging learning algorithms. Learning curve plots training and cross validation error as a function of training set size. \n",
    "\n",
    "Recall that training error for dataset is defined as:\n",
    "![train-error](./img/train-error.png)"
   ]
  },
  {
   "cell_type": "code",
   "execution_count": 25,
   "metadata": {},
   "outputs": [],
   "source": [
    "# =========== Part 5: Learning Curve for Linear Regression =============\n",
    "def learningCurve(X, y, Xval, yval, λ):\n",
    "    '''\n",
    "    LEARNINGCURVE Generates the train and cross validation set errors needed \n",
    "    to plot a learning curve\n",
    "        [error_train, error_val] = LEARNINGCURVE(X, y, Xval, yval, lambda) returns the train and\n",
    "        cross validation set errors for a learning curve. In particular, \n",
    "        it returns two vectors of the same length - error_train and error_val.\n",
    "        Then, error_train(i) contains the training error for i examples (and similarly for error_val(i)).\n",
    "        \n",
    "    Note that, argument X and Xval should already has bias term \n",
    "    '''\n",
    "    # Number of dataset, m, and number of features, n\n",
    "    m, n = X.shape    \n",
    "    \n",
    "    error_train = np.zeros([m, 1])\n",
    "    error_val = np.zeros([m, 1])\n",
    "\n",
    "    for i in range(1, m+1):\n",
    "        theta_train = trainLinearReg(X[:i], y[:i], λ)[:, np.newaxis]\n",
    "    \n",
    "        error_train[i-1] = linearRegCostFunction(X[:i], y[:i], theta_train, 0)[0]\n",
    "        error_val[i-1] = linearRegCostFunction(Xval, yval, theta_train, 0)[0]\n",
    "    \n",
    "    return error_train, error_val"
   ]
  },
  {
   "cell_type": "code",
   "execution_count": 26,
   "metadata": {},
   "outputs": [],
   "source": [
    "# Add bias term to Xval\n",
    "Xval_bias = np.insert(Xval, 0, 1, axis=1)"
   ]
  },
  {
   "cell_type": "code",
   "execution_count": 27,
   "metadata": {
    "scrolled": true
   },
   "outputs": [
    {
     "name": "stdout",
     "output_type": "stream",
     "text": [
      "Optimization terminated successfully.\n",
      "         Current function value: 0.000000\n",
      "         Iterations: 1\n",
      "         Function evaluations: 3\n",
      "         Gradient evaluations: 3\n",
      "Optimization terminated successfully.\n",
      "         Current function value: 0.000000\n",
      "         Iterations: 2\n",
      "         Function evaluations: 6\n",
      "         Gradient evaluations: 6\n",
      "Optimization terminated successfully.\n",
      "         Current function value: 3.286595\n",
      "         Iterations: 9\n",
      "         Function evaluations: 15\n",
      "         Gradient evaluations: 15\n",
      "Optimization terminated successfully.\n",
      "         Current function value: 2.842678\n",
      "         Iterations: 8\n",
      "         Function evaluations: 14\n",
      "         Gradient evaluations: 14\n",
      "Optimization terminated successfully.\n",
      "         Current function value: 13.154049\n",
      "         Iterations: 22\n",
      "         Function evaluations: 34\n",
      "         Gradient evaluations: 34\n",
      "Optimization terminated successfully.\n",
      "         Current function value: 19.443963\n",
      "         Iterations: 22\n",
      "         Function evaluations: 34\n",
      "         Gradient evaluations: 34\n",
      "Optimization terminated successfully.\n",
      "         Current function value: 20.098522\n",
      "         Iterations: 18\n",
      "         Function evaluations: 28\n",
      "         Gradient evaluations: 28\n",
      "Optimization terminated successfully.\n",
      "         Current function value: 18.172859\n",
      "         Iterations: 2\n",
      "         Function evaluations: 5\n",
      "         Gradient evaluations: 5\n",
      "Optimization terminated successfully.\n",
      "         Current function value: 22.609405\n",
      "         Iterations: 2\n",
      "         Function evaluations: 5\n",
      "         Gradient evaluations: 5\n",
      "Optimization terminated successfully.\n",
      "         Current function value: 23.261462\n",
      "         Iterations: 2\n",
      "         Function evaluations: 5\n",
      "         Gradient evaluations: 5\n",
      "Optimization terminated successfully.\n",
      "         Current function value: 24.317250\n",
      "         Iterations: 2\n",
      "         Function evaluations: 5\n",
      "         Gradient evaluations: 5\n",
      "Optimization terminated successfully.\n",
      "         Current function value: 22.373906\n",
      "         Iterations: 2\n",
      "         Function evaluations: 5\n",
      "         Gradient evaluations: 5\n"
     ]
    }
   ],
   "source": [
    "error_train, error_val = learningCurve(X_bias, y, Xval_bias, yval, 0)"
   ]
  },
  {
   "cell_type": "code",
   "execution_count": 28,
   "metadata": {
    "scrolled": true
   },
   "outputs": [
    {
     "name": "stdout",
     "output_type": "stream",
     "text": [
      "Training Examples\t Train Error\t Cross Validation Error\n",
      "0 \t\t\t 0.000000 \t 205.121096\n",
      "1 \t\t\t 0.000000 \t 110.300366\n",
      "2 \t\t\t 3.286595 \t 45.010232\n",
      "3 \t\t\t 2.842678 \t 48.368911\n",
      "4 \t\t\t 13.154049 \t 35.865141\n",
      "5 \t\t\t 19.443963 \t 33.829957\n",
      "6 \t\t\t 20.098522 \t 31.970987\n",
      "7 \t\t\t 18.172859 \t 30.862446\n",
      "8 \t\t\t 22.609405 \t 31.135998\n",
      "9 \t\t\t 23.261462 \t 28.936207\n",
      "10 \t\t\t 24.317250 \t 29.551432\n",
      "11 \t\t\t 22.373906 \t 29.433818\n"
     ]
    }
   ],
   "source": [
    "print('Training Examples\\t Train Error\\t Cross Validation Error')\n",
    "for i in range(m):\n",
    "    print('%d \\t\\t\\t %f \\t %f' %(i, error_train[i, 0], error_val[i, 0]))"
   ]
  },
  {
   "cell_type": "code",
   "execution_count": 29,
   "metadata": {},
   "outputs": [
    {
     "data": {
      "image/png": "[encoded data removed]",
      "text/plain": [
       "<Figure size 504x360 with 1 Axes>"
      ]
     },
     "metadata": {
      "needs_background": "light"
     },
     "output_type": "display_data"
    }
   ],
   "source": [
    "# Plotting learning curve\n",
    "num_train = np.arange(0, 12)\n",
    "errors = [error_train, error_val]\n",
    "labels = ['Train', 'Cross Validation']\n",
    "\n",
    "plt.figure(figsize=(7, 5))\n",
    "for err_val, label in zip(errors, labels):\n",
    "    plt.plot(num_train, err_val, label=label)\n",
    "\n",
    "plt.title('Learning curve for linear regression', fontsize=16)    \n",
    "plt.xlabel('Number of training examples', fontsize=14)\n",
    "plt.ylabel('Legend', fontsize=14)\n",
    "plt.legend()\n",
    "plt.show()"
   ]
  },
  {
   "cell_type": "markdown",
   "metadata": {},
   "source": [
    "## Polynomial regression \n",
    "The problem with this linear model was that it was too simple for the data and resulted in underfitting (high bias).  \n",
    "This part of exercise will add more features to the dataset"
   ]
  },
  {
   "cell_type": "code",
   "execution_count": 30,
   "metadata": {},
   "outputs": [],
   "source": [
    "# =========== Part 6: Feature Mapping for Polynomial Regression =============\n",
    "def polyFeatures(X, p):\n",
    "    '''\n",
    "    POLYFEATURES Maps X (1D vector) into the p-th power\n",
    "       [X_poly] = POLYFEATURES(X, p) takes a data matrix X (size m x 1) and\n",
    "       maps each example into its polynomial features where\n",
    "       X_poly(i, :) = [X(i) X(i).^2 X(i).^3 ...  X(i).^p];\n",
    "    \n",
    "    This time argument X should NOT contain bias term\n",
    "    '''\n",
    "    \n",
    "    # You need to return the following variables correctly.\n",
    "    X_poly = np.zeros([X.shape[0], p]);\n",
    "    \n",
    "    for i in range(p):\n",
    "        X_poly[:, [i]] = X**(i+1)\n",
    "        \n",
    "    return X_poly"
   ]
  },
  {
   "cell_type": "code",
   "execution_count": 31,
   "metadata": {},
   "outputs": [],
   "source": [
    "def featureNormalize(X):   \n",
    "    mu = np.mean(X, axis=0)\n",
    "    X_norm = X - mu\n",
    "    \n",
    "    sigma = np.std(X_norm, axis=0, ddof=1)\n",
    "    X_norm = X_norm/sigma\n",
    "    \n",
    "    return X_norm, mu, sigma"
   ]
  },
  {
   "cell_type": "code",
   "execution_count": 32,
   "metadata": {},
   "outputs": [],
   "source": [
    "# Set the polynomial value\n",
    "p = 8"
   ]
  },
  {
   "cell_type": "code",
   "execution_count": 33,
   "metadata": {},
   "outputs": [],
   "source": [
    "# Map X into polynomial features and normalize it\n",
    "X_poly = polyFeatures(X, p)"
   ]
  },
  {
   "cell_type": "code",
   "execution_count": 34,
   "metadata": {},
   "outputs": [],
   "source": [
    "X_poly, mu, sigma = featureNormalize(X_poly)"
   ]
  },
  {
   "cell_type": "code",
   "execution_count": 35,
   "metadata": {},
   "outputs": [],
   "source": [
    "# Add bias term to X_poly\n",
    "X_poly = np.insert(X_poly, 0, 1, axis=1)"
   ]
  },
  {
   "cell_type": "code",
   "execution_count": 36,
   "metadata": {
    "scrolled": true
   },
   "outputs": [
    {
     "data": {
      "text/html": [
       "<div>\n",
       "<style scoped>\n",
       "    .dataframe tbody tr th:only-of-type {\n",
       "        vertical-align: middle;\n",
       "    }\n",
       "\n",
       "    .dataframe tbody tr th {\n",
       "        vertical-align: top;\n",
       "    }\n",
       "\n",
       "    .dataframe thead th {\n",
       "        text-align: right;\n",
       "    }\n",
       "</style>\n",
       "<table border=\"1\" class=\"dataframe\">\n",
       "  <thead>\n",
       "    <tr style=\"text-align: right;\">\n",
       "      <th></th>\n",
       "      <th>0</th>\n",
       "      <th>1</th>\n",
       "      <th>2</th>\n",
       "      <th>3</th>\n",
       "      <th>4</th>\n",
       "      <th>5</th>\n",
       "      <th>6</th>\n",
       "      <th>7</th>\n",
       "      <th>8</th>\n",
       "    </tr>\n",
       "  </thead>\n",
       "  <tbody>\n",
       "    <tr>\n",
       "      <th>0</th>\n",
       "      <td>1.0</td>\n",
       "      <td>-0.362141</td>\n",
       "      <td>-0.755087</td>\n",
       "      <td>0.182226</td>\n",
       "      <td>-0.706190</td>\n",
       "      <td>0.306618</td>\n",
       "      <td>-0.590878</td>\n",
       "      <td>0.344516</td>\n",
       "      <td>-0.508481</td>\n",
       "    </tr>\n",
       "    <tr>\n",
       "      <th>1</th>\n",
       "      <td>1.0</td>\n",
       "      <td>-0.803205</td>\n",
       "      <td>0.001258</td>\n",
       "      <td>-0.247937</td>\n",
       "      <td>-0.327023</td>\n",
       "      <td>0.093396</td>\n",
       "      <td>-0.435818</td>\n",
       "      <td>0.255416</td>\n",
       "      <td>-0.448912</td>\n",
       "    </tr>\n",
       "    <tr>\n",
       "      <th>2</th>\n",
       "      <td>1.0</td>\n",
       "      <td>1.377467</td>\n",
       "      <td>0.584827</td>\n",
       "      <td>1.249769</td>\n",
       "      <td>0.245312</td>\n",
       "      <td>0.978360</td>\n",
       "      <td>-0.012156</td>\n",
       "      <td>0.756568</td>\n",
       "      <td>-0.170352</td>\n",
       "    </tr>\n",
       "    <tr>\n",
       "      <th>3</th>\n",
       "      <td>1.0</td>\n",
       "      <td>1.420940</td>\n",
       "      <td>0.706647</td>\n",
       "      <td>1.359846</td>\n",
       "      <td>0.395534</td>\n",
       "      <td>1.106162</td>\n",
       "      <td>0.125637</td>\n",
       "      <td>0.871929</td>\n",
       "      <td>-0.059638</td>\n",
       "    </tr>\n",
       "    <tr>\n",
       "      <th>4</th>\n",
       "      <td>1.0</td>\n",
       "      <td>-1.434149</td>\n",
       "      <td>1.854000</td>\n",
       "      <td>-2.037163</td>\n",
       "      <td>2.331431</td>\n",
       "      <td>-2.411536</td>\n",
       "      <td>2.602212</td>\n",
       "      <td>-2.645675</td>\n",
       "      <td>2.766085</td>\n",
       "    </tr>\n",
       "    <tr>\n",
       "      <th>5</th>\n",
       "      <td>1.0</td>\n",
       "      <td>-0.128687</td>\n",
       "      <td>-0.975969</td>\n",
       "      <td>0.251385</td>\n",
       "      <td>-0.739687</td>\n",
       "      <td>0.316953</td>\n",
       "      <td>-0.594997</td>\n",
       "      <td>0.345812</td>\n",
       "      <td>-0.508955</td>\n",
       "    </tr>\n",
       "    <tr>\n",
       "      <th>6</th>\n",
       "      <td>1.0</td>\n",
       "      <td>0.680582</td>\n",
       "      <td>-0.780029</td>\n",
       "      <td>0.340656</td>\n",
       "      <td>-0.711721</td>\n",
       "      <td>0.326509</td>\n",
       "      <td>-0.591790</td>\n",
       "      <td>0.346830</td>\n",
       "      <td>-0.508613</td>\n",
       "    </tr>\n",
       "    <tr>\n",
       "      <th>7</th>\n",
       "      <td>1.0</td>\n",
       "      <td>-0.988534</td>\n",
       "      <td>0.451358</td>\n",
       "      <td>-0.601282</td>\n",
       "      <td>0.092917</td>\n",
       "      <td>-0.218473</td>\n",
       "      <td>-0.141608</td>\n",
       "      <td>0.039403</td>\n",
       "      <td>-0.266693</td>\n",
       "    </tr>\n",
       "    <tr>\n",
       "      <th>8</th>\n",
       "      <td>1.0</td>\n",
       "      <td>0.216076</td>\n",
       "      <td>-1.074993</td>\n",
       "      <td>0.266275</td>\n",
       "      <td>-0.743369</td>\n",
       "      <td>0.317561</td>\n",
       "      <td>-0.595129</td>\n",
       "      <td>0.345835</td>\n",
       "      <td>-0.508960</td>\n",
       "    </tr>\n",
       "    <tr>\n",
       "      <th>9</th>\n",
       "      <td>1.0</td>\n",
       "      <td>-1.311501</td>\n",
       "      <td>1.422806</td>\n",
       "      <td>-1.548121</td>\n",
       "      <td>1.493396</td>\n",
       "      <td>-1.515908</td>\n",
       "      <td>1.388655</td>\n",
       "      <td>-1.368307</td>\n",
       "      <td>1.224144</td>\n",
       "    </tr>\n",
       "    <tr>\n",
       "      <th>10</th>\n",
       "      <td>1.0</td>\n",
       "      <td>0.403777</td>\n",
       "      <td>-1.015010</td>\n",
       "      <td>0.273379</td>\n",
       "      <td>-0.741977</td>\n",
       "      <td>0.317742</td>\n",
       "      <td>-0.595098</td>\n",
       "      <td>0.345839</td>\n",
       "      <td>-0.508959</td>\n",
       "    </tr>\n",
       "    <tr>\n",
       "      <th>11</th>\n",
       "      <td>1.0</td>\n",
       "      <td>0.929375</td>\n",
       "      <td>-0.419808</td>\n",
       "      <td>0.510968</td>\n",
       "      <td>-0.588624</td>\n",
       "      <td>0.382616</td>\n",
       "      <td>-0.559030</td>\n",
       "      <td>0.361832</td>\n",
       "      <td>-0.500665</td>\n",
       "    </tr>\n",
       "  </tbody>\n",
       "</table>\n",
       "</div>"
      ],
      "text/plain": [
       "      0         1         2         3         4         5         6         7  \\\n",
       "0   1.0 -0.362141 -0.755087  0.182226 -0.706190  0.306618 -0.590878  0.344516   \n",
       "1   1.0 -0.803205  0.001258 -0.247937 -0.327023  0.093396 -0.435818  0.255416   \n",
       "2   1.0  1.377467  0.584827  1.249769  0.245312  0.978360 -0.012156  0.756568   \n",
       "3   1.0  1.420940  0.706647  1.359846  0.395534  1.106162  0.125637  0.871929   \n",
       "4   1.0 -1.434149  1.854000 -2.037163  2.331431 -2.411536  2.602212 -2.645675   \n",
       "5   1.0 -0.128687 -0.975969  0.251385 -0.739687  0.316953 -0.594997  0.345812   \n",
       "6   1.0  0.680582 -0.780029  0.340656 -0.711721  0.326509 -0.591790  0.346830   \n",
       "7   1.0 -0.988534  0.451358 -0.601282  0.092917 -0.218473 -0.141608  0.039403   \n",
       "8   1.0  0.216076 -1.074993  0.266275 -0.743369  0.317561 -0.595129  0.345835   \n",
       "9   1.0 -1.311501  1.422806 -1.548121  1.493396 -1.515908  1.388655 -1.368307   \n",
       "10  1.0  0.403777 -1.015010  0.273379 -0.741977  0.317742 -0.595098  0.345839   \n",
       "11  1.0  0.929375 -0.419808  0.510968 -0.588624  0.382616 -0.559030  0.361832   \n",
       "\n",
       "           8  \n",
       "0  -0.508481  \n",
       "1  -0.448912  \n",
       "2  -0.170352  \n",
       "3  -0.059638  \n",
       "4   2.766085  \n",
       "5  -0.508955  \n",
       "6  -0.508613  \n",
       "7  -0.266693  \n",
       "8  -0.508960  \n",
       "9   1.224144  \n",
       "10 -0.508959  \n",
       "11 -0.500665  "
      ]
     },
     "execution_count": 36,
     "metadata": {},
     "output_type": "execute_result"
    }
   ],
   "source": [
    "# Polynomialized features, normalized\n",
    "dframe(X_poly)"
   ]
  },
  {
   "cell_type": "code",
   "execution_count": 37,
   "metadata": {},
   "outputs": [
    {
     "data": {
      "text/plain": [
       "(21, 1)"
      ]
     },
     "execution_count": 37,
     "metadata": {},
     "output_type": "execute_result"
    }
   ],
   "source": [
    "Xtest.shape"
   ]
  },
  {
   "cell_type": "code",
   "execution_count": 38,
   "metadata": {},
   "outputs": [],
   "source": [
    "# Map X_poly_test and normalize (using mu and sigma)\n",
    "X_poly_test = polyFeatures(Xtest, p)\n",
    "X_poly_test = X_poly_test - mu\n",
    "X_poly_test = X_poly_test/sigma\n",
    "X_poly_test = np.insert(X_poly_test, 0, 1, axis=1)"
   ]
  },
  {
   "cell_type": "code",
   "execution_count": 39,
   "metadata": {},
   "outputs": [],
   "source": [
    "# Map X_poly_val and normalize (using mu and sigma)\n",
    "X_poly_val = polyFeatures(Xval, p)\n",
    "X_poly_val = X_poly_val - mu\n",
    "X_poly_val = X_poly_val/sigma\n",
    "X_poly_val = np.insert(X_poly_val, 0, 1, axis=1)"
   ]
  },
  {
   "cell_type": "code",
   "execution_count": 40,
   "metadata": {},
   "outputs": [
    {
     "data": {
      "text/html": [
       "<div>\n",
       "<style scoped>\n",
       "    .dataframe tbody tr th:only-of-type {\n",
       "        vertical-align: middle;\n",
       "    }\n",
       "\n",
       "    .dataframe tbody tr th {\n",
       "        vertical-align: top;\n",
       "    }\n",
       "\n",
       "    .dataframe thead th {\n",
       "        text-align: right;\n",
       "    }\n",
       "</style>\n",
       "<table border=\"1\" class=\"dataframe\">\n",
       "  <thead>\n",
       "    <tr style=\"text-align: right;\">\n",
       "      <th></th>\n",
       "      <th>0</th>\n",
       "      <th>1</th>\n",
       "      <th>2</th>\n",
       "      <th>3</th>\n",
       "      <th>4</th>\n",
       "      <th>5</th>\n",
       "      <th>6</th>\n",
       "      <th>7</th>\n",
       "      <th>8</th>\n",
       "    </tr>\n",
       "  </thead>\n",
       "  <tbody>\n",
       "    <tr>\n",
       "      <th>0</th>\n",
       "      <td>1.0</td>\n",
       "      <td>-0.389165</td>\n",
       "      <td>-0.721495</td>\n",
       "      <td>0.168761</td>\n",
       "      <td>-0.698037</td>\n",
       "      <td>0.303540</td>\n",
       "      <td>-0.589405</td>\n",
       "      <td>0.343969</td>\n",
       "      <td>-0.508248</td>\n",
       "    </tr>\n",
       "    <tr>\n",
       "      <th>1</th>\n",
       "      <td>1.0</td>\n",
       "      <td>-0.316777</td>\n",
       "      <td>-0.807731</td>\n",
       "      <td>0.201937</td>\n",
       "      <td>-0.717342</td>\n",
       "      <td>0.310554</td>\n",
       "      <td>-0.592639</td>\n",
       "      <td>0.345128</td>\n",
       "      <td>-0.508725</td>\n",
       "    </tr>\n",
       "    <tr>\n",
       "      <th>2</th>\n",
       "      <td>1.0</td>\n",
       "      <td>1.321608</td>\n",
       "      <td>0.434621</td>\n",
       "      <td>1.119514</td>\n",
       "      <td>0.074706</td>\n",
       "      <td>0.839044</td>\n",
       "      <td>-0.156342</td>\n",
       "      <td>0.640684</td>\n",
       "      <td>-0.277129</td>\n",
       "    </tr>\n",
       "    <tr>\n",
       "      <th>3</th>\n",
       "      <td>1.0</td>\n",
       "      <td>-1.399149</td>\n",
       "      <td>1.727454</td>\n",
       "      <td>-1.889635</td>\n",
       "      <td>2.071693</td>\n",
       "      <td>-2.126476</td>\n",
       "      <td>2.205758</td>\n",
       "      <td>-2.217555</td>\n",
       "      <td>2.236148</td>\n",
       "    </tr>\n",
       "    <tr>\n",
       "      <th>4</th>\n",
       "      <td>1.0</td>\n",
       "      <td>1.403684</td>\n",
       "      <td>0.657776</td>\n",
       "      <td>1.315219</td>\n",
       "      <td>0.333994</td>\n",
       "      <td>1.053262</td>\n",
       "      <td>0.068014</td>\n",
       "      <td>0.823194</td>\n",
       "      <td>-0.106884</td>\n",
       "    </tr>\n",
       "    <tr>\n",
       "      <th>5</th>\n",
       "      <td>1.0</td>\n",
       "      <td>-1.188099</td>\n",
       "      <td>1.023564</td>\n",
       "      <td>-1.131387</td>\n",
       "      <td>0.836091</td>\n",
       "      <td>-0.869256</td>\n",
       "      <td>0.582007</td>\n",
       "      <td>-0.586563</td>\n",
       "      <td>0.355214</td>\n",
       "    </tr>\n",
       "    <tr>\n",
       "      <th>6</th>\n",
       "      <td>1.0</td>\n",
       "      <td>0.020471</td>\n",
       "      <td>-1.052059</td>\n",
       "      <td>0.264364</td>\n",
       "      <td>-0.743141</td>\n",
       "      <td>0.317542</td>\n",
       "      <td>-0.595127</td>\n",
       "      <td>0.345835</td>\n",
       "      <td>-0.508960</td>\n",
       "    </tr>\n",
       "    <tr>\n",
       "      <th>7</th>\n",
       "      <td>1.0</td>\n",
       "      <td>1.055221</td>\n",
       "      <td>-0.183872</td>\n",
       "      <td>0.653867</td>\n",
       "      <td>-0.457670</td>\n",
       "      <td>0.457564</td>\n",
       "      <td>-0.504571</td>\n",
       "      <td>0.392614</td>\n",
       "      <td>-0.480685</td>\n",
       "    </tr>\n",
       "    <tr>\n",
       "      <th>8</th>\n",
       "      <td>1.0</td>\n",
       "      <td>-1.258569</td>\n",
       "      <td>1.247304</td>\n",
       "      <td>-1.360480</td>\n",
       "      <td>1.190402</td>\n",
       "      <td>-1.210900</td>\n",
       "      <td>0.999543</td>\n",
       "      <td>-0.982843</td>\n",
       "      <td>0.786410</td>\n",
       "    </tr>\n",
       "    <tr>\n",
       "      <th>9</th>\n",
       "      <td>1.0</td>\n",
       "      <td>1.016524</td>\n",
       "      <td>-0.260265</td>\n",
       "      <td>0.605234</td>\n",
       "      <td>-0.504432</td>\n",
       "      <td>0.429533</td>\n",
       "      <td>-0.525867</td>\n",
       "      <td>0.380050</td>\n",
       "      <td>-0.489183</td>\n",
       "    </tr>\n",
       "    <tr>\n",
       "      <th>10</th>\n",
       "      <td>1.0</td>\n",
       "      <td>-0.868501</td>\n",
       "      <td>0.150909</td>\n",
       "      <td>-0.358562</td>\n",
       "      <td>-0.203488</td>\n",
       "      <td>0.007375</td>\n",
       "      <td>-0.359888</td>\n",
       "      <td>0.203361</td>\n",
       "      <td>-0.407992</td>\n",
       "    </tr>\n",
       "    <tr>\n",
       "      <th>11</th>\n",
       "      <td>1.0</td>\n",
       "      <td>1.081189</td>\n",
       "      <td>-0.130694</td>\n",
       "      <td>0.688982</td>\n",
       "      <td>-0.422653</td>\n",
       "      <td>0.479333</td>\n",
       "      <td>-0.487421</td>\n",
       "      <td>0.403105</td>\n",
       "      <td>-0.473329</td>\n",
       "    </tr>\n",
       "    <tr>\n",
       "      <th>12</th>\n",
       "      <td>1.0</td>\n",
       "      <td>0.060791</td>\n",
       "      <td>-1.063921</td>\n",
       "      <td>0.265498</td>\n",
       "      <td>-0.743306</td>\n",
       "      <td>0.317557</td>\n",
       "      <td>-0.595129</td>\n",
       "      <td>0.345835</td>\n",
       "      <td>-0.508960</td>\n",
       "    </tr>\n",
       "    <tr>\n",
       "      <th>13</th>\n",
       "      <td>1.0</td>\n",
       "      <td>0.109034</td>\n",
       "      <td>-1.073246</td>\n",
       "      <td>0.266095</td>\n",
       "      <td>-0.743365</td>\n",
       "      <td>0.317561</td>\n",
       "      <td>-0.595129</td>\n",
       "      <td>0.345835</td>\n",
       "      <td>-0.508960</td>\n",
       "    </tr>\n",
       "    <tr>\n",
       "      <th>14</th>\n",
       "      <td>1.0</td>\n",
       "      <td>-1.189219</td>\n",
       "      <td>1.027030</td>\n",
       "      <td>-1.134848</td>\n",
       "      <td>0.841307</td>\n",
       "      <td>-0.874158</td>\n",
       "      <td>0.587844</td>\n",
       "      <td>-0.591959</td>\n",
       "      <td>0.360932</td>\n",
       "    </tr>\n",
       "    <tr>\n",
       "      <th>15</th>\n",
       "      <td>1.0</td>\n",
       "      <td>-1.499373</td>\n",
       "      <td>2.097274</td>\n",
       "      <td>-2.329762</td>\n",
       "      <td>2.862951</td>\n",
       "      <td>-3.013466</td>\n",
       "      <td>3.466123</td>\n",
       "      <td>-3.608498</td>\n",
       "      <td>3.996218</td>\n",
       "    </tr>\n",
       "    <tr>\n",
       "      <th>16</th>\n",
       "      <td>1.0</td>\n",
       "      <td>-0.411366</td>\n",
       "      <td>-0.692655</td>\n",
       "      <td>0.156679</td>\n",
       "      <td>-0.690393</td>\n",
       "      <td>0.300525</td>\n",
       "      <td>-0.587898</td>\n",
       "      <td>0.343384</td>\n",
       "      <td>-0.507988</td>\n",
       "    </tr>\n",
       "    <tr>\n",
       "      <th>17</th>\n",
       "      <td>1.0</td>\n",
       "      <td>0.289464</td>\n",
       "      <td>-1.061101</td>\n",
       "      <td>0.267178</td>\n",
       "      <td>-0.743276</td>\n",
       "      <td>0.317568</td>\n",
       "      <td>-0.595129</td>\n",
       "      <td>0.345835</td>\n",
       "      <td>-0.508960</td>\n",
       "    </tr>\n",
       "    <tr>\n",
       "      <th>18</th>\n",
       "      <td>1.0</td>\n",
       "      <td>0.406179</td>\n",
       "      <td>-1.013722</td>\n",
       "      <td>0.273601</td>\n",
       "      <td>-0.741918</td>\n",
       "      <td>0.317751</td>\n",
       "      <td>-0.595096</td>\n",
       "      <td>0.345839</td>\n",
       "      <td>-0.508959</td>\n",
       "    </tr>\n",
       "    <tr>\n",
       "      <th>19</th>\n",
       "      <td>1.0</td>\n",
       "      <td>1.714294</td>\n",
       "      <td>1.641288</td>\n",
       "      <td>2.323499</td>\n",
       "      <td>1.901392</td>\n",
       "      <td>2.578199</td>\n",
       "      <td>1.955477</td>\n",
       "      <td>2.644031</td>\n",
       "      <td>1.914057</td>\n",
       "    </tr>\n",
       "    <tr>\n",
       "      <th>20</th>\n",
       "      <td>1.0</td>\n",
       "      <td>0.657371</td>\n",
       "      <td>-0.806441</td>\n",
       "      <td>0.330964</td>\n",
       "      <td>-0.717093</td>\n",
       "      <td>0.324653</td>\n",
       "      <td>-0.592603</td>\n",
       "      <td>0.346554</td>\n",
       "      <td>-0.508721</td>\n",
       "    </tr>\n",
       "  </tbody>\n",
       "</table>\n",
       "</div>"
      ],
      "text/plain": [
       "      0         1         2         3         4         5         6         7  \\\n",
       "0   1.0 -0.389165 -0.721495  0.168761 -0.698037  0.303540 -0.589405  0.343969   \n",
       "1   1.0 -0.316777 -0.807731  0.201937 -0.717342  0.310554 -0.592639  0.345128   \n",
       "2   1.0  1.321608  0.434621  1.119514  0.074706  0.839044 -0.156342  0.640684   \n",
       "3   1.0 -1.399149  1.727454 -1.889635  2.071693 -2.126476  2.205758 -2.217555   \n",
       "4   1.0  1.403684  0.657776  1.315219  0.333994  1.053262  0.068014  0.823194   \n",
       "5   1.0 -1.188099  1.023564 -1.131387  0.836091 -0.869256  0.582007 -0.586563   \n",
       "6   1.0  0.020471 -1.052059  0.264364 -0.743141  0.317542 -0.595127  0.345835   \n",
       "7   1.0  1.055221 -0.183872  0.653867 -0.457670  0.457564 -0.504571  0.392614   \n",
       "8   1.0 -1.258569  1.247304 -1.360480  1.190402 -1.210900  0.999543 -0.982843   \n",
       "9   1.0  1.016524 -0.260265  0.605234 -0.504432  0.429533 -0.525867  0.380050   \n",
       "10  1.0 -0.868501  0.150909 -0.358562 -0.203488  0.007375 -0.359888  0.203361   \n",
       "11  1.0  1.081189 -0.130694  0.688982 -0.422653  0.479333 -0.487421  0.403105   \n",
       "12  1.0  0.060791 -1.063921  0.265498 -0.743306  0.317557 -0.595129  0.345835   \n",
       "13  1.0  0.109034 -1.073246  0.266095 -0.743365  0.317561 -0.595129  0.345835   \n",
       "14  1.0 -1.189219  1.027030 -1.134848  0.841307 -0.874158  0.587844 -0.591959   \n",
       "15  1.0 -1.499373  2.097274 -2.329762  2.862951 -3.013466  3.466123 -3.608498   \n",
       "16  1.0 -0.411366 -0.692655  0.156679 -0.690393  0.300525 -0.587898  0.343384   \n",
       "17  1.0  0.289464 -1.061101  0.267178 -0.743276  0.317568 -0.595129  0.345835   \n",
       "18  1.0  0.406179 -1.013722  0.273601 -0.741918  0.317751 -0.595096  0.345839   \n",
       "19  1.0  1.714294  1.641288  2.323499  1.901392  2.578199  1.955477  2.644031   \n",
       "20  1.0  0.657371 -0.806441  0.330964 -0.717093  0.324653 -0.592603  0.346554   \n",
       "\n",
       "           8  \n",
       "0  -0.508248  \n",
       "1  -0.508725  \n",
       "2  -0.277129  \n",
       "3   2.236148  \n",
       "4  -0.106884  \n",
       "5   0.355214  \n",
       "6  -0.508960  \n",
       "7  -0.480685  \n",
       "8   0.786410  \n",
       "9  -0.489183  \n",
       "10 -0.407992  \n",
       "11 -0.473329  \n",
       "12 -0.508960  \n",
       "13 -0.508960  \n",
       "14  0.360932  \n",
       "15  3.996218  \n",
       "16 -0.507988  \n",
       "17 -0.508960  \n",
       "18 -0.508959  \n",
       "19  1.914057  \n",
       "20 -0.508721  "
      ]
     },
     "execution_count": 40,
     "metadata": {},
     "output_type": "execute_result"
    }
   ],
   "source": [
    "dframe(X_poly_val)"
   ]
  },
  {
   "cell_type": "code",
   "execution_count": 41,
   "metadata": {},
   "outputs": [
    {
     "name": "stdout",
     "output_type": "stream",
     "text": [
      "Normalized Training Example 1: \n",
      " [[ 1.        ]\n",
      " [-0.36214078]\n",
      " [-0.75508669]\n",
      " [ 0.18222588]\n",
      " [-0.70618991]\n",
      " [ 0.30661792]\n",
      " [-0.59087767]\n",
      " [ 0.3445158 ]\n",
      " [-0.50848117]]\n"
     ]
    }
   ],
   "source": [
    "print('Normalized Training Example 1: \\n', X_poly[0][:, np.newaxis])"
   ]
  },
  {
   "cell_type": "markdown",
   "metadata": {},
   "source": [
    "### Learning Polynomial Regression"
   ]
  },
  {
   "cell_type": "code",
   "execution_count": 42,
   "metadata": {},
   "outputs": [
    {
     "name": "stdout",
     "output_type": "stream",
     "text": [
      "Warning: Maximum number of iterations has been exceeded.\n",
      "         Current function value: 0.184737\n",
      "         Iterations: 100\n",
      "         Function evaluations: 189\n",
      "         Gradient evaluations: 189\n"
     ]
    }
   ],
   "source": [
    "# =========== Part 7: Learning Curve for Polynomial Regression =============\n",
    "# Now, we get to experiment polynomial regression with multiple values of lambda. The default presented below is\n",
    "# lambda = 0. Try running the code with different values of lambda to see how the fit and learning curve change.\n",
    "lambd = 0;\n",
    "theta = trainLinearReg(X_poly, y, lambd);"
   ]
  },
  {
   "cell_type": "code",
   "execution_count": 43,
   "metadata": {
    "scrolled": false
   },
   "outputs": [
    {
     "data": {
      "text/plain": [
       "array([ 11.20532537,  11.64463264,  13.1238112 ,   9.51465344,\n",
       "        -6.91637731, -10.13639291,   2.67018185,  -0.706573  ,\n",
       "        -5.0134201 ])"
      ]
     },
     "execution_count": 43,
     "metadata": {},
     "output_type": "execute_result"
    }
   ],
   "source": [
    "# This output of theta is slightly different from MATLAB \n",
    "# and is caused by the computation accuracy performed by each platform\n",
    "theta"
   ]
  },
  {
   "cell_type": "code",
   "execution_count": 44,
   "metadata": {},
   "outputs": [],
   "source": [
    "def plotFit(min_x, max_x, mu, sigma, theta, p):\n",
    "    x = np.arange(min_x-15, max_x+25, 0.05)\n",
    "    \n",
    "    # Transform into m x 1\n",
    "    x = x[:, np.newaxis]\n",
    "    \n",
    "    # Map the x values \n",
    "    x_poly = polyFeatures(x, p)\n",
    "    x_poly = x_poly- mu\n",
    "    x_poly = x_poly/ sigma\n",
    "    \n",
    "    # Add ones\n",
    "    x_poly = np.insert(x_poly, 0, 1, axis=1)\n",
    "    \n",
    "    # Plot\n",
    "    plt.plot(x, x_poly @ theta, '--', lw=2)"
   ]
  },
  {
   "cell_type": "code",
   "execution_count": 45,
   "metadata": {},
   "outputs": [
    {
     "data": {
      "text/plain": [
       "(array([-5.08542635e+00,  8.48904834e+02, -1.28290173e+04,  1.28967789e+06,\n",
       "        -2.98314592e+07,  2.29330301e+09, -6.84527284e+10,  4.42233759e+12]),\n",
       " array([2.99644020e+01, 7.87889103e+02, 4.81896178e+04, 1.73490431e+06,\n",
       "        9.39392040e+07, 3.85345373e+09, 1.97934705e+11, 8.68896800e+12]))"
      ]
     },
     "execution_count": 45,
     "metadata": {},
     "output_type": "execute_result"
    }
   ],
   "source": [
    "mu, sigma"
   ]
  },
  {
   "cell_type": "code",
   "execution_count": 46,
   "metadata": {
    "scrolled": false
   },
   "outputs": [
    {
     "data": {
      "image/png": "[encoded data removed]",
      "text/plain": [
       "<Figure size 504x360 with 1 Axes>"
      ]
     },
     "metadata": {
      "needs_background": "light"
     },
     "output_type": "display_data"
    }
   ],
   "source": [
    "# 1st Figure\n",
    "# Plot training data and fit\n",
    "plt.figure(figsize=(7, 5))\n",
    "plt.plot(X, y, 'rx', markersize=10, lw=1.5)\n",
    "plotFit(min(X), max(X), mu, sigma, theta, p)\n",
    "plt.xlabel('Change in water level (x)', fontsize=12)\n",
    "plt.ylabel('Water flowing out of the dam (y)', fontsize=12)\n",
    "plt.title('Polynomial Regression Fit (lambda = %f)' %lambd, fontsize=15)\n",
    "plt.show()"
   ]
  },
  {
   "cell_type": "code",
   "execution_count": 47,
   "metadata": {
    "scrolled": true
   },
   "outputs": [
    {
     "name": "stdout",
     "output_type": "stream",
     "text": [
      "Optimization terminated successfully.\n",
      "         Current function value: 0.000000\n",
      "         Iterations: 2\n",
      "         Function evaluations: 4\n",
      "         Gradient evaluations: 4\n",
      "Optimization terminated successfully.\n",
      "         Current function value: 0.000000\n",
      "         Iterations: 3\n",
      "         Function evaluations: 6\n",
      "         Gradient evaluations: 6\n",
      "Optimization terminated successfully.\n",
      "         Current function value: 0.000000\n",
      "         Iterations: 11\n",
      "         Function evaluations: 22\n",
      "         Gradient evaluations: 22\n",
      "Optimization terminated successfully.\n",
      "         Current function value: 0.000000\n",
      "         Iterations: 7\n",
      "         Function evaluations: 18\n",
      "         Gradient evaluations: 18\n",
      "Warning: Maximum number of iterations has been exceeded.\n",
      "         Current function value: 0.000000\n",
      "         Iterations: 100\n",
      "         Function evaluations: 174\n",
      "         Gradient evaluations: 174\n",
      "Warning: Maximum number of iterations has been exceeded.\n",
      "         Current function value: 0.000001\n",
      "         Iterations: 100\n",
      "         Function evaluations: 184\n",
      "         Gradient evaluations: 184\n",
      "Warning: Maximum number of iterations has been exceeded.\n",
      "         Current function value: 0.000002\n",
      "         Iterations: 100\n",
      "         Function evaluations: 186\n",
      "         Gradient evaluations: 186\n",
      "Warning: Maximum number of iterations has been exceeded.\n",
      "         Current function value: 0.003173\n",
      "         Iterations: 100\n",
      "         Function evaluations: 187\n",
      "         Gradient evaluations: 187\n",
      "Warning: Maximum number of iterations has been exceeded.\n",
      "         Current function value: 0.194752\n",
      "         Iterations: 100\n",
      "         Function evaluations: 180\n",
      "         Gradient evaluations: 180\n",
      "Warning: Maximum number of iterations has been exceeded.\n",
      "         Current function value: 0.153588\n",
      "         Iterations: 100\n",
      "         Function evaluations: 184\n",
      "         Gradient evaluations: 184\n",
      "Warning: Maximum number of iterations has been exceeded.\n",
      "         Current function value: 0.038375\n",
      "         Iterations: 100\n",
      "         Function evaluations: 220\n",
      "         Gradient evaluations: 220\n",
      "Warning: Maximum number of iterations has been exceeded.\n",
      "         Current function value: 0.184737\n",
      "         Iterations: 100\n",
      "         Function evaluations: 189\n",
      "         Gradient evaluations: 189\n"
     ]
    }
   ],
   "source": [
    "# 2nd Figure\n",
    "error_train, error_val = learningCurve(X_poly, y, X_poly_val, yval, 0)"
   ]
  },
  {
   "cell_type": "code",
   "execution_count": 48,
   "metadata": {
    "scrolled": false
   },
   "outputs": [
    {
     "data": {
      "image/png": "[encoded data removed]",
      "text/plain": [
       "<Figure size 504x360 with 1 Axes>"
      ]
     },
     "metadata": {
      "needs_background": "light"
     },
     "output_type": "display_data"
    }
   ],
   "source": [
    "# The resulting figure may differ from MATLAB result,\n",
    "# this is due to precision accuracy of scipy.optimize.fmin_cg\n",
    "plt.figure(figsize=(7, 5))\n",
    "\n",
    "num_train = range(m)\n",
    "errors = [error_train, error_val]\n",
    "labels = ['Train', 'Cross Validation']\n",
    "\n",
    "for err_val, label in zip(errors, labels):\n",
    "    plt.plot(num_train, err_val, label=label)\n",
    "\n",
    "\n",
    "plt.xlabel('Number of training examples', fontsize=12)\n",
    "plt.ylabel('Error', fontsize=12)\n",
    "plt.title('Polynomial Regression Learning Curve (lambda = %f)' %lambd, fontsize=15)\n",
    "plt.xlim([0, 13])\n",
    "plt.ylim([0, 100])\n",
    "plt.legend()\n",
    "plt.show()"
   ]
  },
  {
   "cell_type": "code",
   "execution_count": 49,
   "metadata": {
    "scrolled": true
   },
   "outputs": [
    {
     "name": "stdout",
     "output_type": "stream",
     "text": [
      "Polynomial Regression (lambda = 0.000) \n",
      "\n",
      "Training Examples\t Train Error\t Cross Validation Error\n",
      "0 \t\t\t 0.000000 \t 160.721900\n",
      "1 \t\t\t 0.000000 \t 160.121510\n",
      "2 \t\t\t 0.000000 \t 61.755005\n",
      "3 \t\t\t 0.000000 \t 61.928895\n",
      "4 \t\t\t 0.000000 \t 6.600266\n",
      "5 \t\t\t 0.000001 \t 10.632695\n",
      "6 \t\t\t 0.000002 \t 27.766772\n",
      "7 \t\t\t 0.003173 \t 16.460591\n",
      "8 \t\t\t 0.194752 \t 8.760152\n",
      "9 \t\t\t 0.153588 \t 9.844980\n",
      "10 \t\t\t 0.038375 \t 25.958924\n",
      "11 \t\t\t 0.184737 \t 21.004481\n"
     ]
    }
   ],
   "source": [
    "print('Polynomial Regression (lambda = %.3f) \\n' %lambd)\n",
    "print('Training Examples\\t Train Error\\t Cross Validation Error')\n",
    "for i in range(m):\n",
    "    print('%d \\t\\t\\t %f \\t %f' %(i, error_train[i, 0], error_val[i, 0]))"
   ]
  },
  {
   "cell_type": "markdown",
   "metadata": {},
   "source": [
    "### Selecting λ using a cross validation set\n",
    "You will now implement validationCurve to test various values of lambda on a validation set, then use this to select the \"best\" lambda value."
   ]
  },
  {
   "cell_type": "code",
   "execution_count": 50,
   "metadata": {},
   "outputs": [],
   "source": [
    "def validationCurve(X, y, Xval, yval):\n",
    "    #  Selected values of lambda (you should not change this)\n",
    "    lambda_vec = np.array([0, 0.001, 0.003, 0.01, 0.03, 0.1, 0.3, 1, 3, 10])\n",
    "    \n",
    "    # Initialize variable for error\n",
    "    error_train = np.zeros([len(lambda_vec), 1])\n",
    "    error_val = np.zeros([len(lambda_vec), 1])\n",
    "    \n",
    "    for i in range(len(lambda_vec)):\n",
    "        lambd = lambda_vec[i]\n",
    "        theta = trainLinearReg(X, y, lambd)[:, np.newaxis]\n",
    "\n",
    "        error_train[i] = linearRegCostFunction(X, y, theta, 0)[0]\n",
    "        error_val[i] = linearRegCostFunction(Xval, yval, theta, 0)[0]\n",
    "        \n",
    "    return lambda_vec, error_train, error_val"
   ]
  },
  {
   "cell_type": "code",
   "execution_count": 51,
   "metadata": {},
   "outputs": [
    {
     "name": "stdout",
     "output_type": "stream",
     "text": [
      "Warning: Maximum number of iterations has been exceeded.\n",
      "         Current function value: 0.184737\n",
      "         Iterations: 100\n",
      "         Function evaluations: 189\n",
      "         Gradient evaluations: 189\n",
      "Warning: Maximum number of iterations has been exceeded.\n",
      "         Current function value: 0.189239\n",
      "         Iterations: 100\n",
      "         Function evaluations: 193\n",
      "         Gradient evaluations: 193\n",
      "Warning: Maximum number of iterations has been exceeded.\n",
      "         Current function value: 0.250683\n",
      "         Iterations: 100\n",
      "         Function evaluations: 190\n",
      "         Gradient evaluations: 190\n",
      "Optimization terminated successfully.\n",
      "         Current function value: 0.385063\n",
      "         Iterations: 99\n",
      "         Function evaluations: 190\n",
      "         Gradient evaluations: 190\n",
      "Warning: Maximum number of iterations has been exceeded.\n",
      "         Current function value: 0.669275\n",
      "         Iterations: 100\n",
      "         Function evaluations: 186\n",
      "         Gradient evaluations: 186\n",
      "Optimization terminated successfully.\n",
      "         Current function value: 1.443470\n",
      "         Iterations: 59\n",
      "         Function evaluations: 114\n",
      "         Gradient evaluations: 114\n",
      "Optimization terminated successfully.\n",
      "         Current function value: 3.101591\n",
      "         Iterations: 43\n",
      "         Function evaluations: 79\n",
      "         Gradient evaluations: 79\n",
      "Optimization terminated successfully.\n",
      "         Current function value: 7.268148\n",
      "         Iterations: 32\n",
      "         Function evaluations: 51\n",
      "         Gradient evaluations: 51\n",
      "Optimization terminated successfully.\n",
      "         Current function value: 15.867688\n",
      "         Iterations: 27\n",
      "         Function evaluations: 47\n",
      "         Gradient evaluations: 47\n",
      "Optimization terminated successfully.\n",
      "         Current function value: 33.372203\n",
      "         Iterations: 14\n",
      "         Function evaluations: 27\n",
      "         Gradient evaluations: 27\n"
     ]
    }
   ],
   "source": [
    "lambda_vec, error_train, error_val = validationCurve(X_poly, y, X_poly_val, yval)"
   ]
  },
  {
   "cell_type": "code",
   "execution_count": 52,
   "metadata": {
    "scrolled": false
   },
   "outputs": [
    {
     "data": {
      "image/png": "[encoded data removed]",
      "text/plain": [
       "<Figure size 504x360 with 1 Axes>"
      ]
     },
     "metadata": {
      "needs_background": "light"
     },
     "output_type": "display_data"
    }
   ],
   "source": [
    "plt.figure(figsize=(7, 5))\n",
    "plt.plot(lambda_vec, error_train, lambda_vec, error_val)\n",
    "plt.legend(('Train', 'Cross Validation'))\n",
    "plt.xlabel('lambda', fontsize=12)\n",
    "plt.ylabel('Error', fontsize=12)\n",
    "plt.show()"
   ]
  },
  {
   "cell_type": "code",
   "execution_count": 53,
   "metadata": {
    "scrolled": false
   },
   "outputs": [
    {
     "name": "stdout",
     "output_type": "stream",
     "text": [
      "Lambda\t\t Train Error\t Cross Validation Error\n",
      "0.000 \t\t 0.184737 \t 21.004481\n",
      "0.001 \t\t 0.155490 \t 18.619790\n",
      "0.003 \t\t 0.178940 \t 17.456723\n",
      "0.010 \t\t 0.221491 \t 16.941881\n",
      "0.030 \t\t 0.281872 \t 12.840309\n",
      "0.100 \t\t 0.459319 \t 7.587072\n",
      "0.300 \t\t 0.921756 \t 4.636835\n",
      "1.000 \t\t 2.076188 \t 4.260631\n",
      "3.000 \t\t 4.901348 \t 3.822899\n",
      "10.000 \t\t 16.092210 \t 9.945504\n"
     ]
    }
   ],
   "source": [
    "print('Lambda\\t\\t Train Error\\t Cross Validation Error')\n",
    "for i in range(len(lambda_vec)):\n",
    "    print('%.3f \\t\\t %f \\t %f' %(lambda_vec[i], error_train[i], error_val[i]))"
   ]
  }
 ],
 "metadata": {
  "kernelspec": {
   "display_name": "Python 3",
   "language": "python",
   "name": "python3"
  },
  "language_info": {
   "codemirror_mode": {
    "name": "ipython",
    "version": 3
   },
   "file_extension": ".py",
   "mimetype": "text/x-python",
   "name": "python",
   "nbconvert_exporter": "python",
   "pygments_lexer": "ipython3",
   "version": "3.7.3"
  }
 },
 "nbformat": 4,
 "nbformat_minor": 2
}
