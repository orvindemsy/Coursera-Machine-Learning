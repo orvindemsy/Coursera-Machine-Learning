{
 "cells": [
  {
   "cell_type": "markdown",
   "metadata": {},
   "source": [
    "# Exercise 3 Neural Network\n",
    "\n",
    "In this part of the exercise, you will implement a neural network to recognize handwritten digits using the same training set as before. The neural network will be able to represent complex models that form non-linear hypotheses. For this week, you will be using parameters from a neural network that we have already trained"
   ]
  },
  {
   "cell_type": "code",
   "execution_count": 2,
   "metadata": {},
   "outputs": [],
   "source": [
    "import numpy as np\n",
    "import pandas as pd\n",
    "import matplotlib.pyplot as plt\n",
    "import scipy.io as sio\n",
    "from pandas import DataFrame as dframe"
   ]
  },
  {
   "cell_type": "code",
   "execution_count": 3,
   "metadata": {},
   "outputs": [],
   "source": [
    "# =========== Part 1: Loading and Visualizing Data =============\n",
    "data = sio.loadmat('ex3data1.mat')\n",
    "weight = sio.loadmat('ex3weights.mat')"
   ]
  },
  {
   "cell_type": "code",
   "execution_count": 4,
   "metadata": {},
   "outputs": [
    {
     "data": {
      "text/plain": [
       "(dict_keys(['__header__', '__version__', '__globals__', 'X', 'y']),\n",
       " dict_keys(['__header__', '__version__', '__globals__', 'Theta1', 'Theta2']))"
      ]
     },
     "execution_count": 4,
     "metadata": {},
     "output_type": "execute_result"
    }
   ],
   "source": [
    "data.keys(), weight.keys()"
   ]
  },
  {
   "cell_type": "code",
   "execution_count": 5,
   "metadata": {},
   "outputs": [],
   "source": [
    "# Storing training data to X and y\n",
    "X = data['X']\n",
    "y = data['y']\n",
    "m = len(X)"
   ]
  },
  {
   "cell_type": "code",
   "execution_count": 6,
   "metadata": {},
   "outputs": [],
   "source": [
    "# As usual add bias term\n",
    "X = np.insert(X, 0, 1, axis=1)"
   ]
  },
  {
   "cell_type": "code",
   "execution_count": 7,
   "metadata": {},
   "outputs": [
    {
     "data": {
      "text/plain": [
       "((5000, 401), (5000, 1))"
      ]
     },
     "execution_count": 7,
     "metadata": {},
     "output_type": "execute_result"
    }
   ],
   "source": [
    "X.shape, y.shape"
   ]
  },
  {
   "cell_type": "markdown",
   "metadata": {},
   "source": [
    "## Model representation"
   ]
  },
  {
   "cell_type": "markdown",
   "metadata": {},
   "source": [
    "![nn_model](./img/nn_model.png)"
   ]
  },
  {
   "cell_type": "code",
   "execution_count": 11,
   "metadata": {},
   "outputs": [],
   "source": [
    "#  ================ Part 2: Loading Pameters ================\n",
    "# In this part of the exercise, we load some pre-initialized neural network parameters.\n",
    "theta1 = weight['Theta1']\n",
    "theta2 = weight['Theta2']"
   ]
  },
  {
   "cell_type": "code",
   "execution_count": 12,
   "metadata": {
    "scrolled": true
   },
   "outputs": [
    {
     "data": {
      "text/plain": [
       "((25, 401), (10, 26))"
      ]
     },
     "execution_count": 12,
     "metadata": {},
     "output_type": "execute_result"
    }
   ],
   "source": [
    "theta1.shape, theta2.shape"
   ]
  },
  {
   "cell_type": "code",
   "execution_count": 13,
   "metadata": {},
   "outputs": [],
   "source": [
    "def sigmoid(z):\n",
    "    sig = 1/(1+np.exp(-z))\n",
    "    return sig"
   ]
  },
  {
   "attachments": {},
   "cell_type": "markdown",
   "metadata": {},
   "source": [
    "## Feedforward Propagation and Prediction\n",
    "You should implement the feedforward computation that computes $h_\\theta(x^{(i)})$ for every example i and returns the associated predictions. Similar to the one-vs-all classification strategy, the prediction from the neural network will\n",
    "be the label that has the largest output $(h_\\theta(x))_k$"
   ]
  },
  {
   "cell_type": "code",
   "execution_count": 14,
   "metadata": {},
   "outputs": [],
   "source": [
    "# ================= Part 3: Implement Predict =================\n",
    "def predict(theta1, theta2, X):\n",
    "    '''\n",
    "    predict will return the neural network's prediction.\n",
    "    Note that the argument passed as X should already has bias term\n",
    "    theta1 and theta2 corresponds to parameters for second/hiden layer and third/output layer\n",
    "    '''\n",
    "    # Necessary variable\n",
    "    m = X.shape[0]\n",
    "    \n",
    "    # 1st -> 2nd layer\n",
    "    # input to hidden layer\n",
    "    z2 = X@theta1.T # 5000 x 401 @ 401 x 25, where p is input to second layer (hidden layer)\n",
    "    z2 = sigmoid(z2) # 5000 x 25\n",
    "    \n",
    "    \n",
    "    # Add bias term to z2\n",
    "    z2 = np.insert(z2, 0, 1, axis=1) # 5000 x 26\n",
    "    \n",
    "    # 2nd -> 3rd layer\n",
    "    # hidden to output layer\n",
    "    z3 = z2@theta2.T # 5000 x 26 @ 26 x 10\n",
    "    z3 = sigmoid(z3)\n",
    "    \n",
    "    pred = np.argmax(z3, axis=1)\n",
    "    pred = pred+1    \n",
    "    \n",
    "    return pred"
   ]
  },
  {
   "cell_type": "code",
   "execution_count": 15,
   "metadata": {},
   "outputs": [],
   "source": [
    "pred = predict(theta1, theta2, X)"
   ]
  },
  {
   "cell_type": "code",
   "execution_count": 16,
   "metadata": {},
   "outputs": [
    {
     "data": {
      "text/html": [
       "<div>\n",
       "<style scoped>\n",
       "    .dataframe tbody tr th:only-of-type {\n",
       "        vertical-align: middle;\n",
       "    }\n",
       "\n",
       "    .dataframe tbody tr th {\n",
       "        vertical-align: top;\n",
       "    }\n",
       "\n",
       "    .dataframe thead th {\n",
       "        text-align: right;\n",
       "    }\n",
       "</style>\n",
       "<table border=\"1\" class=\"dataframe\">\n",
       "  <thead>\n",
       "    <tr style=\"text-align: right;\">\n",
       "      <th></th>\n",
       "      <th>0</th>\n",
       "    </tr>\n",
       "  </thead>\n",
       "  <tbody>\n",
       "    <tr>\n",
       "      <th>0</th>\n",
       "      <td>10</td>\n",
       "    </tr>\n",
       "    <tr>\n",
       "      <th>1</th>\n",
       "      <td>10</td>\n",
       "    </tr>\n",
       "    <tr>\n",
       "      <th>2</th>\n",
       "      <td>10</td>\n",
       "    </tr>\n",
       "    <tr>\n",
       "      <th>3</th>\n",
       "      <td>10</td>\n",
       "    </tr>\n",
       "    <tr>\n",
       "      <th>4</th>\n",
       "      <td>10</td>\n",
       "    </tr>\n",
       "    <tr>\n",
       "      <th>...</th>\n",
       "      <td>...</td>\n",
       "    </tr>\n",
       "    <tr>\n",
       "      <th>4995</th>\n",
       "      <td>9</td>\n",
       "    </tr>\n",
       "    <tr>\n",
       "      <th>4996</th>\n",
       "      <td>9</td>\n",
       "    </tr>\n",
       "    <tr>\n",
       "      <th>4997</th>\n",
       "      <td>9</td>\n",
       "    </tr>\n",
       "    <tr>\n",
       "      <th>4998</th>\n",
       "      <td>9</td>\n",
       "    </tr>\n",
       "    <tr>\n",
       "      <th>4999</th>\n",
       "      <td>9</td>\n",
       "    </tr>\n",
       "  </tbody>\n",
       "</table>\n",
       "<p>5000 rows × 1 columns</p>\n",
       "</div>"
      ],
      "text/plain": [
       "       0\n",
       "0     10\n",
       "1     10\n",
       "2     10\n",
       "3     10\n",
       "4     10\n",
       "...   ..\n",
       "4995   9\n",
       "4996   9\n",
       "4997   9\n",
       "4998   9\n",
       "4999   9\n",
       "\n",
       "[5000 rows x 1 columns]"
      ]
     },
     "execution_count": 16,
     "metadata": {},
     "output_type": "execute_result"
    }
   ],
   "source": [
    "dframe(pred)"
   ]
  },
  {
   "cell_type": "code",
   "execution_count": 17,
   "metadata": {},
   "outputs": [],
   "source": [
    "acc = np.sum((pred==y.flatten())*1/len(pred))*100"
   ]
  },
  {
   "cell_type": "code",
   "execution_count": 18,
   "metadata": {
    "scrolled": false
   },
   "outputs": [
    {
     "name": "stdout",
     "output_type": "stream",
     "text": [
      "Training Set Accuracy 97.52000000000001\n"
     ]
    }
   ],
   "source": [
    "print('Training Set Accuracy', acc)"
   ]
  },
  {
   "cell_type": "code",
   "execution_count": 19,
   "metadata": {},
   "outputs": [],
   "source": [
    "def displayImage(X):\n",
    "    '''\n",
    "    Note that the argument passed as X should already has bias term, shape: 5000 x 401\n",
    "    '''\n",
    "    (m, n) = X.shape\n",
    "    \n",
    "    rp = np.random.randint(m)\n",
    "    \n",
    "    Xdraw = X[rp]\n",
    "    Xdraw = Xdraw[np.newaxis, :]\n",
    "    \n",
    "    pred = int(predict(theta1, theta2, Xdraw))\n",
    "    \n",
    "    if pred == 10:\n",
    "        pred = 0\n",
    "    \n",
    "    # ========= Drawing image ================\n",
    "    # Bias term is remove when drawing an image\n",
    "    if (Xdraw[:, 0].all()):\n",
    "        Xdraw = np.delete(Xdraw, 0, axis=1) \n",
    "        \n",
    "    # Drawing an image\n",
    "    width = int(np.sqrt(n))\n",
    "    height = int(n/width)\n",
    "    \n",
    "    # Pic\n",
    "    pic = Xdraw.reshape(width, height, order='F')\n",
    "    \n",
    "    plt.figure(figsize=(7, 5))\n",
    "    plt.title('Neural Network Predicted as: %i' %pred)\n",
    "    plt.imshow(pic, cmap='gray', interpolation='none')\n",
    "    plt.axis('off')\n",
    "    plt.show()\n",
    "    \n",
    "    return pred"
   ]
  },
  {
   "cell_type": "code",
   "execution_count": 20,
   "metadata": {},
   "outputs": [
    {
     "data": {
      "image/png": "[encoded data removed]",
      "text/plain": [
       "<Figure size 504x360 with 1 Axes>"
      ]
     },
     "metadata": {
      "needs_background": "light"
     },
     "output_type": "display_data"
    }
   ],
   "source": [
    "p = displayImage(X)"
   ]
  }
 ],
 "metadata": {
  "kernelspec": {
   "display_name": "Python 3",
   "language": "python",
   "name": "python3"
  },
  "language_info": {
   "codemirror_mode": {
    "name": "ipython",
    "version": 3
   },
   "file_extension": ".py",
   "mimetype": "text/x-python",
   "name": "python",
   "nbconvert_exporter": "python",
   "pygments_lexer": "ipython3",
   "version": "3.7.3"
  }
 },
 "nbformat": 4,
 "nbformat_minor": 2
}
