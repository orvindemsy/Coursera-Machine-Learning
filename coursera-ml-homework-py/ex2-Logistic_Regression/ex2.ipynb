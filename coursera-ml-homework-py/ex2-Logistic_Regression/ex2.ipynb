{
 "cells": [
  {
   "cell_type": "markdown",
   "metadata": {},
   "source": [
    "# Exercise 2\n",
    "Coursera - Machine Learning <br>\n",
    "Andrew Ng"
   ]
  },
  {
   "cell_type": "markdown",
   "metadata": {},
   "source": [
    "# Logistic Regression"
   ]
  },
  {
   "cell_type": "markdown",
   "metadata": {},
   "source": [
    "## Visualizing the data"
   ]
  },
  {
   "cell_type": "code",
   "execution_count": 37,
   "metadata": {},
   "outputs": [],
   "source": [
    "import numpy as np\n",
    "import pandas as pd\n",
    "import matplotlib.pyplot as plt"
   ]
  },
  {
   "cell_type": "code",
   "execution_count": 101,
   "metadata": {},
   "outputs": [],
   "source": [
    "# ==================== Part 1: Plotting ====================\n",
    "# Set number of significant figures to show\n",
    "np.set_printoptions(precision=5)"
   ]
  },
  {
   "cell_type": "code",
   "execution_count": 39,
   "metadata": {
    "scrolled": true
   },
   "outputs": [
    {
     "data": {
      "text/plain": [
       "array([[34.62366, 78.02469,  0.     ],\n",
       "       [30.28671, 43.895  ,  0.     ],\n",
       "       [35.84741, 72.9022 ,  0.     ],\n",
       "       [60.1826 , 86.30855,  1.     ],\n",
       "       [79.03274, 75.34438,  1.     ],\n",
       "       [45.08328, 56.31637,  0.     ],\n",
       "       [61.10666, 96.51143,  1.     ],\n",
       "       [75.02475, 46.55401,  1.     ],\n",
       "       [76.09879, 87.42057,  1.     ],\n",
       "       [84.43282, 43.53339,  1.     ],\n",
       "       [95.86156, 38.22528,  0.     ],\n",
       "       [75.01366, 30.60326,  0.     ],\n",
       "       [82.30705, 76.48196,  1.     ],\n",
       "       [69.36459, 97.71869,  1.     ],\n",
       "       [39.53834, 76.03681,  0.     ],\n",
       "       [53.97105, 89.20735,  1.     ],\n",
       "       [69.07014, 52.74047,  1.     ],\n",
       "       [67.94686, 46.67857,  0.     ],\n",
       "       [70.66151, 92.92714,  1.     ],\n",
       "       [76.97878, 47.57596,  1.     ],\n",
       "       [67.37203, 42.83844,  0.     ],\n",
       "       [89.67678, 65.79937,  1.     ],\n",
       "       [50.53479, 48.85581,  0.     ],\n",
       "       [34.21206, 44.20953,  0.     ],\n",
       "       [77.92409, 68.97236,  1.     ],\n",
       "       [62.27101, 69.95446,  1.     ],\n",
       "       [80.19018, 44.82163,  1.     ],\n",
       "       [93.11439, 38.80067,  0.     ],\n",
       "       [61.83021, 50.25611,  0.     ],\n",
       "       [38.7858 , 64.99568,  0.     ],\n",
       "       [61.37929, 72.80789,  1.     ],\n",
       "       [85.40452, 57.05198,  1.     ],\n",
       "       [52.10798, 63.12762,  0.     ],\n",
       "       [52.0454 , 69.43286,  1.     ],\n",
       "       [40.23689, 71.16775,  0.     ],\n",
       "       [54.63511, 52.21389,  0.     ],\n",
       "       [33.9155 , 98.86944,  0.     ],\n",
       "       [64.17699, 80.90806,  1.     ],\n",
       "       [74.78925, 41.57342,  0.     ],\n",
       "       [34.18364, 75.23772,  0.     ],\n",
       "       [83.90239, 56.30805,  1.     ],\n",
       "       [51.54772, 46.85629,  0.     ],\n",
       "       [94.44337, 65.56892,  1.     ],\n",
       "       [82.36875, 40.61826,  0.     ],\n",
       "       [51.04775, 45.8227 ,  0.     ],\n",
       "       [62.22268, 52.06099,  0.     ],\n",
       "       [77.19303, 70.4582 ,  1.     ],\n",
       "       [97.7716 , 86.72782,  1.     ],\n",
       "       [62.07306, 96.76882,  1.     ],\n",
       "       [91.56497, 88.69629,  1.     ],\n",
       "       [79.94482, 74.16312,  1.     ],\n",
       "       [99.27253, 60.99903,  1.     ],\n",
       "       [90.54671, 43.3906 ,  1.     ],\n",
       "       [34.52451, 60.39634,  0.     ],\n",
       "       [50.2865 , 49.80454,  0.     ],\n",
       "       [49.58668, 59.80895,  0.     ],\n",
       "       [97.64563, 68.86157,  1.     ],\n",
       "       [32.5772 , 95.59855,  0.     ],\n",
       "       [74.24869, 69.82457,  1.     ],\n",
       "       [71.79646, 78.45356,  1.     ],\n",
       "       [75.39561, 85.75994,  1.     ],\n",
       "       [35.28611, 47.02051,  0.     ],\n",
       "       [56.25382, 39.26147,  0.     ],\n",
       "       [30.05882, 49.59297,  0.     ],\n",
       "       [44.66826, 66.45009,  0.     ],\n",
       "       [66.56089, 41.0921 ,  0.     ],\n",
       "       [40.45755, 97.53519,  1.     ],\n",
       "       [49.07256, 51.88321,  0.     ],\n",
       "       [80.27957, 92.11606,  1.     ],\n",
       "       [66.74672, 60.99139,  1.     ],\n",
       "       [32.72283, 43.30717,  0.     ],\n",
       "       [64.03932, 78.03169,  1.     ],\n",
       "       [72.34649, 96.22759,  1.     ],\n",
       "       [60.45789, 73.095  ,  1.     ],\n",
       "       [58.84096, 75.85845,  1.     ],\n",
       "       [99.82786, 72.36925,  1.     ],\n",
       "       [47.26427, 88.47586,  1.     ],\n",
       "       [50.45816, 75.80986,  1.     ],\n",
       "       [60.45556, 42.50841,  0.     ],\n",
       "       [82.22666, 42.71988,  0.     ],\n",
       "       [88.9139 , 69.80379,  1.     ],\n",
       "       [94.83451, 45.69431,  1.     ],\n",
       "       [67.31926, 66.58935,  1.     ],\n",
       "       [57.23871, 59.51428,  1.     ],\n",
       "       [80.36676, 90.96015,  1.     ],\n",
       "       [68.46852, 85.59431,  1.     ],\n",
       "       [42.07545, 78.84479,  0.     ],\n",
       "       [75.4777 , 90.42454,  1.     ],\n",
       "       [78.63542, 96.64743,  1.     ],\n",
       "       [52.348  , 60.76951,  0.     ],\n",
       "       [94.09433, 77.15911,  1.     ],\n",
       "       [90.44855, 87.50879,  1.     ],\n",
       "       [55.48216, 35.5707 ,  0.     ],\n",
       "       [74.49269, 84.84514,  1.     ],\n",
       "       [89.84581, 45.35828,  1.     ],\n",
       "       [83.48916, 48.38029,  1.     ],\n",
       "       [42.2617 , 87.10385,  1.     ],\n",
       "       [99.31501, 68.77541,  1.     ],\n",
       "       [55.34002, 64.93194,  1.     ],\n",
       "       [74.77589, 89.52981,  1.     ]])"
      ]
     },
     "execution_count": 39,
     "metadata": {},
     "output_type": "execute_result"
    }
   ],
   "source": [
    "# As alternative to pd.read_csv, np.loadtxt can be used to upload .txt data\n",
    "data = np.loadtxt('ex2data1.txt', delimiter = ',')\n",
    "data"
   ]
  },
  {
   "cell_type": "code",
   "execution_count": 40,
   "metadata": {},
   "outputs": [
    {
     "data": {
      "text/plain": [
       "dtype('float64')"
      ]
     },
     "execution_count": 40,
     "metadata": {},
     "output_type": "execute_result"
    }
   ],
   "source": [
    "# Data type of data\n",
    "data.dtype"
   ]
  },
  {
   "cell_type": "code",
   "execution_count": 41,
   "metadata": {},
   "outputs": [],
   "source": [
    "X = data[:, :2]\n",
    "y = data[:, 2]"
   ]
  },
  {
   "cell_type": "code",
   "execution_count": 42,
   "metadata": {},
   "outputs": [],
   "source": [
    "# Find indices of positive and negative example\n",
    "# (student who got admitted and not admitted)\n",
    "pos = np.nonzero(y)\n",
    "neg = np.where(y==0)"
   ]
  },
  {
   "cell_type": "code",
   "execution_count": 43,
   "metadata": {},
   "outputs": [
    {
     "data": {
      "text/plain": [
       "(array([ 3,  4,  6,  7,  8,  9, 12, 13, 15, 16, 18, 19, 21, 24, 25, 26, 30,\n",
       "        31, 33, 37, 40, 42, 46, 47, 48, 49, 50, 51, 52, 56, 58, 59, 60, 66,\n",
       "        68, 69, 71, 72, 73, 74, 75, 76, 77, 80, 81, 82, 83, 84, 85, 87, 88,\n",
       "        90, 91, 93, 94, 95, 96, 97, 98, 99], dtype=int64),)"
      ]
     },
     "execution_count": 43,
     "metadata": {},
     "output_type": "execute_result"
    }
   ],
   "source": [
    "pos"
   ]
  },
  {
   "cell_type": "code",
   "execution_count": 44,
   "metadata": {
    "scrolled": true
   },
   "outputs": [
    {
     "data": {
      "text/plain": [
       "(array([ 0,  1,  2,  5, 10, 11, 14, 17, 20, 22, 23, 27, 28, 29, 32, 34, 35,\n",
       "        36, 38, 39, 41, 43, 44, 45, 53, 54, 55, 57, 61, 62, 63, 64, 65, 67,\n",
       "        70, 78, 79, 86, 89, 92], dtype=int64),)"
      ]
     },
     "execution_count": 44,
     "metadata": {},
     "output_type": "execute_result"
    }
   ],
   "source": [
    "neg"
   ]
  },
  {
   "cell_type": "code",
   "execution_count": 45,
   "metadata": {},
   "outputs": [],
   "source": [
    "# Admitted and Not admitted matrix\n",
    "admit = data[pos, :2]\n",
    "not_admit = data[neg, :2]"
   ]
  },
  {
   "cell_type": "code",
   "execution_count": 46,
   "metadata": {},
   "outputs": [
    {
     "name": "stdout",
     "output_type": "stream",
     "text": [
      "shape of admit:  (1, 60, 2)\n",
      "shape of not_admit:  (1, 40, 2)\n"
     ]
    }
   ],
   "source": [
    "# Check shape of admit and not_admit\n",
    "print(\"shape of admit: \", admit.shape)\n",
    "print(\"shape of not_admit: \", not_admit.shape)"
   ]
  },
  {
   "cell_type": "code",
   "execution_count": 47,
   "metadata": {
    "scrolled": true
   },
   "outputs": [
    {
     "name": "stdout",
     "output_type": "stream",
     "text": [
      "shape of admit:  (60, 2)\n",
      "shape of not_admit:  (40, 2)\n"
     ]
    }
   ],
   "source": [
    "# Convert shape of admit and not_admit to 2 dimension\n",
    "admit = admit.reshape(60, 2)\n",
    "not_admit = not_admit.reshape(40, 2)\n",
    "print(\"shape of admit: \", admit.shape)\n",
    "print(\"shape of not_admit: \", not_admit.shape)"
   ]
  },
  {
   "cell_type": "code",
   "execution_count": 48,
   "metadata": {
    "scrolled": true
   },
   "outputs": [
    {
     "data": {
      "image/png": "[encoded data removed]",
      "text/plain": [
       "<Figure size 576x396 with 1 Axes>"
      ]
     },
     "metadata": {},
     "output_type": "display_data"
    }
   ],
   "source": [
    "# Plotting data\n",
    "plt.style.use('seaborn')\n",
    "adm = plt.scatter(admit[:, 0], admit[:, 1], color='g')\n",
    "not_adm = plt.scatter(not_admit[:, 0], not_admit[:, 1], color='r', marker='x')\n",
    "plt.xlabel('Exam 1 score')\n",
    "plt.ylabel('Exam 2 score')\n",
    "plt.title('1st and 2nd Student Exam Score ')\n",
    "plt.legend((adm, not_adm), (\"Admit\", \"Not Admitted\"))\n",
    "plt.show()\n",
    "# Need to add legend here"
   ]
  },
  {
   "cell_type": "markdown",
   "metadata": {},
   "source": [
    "## Implementation"
   ]
  },
  {
   "cell_type": "markdown",
   "metadata": {},
   "source": [
    "### Sigmoid Function\n",
    "<img src = \"img/sigmoid.jpg\">"
   ]
  },
  {
   "cell_type": "code",
   "execution_count": 49,
   "metadata": {},
   "outputs": [],
   "source": [
    "# Sigmoid function\n",
    "def sigmoid(z):\n",
    "    sig = 1/(1+np.exp(-z))\n",
    "    return sig"
   ]
  },
  {
   "cell_type": "code",
   "execution_count": 50,
   "metadata": {
    "scrolled": true
   },
   "outputs": [
    {
     "name": "stdout",
     "output_type": "stream",
     "text": [
      "m = 100 \n",
      "n = 2\n"
     ]
    }
   ],
   "source": [
    "[m, n] = X.shape\n",
    "print(\"m = %d \\nn = %d\" %(m, n))"
   ]
  },
  {
   "cell_type": "code",
   "execution_count": 51,
   "metadata": {
    "scrolled": true
   },
   "outputs": [
    {
     "data": {
      "text/plain": [
       "array([[ 1.     , 34.62366, 78.02469],\n",
       "       [ 1.     , 30.28671, 43.895  ],\n",
       "       [ 1.     , 35.84741, 72.9022 ],\n",
       "       [ 1.     , 60.1826 , 86.30855],\n",
       "       [ 1.     , 79.03274, 75.34438],\n",
       "       [ 1.     , 45.08328, 56.31637],\n",
       "       [ 1.     , 61.10666, 96.51143],\n",
       "       [ 1.     , 75.02475, 46.55401],\n",
       "       [ 1.     , 76.09879, 87.42057],\n",
       "       [ 1.     , 84.43282, 43.53339],\n",
       "       [ 1.     , 95.86156, 38.22528],\n",
       "       [ 1.     , 75.01366, 30.60326],\n",
       "       [ 1.     , 82.30705, 76.48196],\n",
       "       [ 1.     , 69.36459, 97.71869],\n",
       "       [ 1.     , 39.53834, 76.03681],\n",
       "       [ 1.     , 53.97105, 89.20735],\n",
       "       [ 1.     , 69.07014, 52.74047],\n",
       "       [ 1.     , 67.94686, 46.67857],\n",
       "       [ 1.     , 70.66151, 92.92714],\n",
       "       [ 1.     , 76.97878, 47.57596],\n",
       "       [ 1.     , 67.37203, 42.83844],\n",
       "       [ 1.     , 89.67678, 65.79937],\n",
       "       [ 1.     , 50.53479, 48.85581],\n",
       "       [ 1.     , 34.21206, 44.20953],\n",
       "       [ 1.     , 77.92409, 68.97236],\n",
       "       [ 1.     , 62.27101, 69.95446],\n",
       "       [ 1.     , 80.19018, 44.82163],\n",
       "       [ 1.     , 93.11439, 38.80067],\n",
       "       [ 1.     , 61.83021, 50.25611],\n",
       "       [ 1.     , 38.7858 , 64.99568],\n",
       "       [ 1.     , 61.37929, 72.80789],\n",
       "       [ 1.     , 85.40452, 57.05198],\n",
       "       [ 1.     , 52.10798, 63.12762],\n",
       "       [ 1.     , 52.0454 , 69.43286],\n",
       "       [ 1.     , 40.23689, 71.16775],\n",
       "       [ 1.     , 54.63511, 52.21389],\n",
       "       [ 1.     , 33.9155 , 98.86944],\n",
       "       [ 1.     , 64.17699, 80.90806],\n",
       "       [ 1.     , 74.78925, 41.57342],\n",
       "       [ 1.     , 34.18364, 75.23772],\n",
       "       [ 1.     , 83.90239, 56.30805],\n",
       "       [ 1.     , 51.54772, 46.85629],\n",
       "       [ 1.     , 94.44337, 65.56892],\n",
       "       [ 1.     , 82.36875, 40.61826],\n",
       "       [ 1.     , 51.04775, 45.8227 ],\n",
       "       [ 1.     , 62.22268, 52.06099],\n",
       "       [ 1.     , 77.19303, 70.4582 ],\n",
       "       [ 1.     , 97.7716 , 86.72782],\n",
       "       [ 1.     , 62.07306, 96.76882],\n",
       "       [ 1.     , 91.56497, 88.69629],\n",
       "       [ 1.     , 79.94482, 74.16312],\n",
       "       [ 1.     , 99.27253, 60.99903],\n",
       "       [ 1.     , 90.54671, 43.3906 ],\n",
       "       [ 1.     , 34.52451, 60.39634],\n",
       "       [ 1.     , 50.2865 , 49.80454],\n",
       "       [ 1.     , 49.58668, 59.80895],\n",
       "       [ 1.     , 97.64563, 68.86157],\n",
       "       [ 1.     , 32.5772 , 95.59855],\n",
       "       [ 1.     , 74.24869, 69.82457],\n",
       "       [ 1.     , 71.79646, 78.45356],\n",
       "       [ 1.     , 75.39561, 85.75994],\n",
       "       [ 1.     , 35.28611, 47.02051],\n",
       "       [ 1.     , 56.25382, 39.26147],\n",
       "       [ 1.     , 30.05882, 49.59297],\n",
       "       [ 1.     , 44.66826, 66.45009],\n",
       "       [ 1.     , 66.56089, 41.0921 ],\n",
       "       [ 1.     , 40.45755, 97.53519],\n",
       "       [ 1.     , 49.07256, 51.88321],\n",
       "       [ 1.     , 80.27957, 92.11606],\n",
       "       [ 1.     , 66.74672, 60.99139],\n",
       "       [ 1.     , 32.72283, 43.30717],\n",
       "       [ 1.     , 64.03932, 78.03169],\n",
       "       [ 1.     , 72.34649, 96.22759],\n",
       "       [ 1.     , 60.45789, 73.095  ],\n",
       "       [ 1.     , 58.84096, 75.85845],\n",
       "       [ 1.     , 99.82786, 72.36925],\n",
       "       [ 1.     , 47.26427, 88.47586],\n",
       "       [ 1.     , 50.45816, 75.80986],\n",
       "       [ 1.     , 60.45556, 42.50841],\n",
       "       [ 1.     , 82.22666, 42.71988],\n",
       "       [ 1.     , 88.9139 , 69.80379],\n",
       "       [ 1.     , 94.83451, 45.69431],\n",
       "       [ 1.     , 67.31926, 66.58935],\n",
       "       [ 1.     , 57.23871, 59.51428],\n",
       "       [ 1.     , 80.36676, 90.96015],\n",
       "       [ 1.     , 68.46852, 85.59431],\n",
       "       [ 1.     , 42.07545, 78.84479],\n",
       "       [ 1.     , 75.4777 , 90.42454],\n",
       "       [ 1.     , 78.63542, 96.64743],\n",
       "       [ 1.     , 52.348  , 60.76951],\n",
       "       [ 1.     , 94.09433, 77.15911],\n",
       "       [ 1.     , 90.44855, 87.50879],\n",
       "       [ 1.     , 55.48216, 35.5707 ],\n",
       "       [ 1.     , 74.49269, 84.84514],\n",
       "       [ 1.     , 89.84581, 45.35828],\n",
       "       [ 1.     , 83.48916, 48.38029],\n",
       "       [ 1.     , 42.2617 , 87.10385],\n",
       "       [ 1.     , 99.31501, 68.77541],\n",
       "       [ 1.     , 55.34002, 64.93194],\n",
       "       [ 1.     , 74.77589, 89.52981]])"
      ]
     },
     "execution_count": 51,
     "metadata": {},
     "output_type": "execute_result"
    }
   ],
   "source": [
    "# Add intercept term to X\n",
    "X = np.hstack([np.ones((m, 1)), X])\n",
    "X"
   ]
  },
  {
   "cell_type": "code",
   "execution_count": 52,
   "metadata": {},
   "outputs": [],
   "source": [
    "# Y stil in 1D array, convert into 2D array\n",
    "y = y[:, np.newaxis]"
   ]
  },
  {
   "cell_type": "code",
   "execution_count": 53,
   "metadata": {},
   "outputs": [
    {
     "data": {
      "text/plain": [
       "(100, 1)"
      ]
     },
     "execution_count": 53,
     "metadata": {},
     "output_type": "execute_result"
    }
   ],
   "source": [
    "y.shape"
   ]
  },
  {
   "cell_type": "code",
   "execution_count": 54,
   "metadata": {
    "scrolled": true
   },
   "outputs": [
    {
     "name": "stdout",
     "output_type": "stream",
     "text": [
      "[[0.]\n",
      " [0.]\n",
      " [0.]]\n"
     ]
    }
   ],
   "source": [
    "# Theta matrix\n",
    "initial_theta = np.zeros((n+1, 1))\n",
    "print(initial_theta)"
   ]
  },
  {
   "cell_type": "markdown",
   "metadata": {},
   "source": [
    "### Cost function and gradient descent\n",
    "<img src = \"img/cost-funct-sigmoid.jpg\">\n",
    "<b>And the gradient descent defined as</b>\n",
    "<img src = \"img/grad-descent-sigmoid.jpg\">"
   ]
  },
  {
   "cell_type": "code",
   "execution_count": 55,
   "metadata": {},
   "outputs": [],
   "source": [
    "# ============ Part 2: Compute Cost and Gradient ============\n",
    "# Cost function in logistic regression\n",
    "def costFunction(theta, X, y):\n",
    "    z = np.dot(X, theta)\n",
    "    g_z = sigmoid(z) # Use sigmoid function for hypothesis in logistic regression\n",
    "    \n",
    "    #Cost function\n",
    "    J = 1/m * np.sum([(-y * np.log(g_z))-(1-y)*(np.log(1-g_z))])\n",
    "    \n",
    "    # Grad descent\n",
    "    grad = (X.T).dot((g_z-y)) * 1/m\n",
    "    \n",
    "    return J, grad"
   ]
  },
  {
   "cell_type": "code",
   "execution_count": 56,
   "metadata": {
    "scrolled": true
   },
   "outputs": [
    {
     "name": "stdout",
     "output_type": "stream",
     "text": [
      "Cost function with zero theta: 0.693\n",
      "Grad descent with zero theta:\n",
      " [[ -0.1    ]\n",
      " [-12.00922]\n",
      " [-11.26284]]\n"
     ]
    }
   ],
   "source": [
    "[J1, grad1] = costFunction(initial_theta, X, y)\n",
    "print(\"Cost function with zero theta: %.3f\" %J1)\n",
    "print(\"Grad descent with zero theta:\\n\", grad1)"
   ]
  },
  {
   "cell_type": "code",
   "execution_count": 57,
   "metadata": {},
   "outputs": [
    {
     "data": {
      "text/plain": [
       "(3, 1)"
      ]
     },
     "execution_count": 57,
     "metadata": {},
     "output_type": "execute_result"
    }
   ],
   "source": [
    "grad1.shape"
   ]
  },
  {
   "cell_type": "code",
   "execution_count": 58,
   "metadata": {
    "scrolled": true
   },
   "outputs": [
    {
     "data": {
      "text/plain": [
       "array([[-24. ],\n",
       "       [  0.2],\n",
       "       [  0.2]])"
      ]
     },
     "execution_count": 58,
     "metadata": {},
     "output_type": "execute_result"
    }
   ],
   "source": [
    "# Compute and display cost and gradient with non-zero theta\n",
    "test_theta = np.array([[-24], [0.2], [0.2]])\n",
    "test_theta"
   ]
  },
  {
   "cell_type": "code",
   "execution_count": 59,
   "metadata": {
    "scrolled": true
   },
   "outputs": [
    {
     "name": "stdout",
     "output_type": "stream",
     "text": [
      "Cost function with zero theta: 0.693\n",
      "Grad descent with zero theta:\n",
      " [[ -0.1    ]\n",
      " [-12.00922]\n",
      " [-11.26284]]\n"
     ]
    }
   ],
   "source": [
    "[J2, grad2] = costFunction(test_theta, X, y)\n",
    "print(\"Cost function with zero theta: %.3f\" %J1)\n",
    "print(\"Grad descent with zero theta:\\n\", grad1)"
   ]
  },
  {
   "cell_type": "markdown",
   "metadata": {},
   "source": [
    "### Learning parameters using fminunc"
   ]
  },
  {
   "cell_type": "code",
   "execution_count": 102,
   "metadata": {},
   "outputs": [],
   "source": [
    "# ============= Part 3: Optimizing using fminunc  =============\n",
    "import scipy.optimize as opt"
   ]
  },
  {
   "cell_type": "code",
   "execution_count": 61,
   "metadata": {},
   "outputs": [
    {
     "data": {
      "text/plain": [
       "{'divide': 'ignore', 'over': 'warn', 'under': 'ignore', 'invalid': 'ignore'}"
      ]
     },
     "execution_count": 61,
     "metadata": {},
     "output_type": "execute_result"
    }
   ],
   "source": [
    "# to change the behaviour of numpy's division by zero\n",
    "np.seterr(divide='ignore', invalid='ignore')"
   ]
  },
  {
   "cell_type": "code",
   "execution_count": 62,
   "metadata": {},
   "outputs": [],
   "source": [
    "# fmin_tnc will return tuple with first element is the optimized theta\n",
    "result = opt.fmin_tnc(func=costFunction, \n",
    "                      x0=initial_theta.flatten(),\n",
    "                      args=(X, y.flatten())) "
   ]
  },
  {
   "cell_type": "code",
   "execution_count": 116,
   "metadata": {
    "scrolled": false
   },
   "outputs": [
    {
     "name": "stdout",
     "output_type": "stream",
     "text": [
      "Theta found by optimization are: [-25.16132   0.20623   0.20147]\n"
     ]
    }
   ],
   "source": [
    "opt_theta = result[0]\n",
    "print('Theta found by optimization are:', opt_theta) # Now use this theta to compute cost using previous function"
   ]
  },
  {
   "cell_type": "code",
   "execution_count": 117,
   "metadata": {},
   "outputs": [],
   "source": [
    "# Convert opt_theta to 3 x 1 2D array\n",
    "theta = opt_theta[:, np.newaxis]"
   ]
  },
  {
   "cell_type": "code",
   "execution_count": 118,
   "metadata": {
    "scrolled": false
   },
   "outputs": [
    {
     "data": {
      "text/plain": [
       "(3, 1)"
      ]
     },
     "execution_count": 118,
     "metadata": {},
     "output_type": "execute_result"
    }
   ],
   "source": [
    "theta.shape"
   ]
  },
  {
   "cell_type": "code",
   "execution_count": 119,
   "metadata": {},
   "outputs": [
    {
     "data": {
      "text/plain": [
       "(100, 3)"
      ]
     },
     "execution_count": 119,
     "metadata": {},
     "output_type": "execute_result"
    }
   ],
   "source": [
    "X.shape"
   ]
  },
  {
   "cell_type": "code",
   "execution_count": 120,
   "metadata": {},
   "outputs": [],
   "source": [
    "# Cost function obtained using optimaized theta\n",
    "[J3, grad3] = costFunction(theta, X, y)"
   ]
  },
  {
   "cell_type": "code",
   "execution_count": 122,
   "metadata": {
    "scrolled": true
   },
   "outputs": [
    {
     "name": "stdout",
     "output_type": "stream",
     "text": [
      "Cost at theta found by fminunc: 0.20350\n",
      "\n",
      "Expected cost (approx): 0.203\n",
      "\n",
      "theta: \n",
      " [[-25.16132]\n",
      " [  0.20623]\n",
      " [  0.20147]] \n",
      "\n",
      "Expected theta (approx):\n",
      " -25.161\n",
      " 0.206\n",
      " 0.201\n",
      "\n"
     ]
    }
   ],
   "source": [
    "print('Cost at theta found by fminunc: %.5f\\n' %J3);\n",
    "print('Expected cost (approx): 0.203\\n');\n",
    "print('theta: \\n', theta, '\\n');\n",
    "print('Expected theta (approx):');\n",
    "print(' -25.161\\n 0.206\\n 0.201\\n');"
   ]
  },
  {
   "cell_type": "code",
   "execution_count": 123,
   "metadata": {},
   "outputs": [],
   "source": [
    "# Plot Boundary\n",
    "def plotDecisionBoundary(theta, X, y):\n",
    "    if X.shape[1] <= 3:\n",
    "        plot_x = np.array([X[:, 1].min()-2, X[:, 1].max()+2])\n",
    "        check1 = X[:, 1].min()\n",
    "        check2 = X[:, 1].max()\n",
    "        plot_y = (-1/theta[2])*(theta[1]*plot_x + theta[0]) \n",
    "    \n",
    "    # Plotting decision boundary\n",
    "    plt.style.use('seaborn')\n",
    "    adm = plt.scatter(admit[:, 0], admit[:, 1], color='g')\n",
    "    not_adm = plt.scatter(not_admit[:, 0], not_admit[:, 1], color='r', marker='x')\n",
    "    plt.xlabel('Exam 1 score')\n",
    "    plt.ylabel('Exam 2 score')\n",
    "    plt.title('1st and 2nd Student Exam Score ')\n",
    "    plt.legend((adm, not_adm), (\"Admit\", \"Not Admitted\"))\n",
    "    plt.plot(plot_x, plot_y, '--')\n",
    "    plt.show()"
   ]
  },
  {
   "cell_type": "code",
   "execution_count": 124,
   "metadata": {},
   "outputs": [
    {
     "data": {
      "image/png": "[encoded data removed]",
      "text/plain": [
       "<Figure size 576x396 with 1 Axes>"
      ]
     },
     "metadata": {},
     "output_type": "display_data"
    }
   ],
   "source": [
    "plotDecisionBoundary(opt_theta, X, y)"
   ]
  },
  {
   "cell_type": "markdown",
   "metadata": {},
   "source": [
    "### Evaluating logistic regression "
   ]
  },
  {
   "cell_type": "markdown",
   "metadata": {},
   "source": [
    "After learning the parameters, you'll like to use it to predict the outcomes\n",
    "on unseen data. In this part, you will use the logistic regression model\n",
    "to predict the probability that a student with score 45 on exam 1 and \n",
    "score 85 on exam 2 will be admitted\n",
    "\n",
    "Furthermore, you will compute the training and test set accuracies of \n",
    "our model."
   ]
  },
  {
   "cell_type": "code",
   "execution_count": 125,
   "metadata": {},
   "outputs": [],
   "source": [
    "#  ============== Part 4: Predict and Accuracies ==============\n",
    "def predict(theta, X):\n",
    "    m = X.shape[0] # Number of training examples\n",
    "    p = np.zeros([m]);\n",
    "    \n",
    "    p = sigmoid(X @ theta)\n",
    "    \n",
    "    for i in range(m):\n",
    "        if p[i] >= 0.5:\n",
    "            p[i] = 1\n",
    "        else:\n",
    "            p[i] = 0\n",
    "    \n",
    "    return p"
   ]
  },
  {
   "cell_type": "code",
   "execution_count": 138,
   "metadata": {},
   "outputs": [],
   "source": [
    "prob = sigmoid(np.array([1.0, 45.0, 85.0]) @ theta)"
   ]
  },
  {
   "cell_type": "code",
   "execution_count": 140,
   "metadata": {
    "scrolled": true
   },
   "outputs": [
    {
     "name": "stdout",
     "output_type": "stream",
     "text": [
      "For a student with scores 45 and 85, we predict an admission: 0.776291\n",
      "Expected value: 0.775 +/- 0.002\n",
      "\n"
     ]
    }
   ],
   "source": [
    "print('For a student with scores 45 and 85, we predict an admission: %.6f' %prob)\n",
    "print('Expected value: 0.775 +/- 0.002\\n')"
   ]
  },
  {
   "cell_type": "code",
   "execution_count": 134,
   "metadata": {
    "scrolled": true
   },
   "outputs": [],
   "source": [
    "# Compute accuracy on our training set\n",
    "p = predict(theta, X);"
   ]
  },
  {
   "cell_type": "code",
   "execution_count": 135,
   "metadata": {},
   "outputs": [],
   "source": [
    "acc = (np.sum(y == p)/y.size)*100"
   ]
  },
  {
   "cell_type": "code",
   "execution_count": 136,
   "metadata": {},
   "outputs": [
    {
     "name": "stdout",
     "output_type": "stream",
     "text": [
      "Train Accuracy: 89.000\n",
      "Expected accuracy (approx): 89.0\n",
      "\n"
     ]
    }
   ],
   "source": [
    "print('Train Accuracy: %.3f' %acc)\n",
    "print('Expected accuracy (approx): 89.0\\n')"
   ]
  }
 ],
 "metadata": {
  "kernelspec": {
   "display_name": "Python 3",
   "language": "python",
   "name": "python3"
  },
  "language_info": {
   "codemirror_mode": {
    "name": "ipython",
    "version": 3
   },
   "file_extension": ".py",
   "mimetype": "text/x-python",
   "name": "python",
   "nbconvert_exporter": "python",
   "pygments_lexer": "ipython3",
   "version": "3.7.3"
  }
 },
 "nbformat": 4,
 "nbformat_minor": 2
}
