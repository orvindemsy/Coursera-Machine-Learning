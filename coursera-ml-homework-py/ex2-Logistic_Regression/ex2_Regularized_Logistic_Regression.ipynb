{
 "cells": [
  {
   "cell_type": "markdown",
   "metadata": {},
   "source": [
    "# Exercise 2\n",
    "Coursera - Machine Learning <br>\n",
    "Andrew Ng"
   ]
  },
  {
   "cell_type": "markdown",
   "metadata": {},
   "source": [
    "# Regularized Logistic Regression"
   ]
  },
  {
   "cell_type": "markdown",
   "metadata": {},
   "source": [
    "## Visualizing the Data"
   ]
  },
  {
   "cell_type": "code",
   "execution_count": 1,
   "metadata": {},
   "outputs": [],
   "source": [
    "import numpy as np\n",
    "import matplotlib.pyplot as plt\n",
    "import pandas as pd\n",
    "from pandas import DataFrame as dframe"
   ]
  },
  {
   "cell_type": "code",
   "execution_count": 2,
   "metadata": {},
   "outputs": [],
   "source": [
    "data = np.loadtxt('ex2data2.txt', delimiter=',')"
   ]
  },
  {
   "cell_type": "code",
   "execution_count": 3,
   "metadata": {},
   "outputs": [],
   "source": [
    "X = data[:, :2];\n",
    "y = data[:, 2]"
   ]
  },
  {
   "cell_type": "code",
   "execution_count": 4,
   "metadata": {},
   "outputs": [
    {
     "data": {
      "text/plain": [
       "(118,)"
      ]
     },
     "execution_count": 4,
     "metadata": {},
     "output_type": "execute_result"
    }
   ],
   "source": [
    "y.shape"
   ]
  },
  {
   "cell_type": "code",
   "execution_count": 5,
   "metadata": {},
   "outputs": [],
   "source": [
    "pos = np.argwhere(y==1)\n",
    "neg = np.argwhere(y==0)"
   ]
  },
  {
   "cell_type": "code",
   "execution_count": 6,
   "metadata": {
    "scrolled": true
   },
   "outputs": [
    {
     "data": {
      "text/plain": [
       "((58, 1), (60, 1))"
      ]
     },
     "execution_count": 6,
     "metadata": {},
     "output_type": "execute_result"
    }
   ],
   "source": [
    "pos.shape, neg.shape"
   ]
  },
  {
   "cell_type": "code",
   "execution_count": 7,
   "metadata": {},
   "outputs": [],
   "source": [
    "adm = X[pos, :2].reshape(-1, 2)\n",
    "not_adm = X[neg, :2].reshape(-1, 2)"
   ]
  },
  {
   "cell_type": "code",
   "execution_count": 8,
   "metadata": {},
   "outputs": [
    {
     "data": {
      "image/png": "[encoded data removed]",
      "text/plain": [
       "<Figure size 576x396 with 1 Axes>"
      ]
     },
     "metadata": {},
     "output_type": "display_data"
    }
   ],
   "source": [
    "plt.style.use('seaborn')\n",
    "admit = plt.scatter(adm[:, 0], adm[:, 1], marker='+', color='k', linewidths=2)\n",
    "not_admit = plt.scatter(not_adm[:, 0], not_adm[:, 1], marker='o', color='y', linewidths=3)\n",
    "plt.legend((admit, not_admit), [\"Microchip1 y = 1\", \"Microchip2 y = 0\"])\n",
    "plt.show()"
   ]
  },
  {
   "cell_type": "markdown",
   "metadata": {},
   "source": [
    "## Feature Mapping "
   ]
  },
  {
   "cell_type": "code",
   "execution_count": 9,
   "metadata": {},
   "outputs": [],
   "source": [
    "def mapFeature(X1, X2):\n",
    "    degree = 6\n",
    "    out = np.ones([X1.size, 1])\n",
    "    for i in range(1, degree+1):\n",
    "        for j in range(0, i+1):\n",
    "            temp = (X1**(i-j)*(X2**j))[:, np.newaxis]\n",
    "#             out(:, end+1) = (X1.^(i-j)).*(X2.^j);\n",
    "            out = np.hstack([out, temp])\n",
    "    \n",
    "    return out"
   ]
  },
  {
   "cell_type": "code",
   "execution_count": 10,
   "metadata": {},
   "outputs": [],
   "source": [
    "X = mapFeature(X[:, 0], X[:, 1])"
   ]
  },
  {
   "cell_type": "code",
   "execution_count": 11,
   "metadata": {},
   "outputs": [
    {
     "data": {
      "text/plain": [
       "(118, 28)"
      ]
     },
     "execution_count": 11,
     "metadata": {},
     "output_type": "execute_result"
    }
   ],
   "source": [
    "# Note that mapFeature also adds a column of ones for us, so the intercept term is handled\n",
    "X.shape"
   ]
  },
  {
   "cell_type": "markdown",
   "metadata": {},
   "source": [
    "## Cost function and gradient\n",
    "Recall that regularized cost function in logistic regression is\n",
    "![cost_funct_reg](./img/cost_funct_reg.JPG)\n",
    "  \n",
    "The gradient cost function is vector where the $j^{th}$ element is defined as follows\n",
    "![cost_funct_reg_j0](./img/grad_descent_reg_j0.JPG)\n",
    "![cost_funct_reg_j1](./img/grad_descent_reg_j1.JPG)"
   ]
  },
  {
   "cell_type": "code",
   "execution_count": 12,
   "metadata": {},
   "outputs": [],
   "source": [
    "# Initialize fitting parameters\n",
    "initial_theta = np.zeros(X.shape[1])"
   ]
  },
  {
   "cell_type": "code",
   "execution_count": 13,
   "metadata": {},
   "outputs": [],
   "source": [
    "# Set regularization parameter lambda to 1\n",
    "λ = 1"
   ]
  },
  {
   "cell_type": "code",
   "execution_count": 14,
   "metadata": {},
   "outputs": [],
   "source": [
    "# Sigmoid function\n",
    "def sigmoid(z):\n",
    "    sig = 1/(1+np.exp(-z))\n",
    "    return sig"
   ]
  },
  {
   "cell_type": "code",
   "execution_count": 15,
   "metadata": {},
   "outputs": [],
   "source": [
    "def costFunctionReg(theta, X, y, λ):\n",
    "    # Initialize some useful values\n",
    "    m = X.shape[0]; # number of training examples\n",
    "\n",
    "    # You need to return the following variables correctly \n",
    "    J = 0;\n",
    "    grad = np.zeros([theta.size]);\n",
    "    \n",
    "    # Sigmoid\n",
    "    z = X@theta\n",
    "    g_z = sigmoid(z)\n",
    "    \n",
    "    # Cost function\n",
    "    J = 1/m * np.sum([(-y * np.log(g_z))-(1-y)*(np.log(1-g_z))]) + (λ/(2*m) * np.sum(theta[1:]**2))\n",
    "    \n",
    "    # Grad descent\n",
    "    grad = 1/m * X.T @ (g_z - y);\n",
    "    grad[1:] = grad[1:] + (λ/m * theta[1:])\n",
    "    \n",
    "    return J, grad"
   ]
  },
  {
   "cell_type": "code",
   "execution_count": 16,
   "metadata": {},
   "outputs": [],
   "source": [
    "cost, grad = costFunctionReg(initial_theta, X, y, λ)"
   ]
  },
  {
   "cell_type": "code",
   "execution_count": 17,
   "metadata": {
    "scrolled": true
   },
   "outputs": [
    {
     "name": "stdout",
     "output_type": "stream",
     "text": [
      "Cost at initial theta (zeros): 0.693147\n",
      "Expected cost(approx): 0.693\n",
      "\n",
      "\n",
      "Gradient at initial theta (zeros) - first five values only:\n",
      "0.00847\n",
      "0.01879\n",
      "0.00008\n",
      "0.05034\n",
      "0.01150\n",
      "\n",
      "Expected gradients (approx) - first five values only:\n",
      " 0.0085\n",
      " 0.0188\n",
      " 0.0001\n",
      " 0.0503\n",
      " 0.0115\n",
      "\n"
     ]
    }
   ],
   "source": [
    "print('Cost at initial theta (zeros): %f' %cost)\n",
    "print('Expected cost(approx): 0.693')\n",
    "print('\\n')\n",
    "print('Gradient at initial theta (zeros) - first five values only:')\n",
    "for i in grad[:5]:\n",
    "    print('{:.5f}'.format(i))\n",
    "print('')\n",
    "print('Expected gradients (approx) - first five values only:\\n 0.0085\\n 0.0188\\n 0.0001\\n 0.0503\\n 0.0115\\n');"
   ]
  },
  {
   "cell_type": "code",
   "execution_count": 18,
   "metadata": {},
   "outputs": [],
   "source": [
    "# Compute and display cost and gradient with all-ones theta and lambda = 10\n",
    "test_theta = np.ones([X.shape[1]])\n",
    "[cost, grad] = costFunctionReg(test_theta, X, y, 10);"
   ]
  },
  {
   "cell_type": "code",
   "execution_count": 19,
   "metadata": {},
   "outputs": [
    {
     "name": "stdout",
     "output_type": "stream",
     "text": [
      "Cost at initial theta (zeros): %f 3.1645093316150095\n",
      "Expected cost (approx): 3.16\n",
      "\n",
      "Gradient at initial theta (zeros) - first five values only:\n",
      "0.34605\n",
      "0.16135\n",
      "0.19480\n",
      "0.22686\n",
      "0.09219\n",
      "\n",
      "Expected gradients (approx) - first five values only:\n",
      " 0.3460\n",
      " 0.1614\n",
      " 0.1948\n",
      " 0.2269\n",
      " 0.0922\n"
     ]
    }
   ],
   "source": [
    "print('Cost at initial theta (zeros): %f', cost);\n",
    "print('Expected cost (approx): 3.16\\n');\n",
    "\n",
    "print('Gradient at initial theta (zeros) - first five values only:');\n",
    "for i in grad[:5]:\n",
    "    print('{:.5f}'.format(i))\n",
    "print('')\n",
    "print('Expected gradients (approx) - first five values only:');\n",
    "print(' 0.3460\\n 0.1614\\n 0.1948\\n 0.2269\\n 0.0922');"
   ]
  },
  {
   "cell_type": "code",
   "execution_count": null,
   "metadata": {},
   "outputs": [],
   "source": []
  },
  {
   "cell_type": "markdown",
   "metadata": {},
   "source": [
    "### Learning parameters using $fminunc$ "
   ]
  },
  {
   "cell_type": "code",
   "execution_count": 20,
   "metadata": {},
   "outputs": [],
   "source": [
    "import scipy.optimize as opt"
   ]
  },
  {
   "cell_type": "code",
   "execution_count": 21,
   "metadata": {},
   "outputs": [
    {
     "data": {
      "text/plain": [
       "{'divide': 'warn', 'over': 'warn', 'under': 'ignore', 'invalid': 'warn'}"
      ]
     },
     "execution_count": 21,
     "metadata": {},
     "output_type": "execute_result"
    }
   ],
   "source": [
    "# to change the behaviour of numpy's division by zero\n",
    "np.seterr(divide='ignore', invalid='ignore')"
   ]
  },
  {
   "cell_type": "code",
   "execution_count": 22,
   "metadata": {},
   "outputs": [],
   "source": [
    "# Initialize theta and lambda\n",
    "initial_theta = np.zeros([X.shape[1]])\n",
    "λ=1"
   ]
  },
  {
   "cell_type": "code",
   "execution_count": 23,
   "metadata": {},
   "outputs": [
    {
     "data": {
      "text/plain": [
       "1"
      ]
     },
     "execution_count": 23,
     "metadata": {},
     "output_type": "execute_result"
    }
   ],
   "source": [
    "initial_theta.ndim"
   ]
  },
  {
   "cell_type": "code",
   "execution_count": 24,
   "metadata": {},
   "outputs": [],
   "source": [
    "# fmin_tnc will return tuple with first element is the optimized theta\n",
    "result = opt.fmin_tnc(func=costFunctionReg, \n",
    "                      x0=initial_theta.flatten(),\n",
    "                      args=(X, y.flatten(),  λ))"
   ]
  },
  {
   "cell_type": "code",
   "execution_count": 25,
   "metadata": {
    "scrolled": true
   },
   "outputs": [
    {
     "data": {
      "text/plain": [
       "array([ 1.27271028,  0.62529965,  1.18111686, -2.019874  , -0.91743189,\n",
       "       -1.43166931,  0.12393227, -0.36553117, -0.35725402, -0.17516291,\n",
       "       -1.45817011, -0.05098418, -0.61558546, -0.27469166, -1.19271297,\n",
       "       -0.24217839, -0.20603291, -0.04466178, -0.27778956, -0.29539513,\n",
       "       -0.45645981, -1.04319157,  0.02779373, -0.29244878,  0.01555762,\n",
       "       -0.32742408, -0.14389151, -0.92467486])"
      ]
     },
     "execution_count": 25,
     "metadata": {},
     "output_type": "execute_result"
    }
   ],
   "source": [
    "# The theta returned by fmin_tnc is the first element of result\n",
    "theta = result[0]\n",
    "theta"
   ]
  },
  {
   "cell_type": "code",
   "execution_count": 26,
   "metadata": {
    "scrolled": true
   },
   "outputs": [
    {
     "data": {
      "text/plain": [
       "(28,)"
      ]
     },
     "execution_count": 26,
     "metadata": {},
     "output_type": "execute_result"
    }
   ],
   "source": [
    "theta.shape"
   ]
  },
  {
   "cell_type": "markdown",
   "metadata": {},
   "source": [
    "## Plotting Decision Boundary"
   ]
  },
  {
   "cell_type": "code",
   "execution_count": 27,
   "metadata": {},
   "outputs": [],
   "source": [
    "'''\n",
    "This mapFeature function is different than the previous one, was made to be compatible with plotDecisionBoundary function\n",
    "'''\n",
    "def mapFeaturePlot(X1, X2):\n",
    "    degree = 6\n",
    "    out = np.ones([X1.size])\n",
    "    for i in range(1, degree+1):\n",
    "        for j in range(0, i+1):\n",
    "            temp = (X1**(i-j)*(X2**j))\n",
    "            out = np.hstack([out, temp])\n",
    "    \n",
    "    return out"
   ]
  },
  {
   "cell_type": "code",
   "execution_count": 28,
   "metadata": {},
   "outputs": [],
   "source": [
    "def plotDecisionBoundary(theta, X, y):\n",
    "    u = np.linspace(-1, 1.5, 50)\n",
    "    v = np.linspace(-1, 1.5, 50)\n",
    "    z = np.zeros((u.size, v.size))\n",
    "    \n",
    "    for i in range(0, u.size):\n",
    "        for j in range(0, v.size):\n",
    "            z[i, j] = mapFeaturePlot(u[i], v[j])@theta\n",
    "    \n",
    "    X, Y = np.meshgrid(u, v)\n",
    "    admit = plt.scatter(adm[:, 0], adm[:, 1], marker='+', color='k', linewidths=2)\n",
    "    not_admit = plt.scatter(not_adm[:, 0], not_adm[:, 1], marker='o', color='y', linewidths=3)\n",
    "    plt.legend((admit, not_admit), [\"Microchip1 y = 1\", \"Microchip2 y = 0\"])\n",
    "    plt.show()\n",
    "    \n",
    "    return z"
   ]
  },
  {
   "cell_type": "code",
   "execution_count": 29,
   "metadata": {
    "scrolled": true
   },
   "outputs": [
    {
     "data": {
      "image/png": "[encoded data removed]",
      "text/plain": [
       "<Figure size 576x396 with 1 Axes>"
      ]
     },
     "metadata": {},
     "output_type": "display_data"
    }
   ],
   "source": [
    "Z = plotDecisionBoundary(theta, X, y)"
   ]
  },
  {
   "cell_type": "code",
   "execution_count": 30,
   "metadata": {},
   "outputs": [
    {
     "data": {
      "text/plain": [
       "(118, 28)"
      ]
     },
     "execution_count": 30,
     "metadata": {},
     "output_type": "execute_result"
    }
   ],
   "source": [
    "X.shape"
   ]
  },
  {
   "cell_type": "code",
   "execution_count": 31,
   "metadata": {},
   "outputs": [
    {
     "data": {
      "text/plain": [
       "(28,)"
      ]
     },
     "execution_count": 31,
     "metadata": {},
     "output_type": "execute_result"
    }
   ],
   "source": [
    "theta.shape"
   ]
  },
  {
   "cell_type": "code",
   "execution_count": 32,
   "metadata": {},
   "outputs": [],
   "source": [
    "z = X@theta"
   ]
  },
  {
   "cell_type": "code",
   "execution_count": 33,
   "metadata": {},
   "outputs": [
    {
     "data": {
      "text/plain": [
       "(118,)"
      ]
     },
     "execution_count": 33,
     "metadata": {},
     "output_type": "execute_result"
    }
   ],
   "source": [
    "z.shape"
   ]
  },
  {
   "cell_type": "code",
   "execution_count": 34,
   "metadata": {},
   "outputs": [],
   "source": [
    "# Compute accuracy on our training set\n",
    "def predict(theta, X):\n",
    "    m = X.shape[0] # Number of training examples\n",
    "    p = np.zeros([m]);\n",
    "    \n",
    "    # Instructions: Complete the following code to make predictions using\n",
    "    # your learned logistic regression parameters. \n",
    "    # You should set p to a vector of 0's and\n",
    "    \n",
    "    p = sigmoid(X @ theta)\n",
    "    \n",
    "    for i in range(m):\n",
    "        if p[i] >= 0.5:\n",
    "            p[i] = 1\n",
    "        else:\n",
    "            p[i] = 0\n",
    "    \n",
    "    return p"
   ]
  },
  {
   "cell_type": "code",
   "execution_count": 35,
   "metadata": {},
   "outputs": [],
   "source": [
    "p = predict(theta, X)"
   ]
  },
  {
   "cell_type": "code",
   "execution_count": 36,
   "metadata": {},
   "outputs": [],
   "source": [
    "acc = (np.sum(y == p)/y.size)*100"
   ]
  },
  {
   "cell_type": "code",
   "execution_count": 37,
   "metadata": {},
   "outputs": [
    {
     "name": "stdout",
     "output_type": "stream",
     "text": [
      "Train Accuracy: 83.051\n",
      "Expected accuracy (with lambda = 1): 83.1 (approx)\n",
      "\n"
     ]
    }
   ],
   "source": [
    "print('Train Accuracy: %.3f' %acc)\n",
    "print('Expected accuracy (with lambda = 1): 83.1 (approx)\\n')"
   ]
  },
  {
   "cell_type": "markdown",
   "metadata": {},
   "source": [
    "## Optional (ungraded) exercise"
   ]
  },
  {
   "cell_type": "code",
   "execution_count": null,
   "metadata": {},
   "outputs": [],
   "source": []
  },
  {
   "cell_type": "code",
   "execution_count": null,
   "metadata": {},
   "outputs": [],
   "source": []
  },
  {
   "cell_type": "code",
   "execution_count": null,
   "metadata": {},
   "outputs": [],
   "source": []
  },
  {
   "cell_type": "code",
   "execution_count": null,
   "metadata": {},
   "outputs": [],
   "source": []
  },
  {
   "cell_type": "code",
   "execution_count": null,
   "metadata": {},
   "outputs": [],
   "source": []
  },
  {
   "cell_type": "code",
   "execution_count": null,
   "metadata": {},
   "outputs": [],
   "source": []
  }
 ],
 "metadata": {
  "kernelspec": {
   "display_name": "Python 3",
   "language": "python",
   "name": "python3"
  },
  "language_info": {
   "codemirror_mode": {
    "name": "ipython",
    "version": 3
   },
   "file_extension": ".py",
   "mimetype": "text/x-python",
   "name": "python",
   "nbconvert_exporter": "python",
   "pygments_lexer": "ipython3",
   "version": "3.7.8"
  },
  "toc": {
   "base_numbering": 1,
   "nav_menu": {},
   "number_sections": true,
   "sideBar": true,
   "skip_h1_title": false,
   "title_cell": "Table of Contents",
   "title_sidebar": "Contents",
   "toc_cell": false,
   "toc_position": {
    "height": "calc(100% - 180px)",
    "left": "10px",
    "top": "150px",
    "width": "199px"
   },
   "toc_section_display": true,
   "toc_window_display": true
  }
 },
 "nbformat": 4,
 "nbformat_minor": 4
}
