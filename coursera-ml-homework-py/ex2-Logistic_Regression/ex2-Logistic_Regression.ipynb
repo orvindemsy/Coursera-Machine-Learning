{
 "cells": [
  {
   "cell_type": "markdown",
   "metadata": {},
   "source": [
    "# Exercise 2\n",
    "Coursera - Machine Learning <br>\n",
    "Andrew Ng"
   ]
  },
  {
   "cell_type": "markdown",
   "metadata": {},
   "source": [
    "# Logistic Regression"
   ]
  },
  {
   "cell_type": "markdown",
   "metadata": {},
   "source": [
    "## Visualizing the data"
   ]
  },
  {
   "cell_type": "code",
   "execution_count": 1,
   "metadata": {},
   "outputs": [],
   "source": [
    "import numpy as np\n",
    "import pandas as pd\n",
    "import matplotlib.pyplot as plt"
   ]
  },
  {
   "cell_type": "code",
   "execution_count": 2,
   "metadata": {},
   "outputs": [],
   "source": [
    "# ==================== Part 1: Plotting ====================\n",
    "# Set number of significant figures to show\n",
    "np.set_printoptions(precision=5)"
   ]
  },
  {
   "cell_type": "code",
   "execution_count": 3,
   "metadata": {
    "scrolled": true
   },
   "outputs": [
    {
     "data": {
      "text/plain": [
       "array([[34.62366, 78.02469,  0.     ],\n",
       "       [30.28671, 43.895  ,  0.     ],\n",
       "       [35.84741, 72.9022 ,  0.     ],\n",
       "       [60.1826 , 86.30855,  1.     ],\n",
       "       [79.03274, 75.34438,  1.     ],\n",
       "       [45.08328, 56.31637,  0.     ],\n",
       "       [61.10666, 96.51143,  1.     ],\n",
       "       [75.02475, 46.55401,  1.     ],\n",
       "       [76.09879, 87.42057,  1.     ],\n",
       "       [84.43282, 43.53339,  1.     ]])"
      ]
     },
     "execution_count": 3,
     "metadata": {},
     "output_type": "execute_result"
    }
   ],
   "source": [
    "# As alternative to pd.read_csv, np.loadtxt can be used to upload .txt data\n",
    "data = np.loadtxt('ex2data1.txt', delimiter = ',')\n",
    "data[:10]"
   ]
  },
  {
   "cell_type": "code",
   "execution_count": 4,
   "metadata": {},
   "outputs": [
    {
     "data": {
      "text/plain": [
       "dtype('float64')"
      ]
     },
     "execution_count": 4,
     "metadata": {},
     "output_type": "execute_result"
    }
   ],
   "source": [
    "# Data type of data\n",
    "data.dtype"
   ]
  },
  {
   "cell_type": "code",
   "execution_count": 5,
   "metadata": {},
   "outputs": [],
   "source": [
    "X = data[:, :2]\n",
    "y = data[:, 2]"
   ]
  },
  {
   "cell_type": "code",
   "execution_count": 6,
   "metadata": {},
   "outputs": [],
   "source": [
    "# Find indices of positive and negative example\n",
    "# (student who got admitted and not admitted)\n",
    "pos = np.nonzero(y)\n",
    "neg = np.where(y==0)"
   ]
  },
  {
   "cell_type": "code",
   "execution_count": 7,
   "metadata": {},
   "outputs": [
    {
     "data": {
      "text/plain": [
       "(array([ 3,  4,  6,  7,  8,  9, 12, 13, 15, 16, 18, 19, 21, 24, 25, 26, 30,\n",
       "        31, 33, 37, 40, 42, 46, 47, 48, 49, 50, 51, 52, 56, 58, 59, 60, 66,\n",
       "        68, 69, 71, 72, 73, 74, 75, 76, 77, 80, 81, 82, 83, 84, 85, 87, 88,\n",
       "        90, 91, 93, 94, 95, 96, 97, 98, 99], dtype=int64),)"
      ]
     },
     "execution_count": 7,
     "metadata": {},
     "output_type": "execute_result"
    }
   ],
   "source": [
    "pos"
   ]
  },
  {
   "cell_type": "code",
   "execution_count": 8,
   "metadata": {
    "scrolled": true
   },
   "outputs": [
    {
     "data": {
      "text/plain": [
       "(array([ 0,  1,  2,  5, 10, 11, 14, 17, 20, 22, 23, 27, 28, 29, 32, 34, 35,\n",
       "        36, 38, 39, 41, 43, 44, 45, 53, 54, 55, 57, 61, 62, 63, 64, 65, 67,\n",
       "        70, 78, 79, 86, 89, 92], dtype=int64),)"
      ]
     },
     "execution_count": 8,
     "metadata": {},
     "output_type": "execute_result"
    }
   ],
   "source": [
    "neg"
   ]
  },
  {
   "cell_type": "code",
   "execution_count": 9,
   "metadata": {},
   "outputs": [],
   "source": [
    "# Admitted and Not admitted matrix\n",
    "admit = data[pos, :2]\n",
    "not_admit = data[neg, :2]"
   ]
  },
  {
   "cell_type": "code",
   "execution_count": 10,
   "metadata": {},
   "outputs": [
    {
     "name": "stdout",
     "output_type": "stream",
     "text": [
      "shape of admit:  (1, 60, 2)\n",
      "shape of not_admit:  (1, 40, 2)\n"
     ]
    }
   ],
   "source": [
    "# Check shape of admit and not_admit\n",
    "print(\"shape of admit: \", admit.shape)\n",
    "print(\"shape of not_admit: \", not_admit.shape)"
   ]
  },
  {
   "cell_type": "code",
   "execution_count": 11,
   "metadata": {
    "scrolled": true
   },
   "outputs": [
    {
     "name": "stdout",
     "output_type": "stream",
     "text": [
      "shape of admit:  (60, 2)\n",
      "shape of not_admit:  (40, 2)\n"
     ]
    }
   ],
   "source": [
    "# Convert shape of admit and not_admit to 2 dimension\n",
    "admit = admit.reshape(60, 2)\n",
    "not_admit = not_admit.reshape(40, 2)\n",
    "print(\"shape of admit: \", admit.shape)\n",
    "print(\"shape of not_admit: \", not_admit.shape)"
   ]
  },
  {
   "cell_type": "code",
   "execution_count": 12,
   "metadata": {
    "scrolled": true
   },
   "outputs": [
    {
     "data": {
      "image/png": "[encoded data removed]",
      "text/plain": [
       "<Figure size 576x396 with 1 Axes>"
      ]
     },
     "metadata": {},
     "output_type": "display_data"
    }
   ],
   "source": [
    "# Plotting data\n",
    "plt.style.use('seaborn')\n",
    "adm = plt.scatter(admit[:, 0], admit[:, 1], color='g')\n",
    "not_adm = plt.scatter(not_admit[:, 0], not_admit[:, 1], color='r', marker='x')\n",
    "plt.xlabel('Exam 1 score')\n",
    "plt.ylabel('Exam 2 score')\n",
    "plt.title('1st and 2nd Student Exam Score ')\n",
    "plt.legend((adm, not_adm), (\"Admit\", \"Not Admitted\"))\n",
    "plt.show()"
   ]
  },
  {
   "cell_type": "markdown",
   "metadata": {},
   "source": [
    "## Implementation"
   ]
  },
  {
   "cell_type": "markdown",
   "metadata": {},
   "source": [
    "### Sigmoid Function\n",
    "<img src = \"img/sigmoid.jpg\">"
   ]
  },
  {
   "cell_type": "code",
   "execution_count": 13,
   "metadata": {},
   "outputs": [],
   "source": [
    "# Sigmoid function\n",
    "def sigmoid(z):\n",
    "    sig = 1/(1+np.exp(-z))\n",
    "    return sig"
   ]
  },
  {
   "cell_type": "code",
   "execution_count": 14,
   "metadata": {
    "scrolled": true
   },
   "outputs": [
    {
     "name": "stdout",
     "output_type": "stream",
     "text": [
      "m = 100 \n",
      "n = 2\n"
     ]
    }
   ],
   "source": [
    "[m, n] = X.shape\n",
    "print(\"m = %d \\nn = %d\" %(m, n))"
   ]
  },
  {
   "cell_type": "code",
   "execution_count": 15,
   "metadata": {
    "scrolled": true
   },
   "outputs": [
    {
     "data": {
      "text/plain": [
       "array([[ 1.     , 34.62366, 78.02469],\n",
       "       [ 1.     , 30.28671, 43.895  ],\n",
       "       [ 1.     , 35.84741, 72.9022 ],\n",
       "       [ 1.     , 60.1826 , 86.30855],\n",
       "       [ 1.     , 79.03274, 75.34438],\n",
       "       [ 1.     , 45.08328, 56.31637],\n",
       "       [ 1.     , 61.10666, 96.51143],\n",
       "       [ 1.     , 75.02475, 46.55401],\n",
       "       [ 1.     , 76.09879, 87.42057],\n",
       "       [ 1.     , 84.43282, 43.53339]])"
      ]
     },
     "execution_count": 15,
     "metadata": {},
     "output_type": "execute_result"
    }
   ],
   "source": [
    "# Add intercept term to X\n",
    "X = np.hstack([np.ones((m, 1)), X])\n",
    "X[:10]"
   ]
  },
  {
   "cell_type": "code",
   "execution_count": 16,
   "metadata": {},
   "outputs": [],
   "source": [
    "# Y stil in 1D array, convert into 2D array\n",
    "y = y[:, np.newaxis]"
   ]
  },
  {
   "cell_type": "code",
   "execution_count": 17,
   "metadata": {},
   "outputs": [
    {
     "data": {
      "text/plain": [
       "(100, 1)"
      ]
     },
     "execution_count": 17,
     "metadata": {},
     "output_type": "execute_result"
    }
   ],
   "source": [
    "y.shape"
   ]
  },
  {
   "cell_type": "code",
   "execution_count": 18,
   "metadata": {
    "scrolled": true
   },
   "outputs": [
    {
     "name": "stdout",
     "output_type": "stream",
     "text": [
      "[[0.]\n",
      " [0.]\n",
      " [0.]]\n"
     ]
    }
   ],
   "source": [
    "# Theta matrix\n",
    "initial_theta = np.zeros((n+1, 1))\n",
    "print(initial_theta)"
   ]
  },
  {
   "cell_type": "markdown",
   "metadata": {},
   "source": [
    "### Cost function and gradient descent\n",
    "<img src = \"img/cost-funct-sigmoid.jpg\">\n",
    "<b>And the gradient descent defined as</b>\n",
    "<img src = \"img/grad-descent-sigmoid.jpg\">"
   ]
  },
  {
   "cell_type": "code",
   "execution_count": 19,
   "metadata": {},
   "outputs": [],
   "source": [
    "# ============ Part 2: Compute Cost and Gradient ============\n",
    "# Cost function in logistic regression\n",
    "def costFunction(theta, X, y):\n",
    "    z = np.dot(X, theta)\n",
    "    g_z = sigmoid(z) # Use sigmoid function for hypothesis in logistic regression\n",
    "    \n",
    "    #Cost function\n",
    "    J = 1/m * np.sum([(-y * np.log(g_z))-(1-y)*(np.log(1-g_z))])\n",
    "    \n",
    "    # Grad descent\n",
    "    grad = (X.T).dot((g_z-y)) * 1/m\n",
    "    \n",
    "    return J, grad"
   ]
  },
  {
   "cell_type": "code",
   "execution_count": 20,
   "metadata": {
    "scrolled": true
   },
   "outputs": [
    {
     "name": "stdout",
     "output_type": "stream",
     "text": [
      "Cost function with zero theta: 0.693\n",
      "Grad descent with zero theta:\n",
      " [[ -0.1    ]\n",
      " [-12.00922]\n",
      " [-11.26284]]\n"
     ]
    }
   ],
   "source": [
    "[J1, grad1] = costFunction(initial_theta, X, y)\n",
    "print(\"Cost function with zero theta: %.3f\" %J1)\n",
    "print(\"Grad descent with zero theta:\\n\", grad1)"
   ]
  },
  {
   "cell_type": "code",
   "execution_count": 21,
   "metadata": {},
   "outputs": [
    {
     "data": {
      "text/plain": [
       "(3, 1)"
      ]
     },
     "execution_count": 21,
     "metadata": {},
     "output_type": "execute_result"
    }
   ],
   "source": [
    "grad1.shape"
   ]
  },
  {
   "cell_type": "code",
   "execution_count": 22,
   "metadata": {
    "scrolled": true
   },
   "outputs": [
    {
     "data": {
      "text/plain": [
       "array([[-24. ],\n",
       "       [  0.2],\n",
       "       [  0.2]])"
      ]
     },
     "execution_count": 22,
     "metadata": {},
     "output_type": "execute_result"
    }
   ],
   "source": [
    "# Compute and display cost and gradient with non-zero theta\n",
    "test_theta = np.array([[-24], [0.2], [0.2]])\n",
    "test_theta"
   ]
  },
  {
   "cell_type": "code",
   "execution_count": 23,
   "metadata": {
    "scrolled": true
   },
   "outputs": [
    {
     "name": "stdout",
     "output_type": "stream",
     "text": [
      "Cost function with zero theta: 0.693\n",
      "Grad descent with zero theta:\n",
      " [[ -0.1    ]\n",
      " [-12.00922]\n",
      " [-11.26284]]\n"
     ]
    }
   ],
   "source": [
    "[J2, grad2] = costFunction(test_theta, X, y)\n",
    "print(\"Cost function with zero theta: %.3f\" %J1)\n",
    "print(\"Grad descent with zero theta:\\n\", grad1)"
   ]
  },
  {
   "cell_type": "markdown",
   "metadata": {},
   "source": [
    "### Learning parameters using fminunc"
   ]
  },
  {
   "cell_type": "code",
   "execution_count": 24,
   "metadata": {},
   "outputs": [],
   "source": [
    "# ============= Part 3: Optimizing using fminunc  =============\n",
    "import scipy.optimize as opt"
   ]
  },
  {
   "cell_type": "code",
   "execution_count": 25,
   "metadata": {},
   "outputs": [
    {
     "data": {
      "text/plain": [
       "{'divide': 'warn', 'over': 'warn', 'under': 'ignore', 'invalid': 'warn'}"
      ]
     },
     "execution_count": 25,
     "metadata": {},
     "output_type": "execute_result"
    }
   ],
   "source": [
    "# to change the behaviour of numpy's division by zero\n",
    "np.seterr(divide='ignore', invalid='ignore')"
   ]
  },
  {
   "cell_type": "code",
   "execution_count": 26,
   "metadata": {},
   "outputs": [],
   "source": [
    "# fmin_tnc will return tuple with first element is the optimized theta\n",
    "result = opt.fmin_tnc(func=costFunction, \n",
    "                      x0=initial_theta.flatten(),\n",
    "                      args=(X, y.flatten())) "
   ]
  },
  {
   "cell_type": "code",
   "execution_count": 27,
   "metadata": {},
   "outputs": [
    {
     "name": "stdout",
     "output_type": "stream",
     "text": [
      "Theta found by optimization are: [-25.16132   0.20623   0.20147]\n"
     ]
    }
   ],
   "source": [
    "opt_theta = result[0]\n",
    "print('Theta found by optimization are:', opt_theta) # Now use this theta to compute cost using previous function"
   ]
  },
  {
   "cell_type": "code",
   "execution_count": 28,
   "metadata": {},
   "outputs": [],
   "source": [
    "# Convert opt_theta to 3 x 1 2D array\n",
    "theta = opt_theta[:, np.newaxis]"
   ]
  },
  {
   "cell_type": "code",
   "execution_count": 29,
   "metadata": {},
   "outputs": [
    {
     "data": {
      "text/plain": [
       "(3, 1)"
      ]
     },
     "execution_count": 29,
     "metadata": {},
     "output_type": "execute_result"
    }
   ],
   "source": [
    "theta.shape"
   ]
  },
  {
   "cell_type": "code",
   "execution_count": 30,
   "metadata": {},
   "outputs": [
    {
     "data": {
      "text/plain": [
       "(100, 3)"
      ]
     },
     "execution_count": 30,
     "metadata": {},
     "output_type": "execute_result"
    }
   ],
   "source": [
    "X.shape"
   ]
  },
  {
   "cell_type": "code",
   "execution_count": 31,
   "metadata": {},
   "outputs": [],
   "source": [
    "# Cost function obtained using optimaized theta\n",
    "[J3, grad3] = costFunction(theta, X, y)"
   ]
  },
  {
   "cell_type": "code",
   "execution_count": 32,
   "metadata": {
    "scrolled": true
   },
   "outputs": [
    {
     "name": "stdout",
     "output_type": "stream",
     "text": [
      "Cost at theta found by fminunc: 0.20350\n",
      "\n",
      "Expected cost (approx): 0.203\n",
      "\n",
      "theta: \n",
      " [[-25.16132]\n",
      " [  0.20623]\n",
      " [  0.20147]] \n",
      "\n",
      "Expected theta (approx):\n",
      " -25.161\n",
      " 0.206\n",
      " 0.201\n",
      "\n"
     ]
    }
   ],
   "source": [
    "print('Cost at theta found by fminunc: %.5f\\n' %J3);\n",
    "print('Expected cost (approx): 0.203\\n');\n",
    "print('theta: \\n', theta, '\\n');\n",
    "print('Expected theta (approx):');\n",
    "print(' -25.161\\n 0.206\\n 0.201\\n');"
   ]
  },
  {
   "cell_type": "code",
   "execution_count": 33,
   "metadata": {},
   "outputs": [],
   "source": [
    "# Plot Boundary\n",
    "def plotDecisionBoundary(theta, X, y):\n",
    "    if X.shape[1] <= 3:\n",
    "        plot_x = np.array([X[:, 1].min()-2, X[:, 1].max()+2])\n",
    "        check1 = X[:, 1].min()\n",
    "        check2 = X[:, 1].max()\n",
    "        plot_y = (-1/theta[2])*(theta[1]*plot_x + theta[0]) \n",
    "    \n",
    "    # Plotting decision boundary\n",
    "    plt.style.use('seaborn')\n",
    "    adm = plt.scatter(admit[:, 0], admit[:, 1], color='g')\n",
    "    not_adm = plt.scatter(not_admit[:, 0], not_admit[:, 1], color='r', marker='x')\n",
    "    plt.xlabel('Exam 1 score')\n",
    "    plt.ylabel('Exam 2 score')\n",
    "    plt.title('1st and 2nd Student Exam Score ')\n",
    "    plt.legend((adm, not_adm), (\"Admit\", \"Not Admitted\"))\n",
    "    plt.plot(plot_x, plot_y, '--')\n",
    "    plt.show()"
   ]
  },
  {
   "cell_type": "code",
   "execution_count": 34,
   "metadata": {},
   "outputs": [
    {
     "data": {
      "image/png": "[encoded data removed]",
      "text/plain": [
       "<Figure size 576x396 with 1 Axes>"
      ]
     },
     "metadata": {},
     "output_type": "display_data"
    }
   ],
   "source": [
    "plotDecisionBoundary(opt_theta, X, y)"
   ]
  },
  {
   "cell_type": "markdown",
   "metadata": {},
   "source": [
    "### Evaluating logistic regression "
   ]
  },
  {
   "cell_type": "markdown",
   "metadata": {},
   "source": [
    "After learning the parameters, you'll like to use it to predict the outcomes\n",
    "on unseen data. In this part, you will use the logistic regression model\n",
    "to predict the probability that a student with score 45 on exam 1 and \n",
    "score 85 on exam 2 will be admitted\n",
    "\n",
    "Furthermore, you will compute the training and test set accuracies of \n",
    "our model."
   ]
  },
  {
   "cell_type": "code",
   "execution_count": 35,
   "metadata": {},
   "outputs": [],
   "source": [
    "#  ============== Part 4: Predict and Accuracies ==============\n",
    "def predict(theta, X):\n",
    "    m = X.shape[0] # Number of training examples\n",
    "    p = np.zeros([m]);\n",
    "    \n",
    "    p = sigmoid(X @ theta)\n",
    "    \n",
    "    for i in range(m):\n",
    "        if p[i] >= 0.5:\n",
    "            p[i] = 1\n",
    "        else:\n",
    "            p[i] = 0\n",
    "    \n",
    "    return p"
   ]
  },
  {
   "cell_type": "code",
   "execution_count": 36,
   "metadata": {},
   "outputs": [],
   "source": [
    "prob = sigmoid(np.array([1.0, 45.0, 85.0]) @ theta)"
   ]
  },
  {
   "cell_type": "code",
   "execution_count": 37,
   "metadata": {
    "scrolled": true
   },
   "outputs": [
    {
     "name": "stdout",
     "output_type": "stream",
     "text": [
      "For a student with scores 45 and 85, we predict an admission: 0.776291\n",
      "Expected value: 0.775 +/- 0.002\n",
      "\n"
     ]
    }
   ],
   "source": [
    "print('For a student with scores 45 and 85, we predict an admission: %.6f' %prob)\n",
    "print('Expected value: 0.775 +/- 0.002\\n')"
   ]
  },
  {
   "cell_type": "code",
   "execution_count": 38,
   "metadata": {
    "scrolled": true
   },
   "outputs": [],
   "source": [
    "# Compute accuracy on our training set\n",
    "p = predict(theta, X);"
   ]
  },
  {
   "cell_type": "code",
   "execution_count": 39,
   "metadata": {},
   "outputs": [],
   "source": [
    "acc = (np.sum(y == p)/y.size)*100"
   ]
  },
  {
   "cell_type": "code",
   "execution_count": 40,
   "metadata": {},
   "outputs": [
    {
     "name": "stdout",
     "output_type": "stream",
     "text": [
      "Train Accuracy: 89.000\n",
      "Expected accuracy (approx): 89.0\n",
      "\n"
     ]
    }
   ],
   "source": [
    "print('Train Accuracy: %.3f' %acc)\n",
    "print('Expected accuracy (approx): 89.0\\n')"
   ]
  },
  {
   "cell_type": "code",
   "execution_count": null,
   "metadata": {},
   "outputs": [],
   "source": []
  }
 ],
 "metadata": {
  "kernelspec": {
   "display_name": "Python 3",
   "language": "python",
   "name": "python3"
  },
  "language_info": {
   "codemirror_mode": {
    "name": "ipython",
    "version": 3
   },
   "file_extension": ".py",
   "mimetype": "text/x-python",
   "name": "python",
   "nbconvert_exporter": "python",
   "pygments_lexer": "ipython3",
   "version": "3.7.8"
  },
  "toc": {
   "base_numbering": 1,
   "nav_menu": {},
   "number_sections": true,
   "sideBar": true,
   "skip_h1_title": false,
   "title_cell": "Table of Contents",
   "title_sidebar": "Contents",
   "toc_cell": false,
   "toc_position": {},
   "toc_section_display": true,
   "toc_window_display": false
  }
 },
 "nbformat": 4,
 "nbformat_minor": 4
}
