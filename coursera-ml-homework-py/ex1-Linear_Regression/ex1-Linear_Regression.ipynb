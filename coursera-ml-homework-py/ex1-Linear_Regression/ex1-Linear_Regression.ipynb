{
 "cells": [
  {
   "cell_type": "markdown",
   "metadata": {},
   "source": [
    "# Exercise 1\n",
    "Coursera - Machine Learning <br/>\n",
    "Andrew Ng"
   ]
  },
  {
   "cell_type": "markdown",
   "metadata": {},
   "source": [
    "## Single Variable"
   ]
  },
  {
   "cell_type": "code",
   "execution_count": 1,
   "metadata": {},
   "outputs": [],
   "source": [
    "import matplotlib.pyplot as plt\n",
    "import numpy as np\n",
    "import csv\n",
    "import itertools\n",
    "import pandas as pd"
   ]
  },
  {
   "cell_type": "markdown",
   "metadata": {},
   "source": [
    "### Basic Function"
   ]
  },
  {
   "cell_type": "code",
   "execution_count": 2,
   "metadata": {},
   "outputs": [
    {
     "data": {
      "text/plain": [
       "array([[1., 0., 0., 0., 0.],\n",
       "       [0., 1., 0., 0., 0.],\n",
       "       [0., 0., 1., 0., 0.],\n",
       "       [0., 0., 0., 1., 0.],\n",
       "       [0., 0., 0., 0., 1.]])"
      ]
     },
     "execution_count": 2,
     "metadata": {},
     "output_type": "execute_result"
    }
   ],
   "source": [
    "# Create 5 x 5 Identity Matrix\n",
    "np.identity(5)"
   ]
  },
  {
   "cell_type": "markdown",
   "metadata": {},
   "source": [
    "### Plotting"
   ]
  },
  {
   "cell_type": "code",
   "execution_count": 3,
   "metadata": {},
   "outputs": [],
   "source": [
    "# Convert .txt database file into .csv file\n",
    "# On second thought I don't think it's needed\n",
    "# Alternative for opening file\n",
    "# with open('ex1data1.txt', 'r') as in_file:\n",
    "#     stripped = (line.strip() for line in in_file)\n",
    "#     lines = (line.split(\",\") for line in stripped if line)\n",
    "#     with open('ex1data1.csv','w') as out_file:\n",
    "#               writer = csv.writer(out_file)\n",
    "#               writer.writerow(('x', 'y'))\n",
    "#               writer.writerows(lines)\n"
   ]
  },
  {
   "cell_type": "code",
   "execution_count": 4,
   "metadata": {
    "scrolled": true
   },
   "outputs": [
    {
     "name": "stdout",
     "output_type": "stream",
     "text": [
      "          0         1\n",
      "0    6.1101  17.59200\n",
      "1    5.5277   9.13020\n",
      "2    8.5186  13.66200\n",
      "3    7.0032  11.85400\n",
      "4    5.8598   6.82330\n",
      "..      ...       ...\n",
      "92   5.8707   7.20290\n",
      "93   5.3054   1.98690\n",
      "94   8.2934   0.14454\n",
      "95  13.3940   9.05510\n",
      "96   5.4369   0.61705\n",
      "\n",
      "[97 rows x 2 columns]\n"
     ]
    }
   ],
   "source": [
    "# Reading the CSV into a pandas DataFrame\n",
    "\n",
    "df = pd.read_csv('ex1data1.txt', header = None, sep = ',')\n",
    "print(df)"
   ]
  },
  {
   "cell_type": "code",
   "execution_count": 5,
   "metadata": {},
   "outputs": [
    {
     "name": "stdout",
     "output_type": "stream",
     "text": [
      "          0         1\n",
      "0    6.1101  17.59200\n",
      "1    5.5277   9.13020\n",
      "2    8.5186  13.66200\n",
      "3    7.0032  11.85400\n",
      "4    5.8598   6.82330\n",
      "..      ...       ...\n",
      "92   5.8707   7.20290\n",
      "93   5.3054   1.98690\n",
      "94   8.2934   0.14454\n",
      "95  13.3940   9.05510\n",
      "96   5.4369   0.61705\n",
      "\n",
      "[97 rows x 2 columns]\n"
     ]
    }
   ],
   "source": [
    "print(df)"
   ]
  },
  {
   "cell_type": "code",
   "execution_count": 6,
   "metadata": {},
   "outputs": [
    {
     "name": "stdout",
     "output_type": "stream",
     "text": [
      "0      6.1101\n",
      "1      5.5277\n",
      "2      8.5186\n",
      "3      7.0032\n",
      "4      5.8598\n",
      "       ...   \n",
      "92     5.8707\n",
      "93     5.3054\n",
      "94     8.2934\n",
      "95    13.3940\n",
      "96     5.4369\n",
      "Name: 0, Length: 97, dtype: float64\n",
      "\n",
      "\n",
      "0     17.59200\n",
      "1      9.13020\n",
      "2     13.66200\n",
      "3     11.85400\n",
      "4      6.82330\n",
      "        ...   \n",
      "92     7.20290\n",
      "93     1.98690\n",
      "94     0.14454\n",
      "95     9.05510\n",
      "96     0.61705\n",
      "Name: 1, Length: 97, dtype: float64\n"
     ]
    }
   ],
   "source": [
    "X = df.iloc[:, 0]\n",
    "y = df.iloc[:, 1]\n",
    "print(X)\n",
    "print(\"\\n\")\n",
    "print(y)"
   ]
  },
  {
   "cell_type": "code",
   "execution_count": 7,
   "metadata": {
    "scrolled": true
   },
   "outputs": [],
   "source": [
    "def plotData(x, y):\n",
    "    font = {'size' : 20}\n",
    "    plt.figure(figsize=(15, 8), dpi=50, facecolor='w')\n",
    "    plt.scatter(x, y, color='red', marker='x', s=144)\n",
    "    plt.rc('font', **font)\n",
    "    plt.xlabel('Population of City in 10,000s')\n",
    "    plt.ylabel('Profit in $10,000')\n",
    "    plt.axis([4, 25, -5, 25])\n",
    "    plt.show()"
   ]
  },
  {
   "cell_type": "code",
   "execution_count": 8,
   "metadata": {},
   "outputs": [
    {
     "data": {
      "image/png": "[encoded data removed]",
      "text/plain": [
       "<Figure size 750x400 with 1 Axes>"
      ]
     },
     "metadata": {},
     "output_type": "display_data"
    }
   ],
   "source": [
    "plotData(X, y)"
   ]
  },
  {
   "cell_type": "markdown",
   "metadata": {},
   "source": [
    "### Cost and Gradient Descent"
   ]
  },
  {
   "cell_type": "code",
   "execution_count": 9,
   "metadata": {},
   "outputs": [
    {
     "data": {
      "text/plain": [
       "97"
      ]
     },
     "execution_count": 9,
     "metadata": {},
     "output_type": "execute_result"
    }
   ],
   "source": [
    "# number of dataset\n",
    "m = len(y)\n",
    "m"
   ]
  },
  {
   "cell_type": "code",
   "execution_count": 10,
   "metadata": {},
   "outputs": [],
   "source": [
    "# When dealing with matrix array operation it's better to have rank of two or ndim = 2, thus\n",
    "X = np.array(X)[:, np.newaxis]\n",
    "y = np.array(y)[:, np.newaxis]"
   ]
  },
  {
   "cell_type": "code",
   "execution_count": 11,
   "metadata": {},
   "outputs": [
    {
     "data": {
      "text/plain": [
       "2"
      ]
     },
     "execution_count": 11,
     "metadata": {},
     "output_type": "execute_result"
    }
   ],
   "source": [
    "X.ndim"
   ]
  },
  {
   "cell_type": "code",
   "execution_count": 12,
   "metadata": {},
   "outputs": [
    {
     "data": {
      "text/plain": [
       "(97, 1)"
      ]
     },
     "execution_count": 12,
     "metadata": {},
     "output_type": "execute_result"
    }
   ],
   "source": [
    "X.shape"
   ]
  },
  {
   "cell_type": "code",
   "execution_count": 13,
   "metadata": {},
   "outputs": [],
   "source": [
    "# Adding intercept term (bias) to array X\n",
    "ones = np.ones([m, 1])\n",
    "X = np.hstack([ones, X])"
   ]
  },
  {
   "cell_type": "code",
   "execution_count": 14,
   "metadata": {},
   "outputs": [],
   "source": [
    "# Define alpha value (learning rate) and max iteration\n",
    "a = 0.001\n",
    "iteration = 1500"
   ]
  },
  {
   "cell_type": "code",
   "execution_count": 15,
   "metadata": {},
   "outputs": [
    {
     "data": {
      "text/plain": [
       "array([[0.],\n",
       "       [0.]])"
      ]
     },
     "execution_count": 15,
     "metadata": {},
     "output_type": "execute_result"
    }
   ],
   "source": [
    "# Prepare matrix to hold theta values\n",
    "theta = np.zeros([2, 1])\n",
    "theta"
   ]
  },
  {
   "cell_type": "markdown",
   "metadata": {},
   "source": [
    "### Cost Function\n",
    "<!-- <img src = \".\\img\\cost-funct-basic.PNG\"> -->\n",
    "![cost-funct-basic](.\\img\\cost-funct-basic.PNG)"
   ]
  },
  {
   "cell_type": "code",
   "execution_count": 16,
   "metadata": {},
   "outputs": [],
   "source": [
    "# Define computeCost function\n",
    "def computeCost(X, y, theta):\n",
    "    const = 1/(2*m)\n",
    "    temp = np.matmul(X, theta) - y\n",
    "    J = const * np.sum(np.power(temp,2))\n",
    "    return J"
   ]
  },
  {
   "cell_type": "code",
   "execution_count": 17,
   "metadata": {
    "scrolled": true
   },
   "outputs": [
    {
     "data": {
      "text/plain": [
       "array([[1.    , 6.1101],\n",
       "       [1.    , 5.5277],\n",
       "       [1.    , 8.5186],\n",
       "       [1.    , 7.0032],\n",
       "       [1.    , 5.8598],\n",
       "       [1.    , 8.3829],\n",
       "       [1.    , 7.4764],\n",
       "       [1.    , 8.5781],\n",
       "       [1.    , 6.4862],\n",
       "       [1.    , 5.0546]])"
      ]
     },
     "execution_count": 17,
     "metadata": {},
     "output_type": "execute_result"
    }
   ],
   "source": [
    "# Peek X\n",
    "X[:10]"
   ]
  },
  {
   "cell_type": "code",
   "execution_count": 18,
   "metadata": {},
   "outputs": [
    {
     "name": "stdout",
     "output_type": "stream",
     "text": [
      "With theta = [0 ; 0], \n",
      "Cost computed = 32.07 \n"
     ]
    }
   ],
   "source": [
    "# Calculate computeCost with theta [0; 0]\n",
    "J1 = computeCost(X, y, theta)\n",
    "print(\"With theta = [0 ; 0], \\nCost computed = %.2f \" %J1)"
   ]
  },
  {
   "cell_type": "code",
   "execution_count": 19,
   "metadata": {},
   "outputs": [
    {
     "name": "stdout",
     "output_type": "stream",
     "text": [
      "With theta [-1, 2], \n",
      " Cost computed: 54.24\n"
     ]
    }
   ],
   "source": [
    "# Calculate computeCost with theta [-1; 2]\n",
    "theta1 = np.array([-1, 2])\n",
    "theta1 = theta1[:, np.newaxis]\n",
    "J2 = computeCost(X, y, theta1)\n",
    "print(\"With theta [-1, 2], \\n Cost computed: %.2f\" %J2) "
   ]
  },
  {
   "cell_type": "markdown",
   "metadata": {},
   "source": [
    "### Gradient Descent\n",
    "<!-- <img src = ./img/grad-descent-basic.png> -->\n",
    "![grad_descent-basic](./img/grad-descent-basic.png)"
   ]
  },
  {
   "cell_type": "code",
   "execution_count": 20,
   "metadata": {},
   "outputs": [],
   "source": [
    "# Variable for gradient descent\n",
    "# Learning rate and iteration\n",
    "alpha = 0.01\n",
    "iteration = 1500"
   ]
  },
  {
   "cell_type": "code",
   "execution_count": 21,
   "metadata": {
    "scrolled": true
   },
   "outputs": [],
   "source": [
    "theta = np.zeros([2, 1])\n",
    "def gradientDescent(X, y, theta, alpha):\n",
    "    J_hist = np.zeros([iteration, 1])\n",
    "    for t in range(iteration):\n",
    "        temp = (np.dot(X, theta) - y)\n",
    "        temp = np.dot(X.T, temp)\n",
    "        temp = alpha/m * temp\n",
    "        \n",
    "        \n",
    "        \n",
    "        theta = theta - temp\n",
    "        J_hist[t] = computeCost(X, y, theta)\n",
    "    return theta, J_hist"
   ]
  },
  {
   "cell_type": "code",
   "execution_count": 22,
   "metadata": {
    "scrolled": true
   },
   "outputs": [],
   "source": [
    "theta, J_hist = gradientDescent(X, y, theta, alpha)"
   ]
  },
  {
   "cell_type": "code",
   "execution_count": 23,
   "metadata": {
    "scrolled": true
   },
   "outputs": [
    {
     "data": {
      "text/plain": [
       "array([[-3.63029144],\n",
       "       [ 1.16636235]])"
      ]
     },
     "execution_count": 23,
     "metadata": {},
     "output_type": "execute_result"
    }
   ],
   "source": [
    "theta"
   ]
  },
  {
   "cell_type": "code",
   "execution_count": 24,
   "metadata": {},
   "outputs": [
    {
     "data": {
      "text/plain": [
       "array([[6.73719046],\n",
       "       [5.93159357],\n",
       "       [5.90115471],\n",
       "       ...,\n",
       "       [4.48343473],\n",
       "       [4.48341145],\n",
       "       [4.48338826]])"
      ]
     },
     "execution_count": 24,
     "metadata": {},
     "output_type": "execute_result"
    }
   ],
   "source": [
    "J_hist"
   ]
  },
  {
   "cell_type": "code",
   "execution_count": 25,
   "metadata": {},
   "outputs": [
    {
     "data": {
      "text/plain": [
       "[<matplotlib.lines.Line2D at 0x2ddb19b01c8>]"
      ]
     },
     "execution_count": 25,
     "metadata": {},
     "output_type": "execute_result"
    },
    {
     "data": {
      "image/png": "[encoded data removed]",
      "text/plain": [
       "<Figure size 432x288 with 1 Axes>"
      ]
     },
     "metadata": {},
     "output_type": "display_data"
    }
   ],
   "source": [
    "# Checks to see whether J_hist decrease each iteration\n",
    "plt.style.use('fivethirtyeight')\n",
    "plt.title(\"J_history Plot\")\n",
    "plt.plot(J_hist)"
   ]
  },
  {
   "cell_type": "markdown",
   "metadata": {},
   "source": [
    "### Plotting Linear Regression"
   ]
  },
  {
   "cell_type": "code",
   "execution_count": 26,
   "metadata": {
    "scrolled": true
   },
   "outputs": [
    {
     "data": {
      "image/png": "[encoded data removed]",
      "text/plain": [
       "<Figure size 680x360 with 1 Axes>"
      ]
     },
     "metadata": {},
     "output_type": "display_data"
    }
   ],
   "source": [
    "# Plot the linear fit\n",
    "plt.figure(figsize=(17, 9), dpi=40)\n",
    "font = {'size' : 25}\n",
    "plt.rc('font', **font)\n",
    "plt.scatter(X[:, [1]], y, color = '#aa0000')\n",
    "plt.plot(X[:, [1]], np.dot(X, theta), color = '#adff5d')\n",
    "plt.xlabel('Population of City in 10,000s')\n",
    "plt.ylabel('Profit in $10,000s')\n",
    "plt.axis([4, 23, -5, 25])\n",
    "plt.show()"
   ]
  },
  {
   "cell_type": "code",
   "execution_count": 27,
   "metadata": {},
   "outputs": [
    {
     "name": "stdout",
     "output_type": "stream",
     "text": [
      "For population = 35,000, we predict a profit of 4519.76787\n"
     ]
    }
   ],
   "source": [
    "# Predict values for population sizes of 35,000 and 70,000\n",
    "theta_pred1 = np.array([1, 3.5])\n",
    "predict1 = np.dot(theta_pred1, theta)\n",
    "print(\"For population = 35,000, we predict a profit of %.5f\" %(predict1*10000))"
   ]
  },
  {
   "cell_type": "code",
   "execution_count": 28,
   "metadata": {},
   "outputs": [
    {
     "name": "stdout",
     "output_type": "stream",
     "text": [
      "For population = 70,000, we predict a profit of 45342.45013\n"
     ]
    }
   ],
   "source": [
    "# Predict values for population sizes of 35,000 and 70,000\n",
    "theta_pred2 = np.array([1, 7])\n",
    "predict2 = np.dot(theta_pred2, theta)\n",
    "print(\"For population = 70,000, we predict a profit of %.5f\" %(predict2*10000))"
   ]
  },
  {
   "cell_type": "markdown",
   "metadata": {},
   "source": [
    "### Visualizing J (θ)"
   ]
  },
  {
   "cell_type": "code",
   "execution_count": 29,
   "metadata": {},
   "outputs": [],
   "source": [
    "# Save it for later let's try multivariate first"
   ]
  },
  {
   "cell_type": "code",
   "execution_count": null,
   "metadata": {},
   "outputs": [],
   "source": []
  },
  {
   "cell_type": "markdown",
   "metadata": {},
   "source": [
    "## Multiple Variable"
   ]
  },
  {
   "cell_type": "markdown",
   "metadata": {},
   "source": [
    "### Feature Normalization"
   ]
  },
  {
   "cell_type": "code",
   "execution_count": 30,
   "metadata": {
    "scrolled": true
   },
   "outputs": [
    {
     "data": {
      "text/html": [
       "<div>\n",
       "<style scoped>\n",
       "    .dataframe tbody tr th:only-of-type {\n",
       "        vertical-align: middle;\n",
       "    }\n",
       "\n",
       "    .dataframe tbody tr th {\n",
       "        vertical-align: top;\n",
       "    }\n",
       "\n",
       "    .dataframe thead th {\n",
       "        text-align: right;\n",
       "    }\n",
       "</style>\n",
       "<table border=\"1\" class=\"dataframe\">\n",
       "  <thead>\n",
       "    <tr style=\"text-align: right;\">\n",
       "      <th></th>\n",
       "      <th>0</th>\n",
       "      <th>1</th>\n",
       "      <th>2</th>\n",
       "    </tr>\n",
       "  </thead>\n",
       "  <tbody>\n",
       "    <tr>\n",
       "      <th>0</th>\n",
       "      <td>2104</td>\n",
       "      <td>3</td>\n",
       "      <td>399900</td>\n",
       "    </tr>\n",
       "    <tr>\n",
       "      <th>1</th>\n",
       "      <td>1600</td>\n",
       "      <td>3</td>\n",
       "      <td>329900</td>\n",
       "    </tr>\n",
       "    <tr>\n",
       "      <th>2</th>\n",
       "      <td>2400</td>\n",
       "      <td>3</td>\n",
       "      <td>369000</td>\n",
       "    </tr>\n",
       "    <tr>\n",
       "      <th>3</th>\n",
       "      <td>1416</td>\n",
       "      <td>2</td>\n",
       "      <td>232000</td>\n",
       "    </tr>\n",
       "    <tr>\n",
       "      <th>4</th>\n",
       "      <td>3000</td>\n",
       "      <td>4</td>\n",
       "      <td>539900</td>\n",
       "    </tr>\n",
       "  </tbody>\n",
       "</table>\n",
       "</div>"
      ],
      "text/plain": [
       "      0  1       2\n",
       "0  2104  3  399900\n",
       "1  1600  3  329900\n",
       "2  2400  3  369000\n",
       "3  1416  2  232000\n",
       "4  3000  4  539900"
      ]
     },
     "execution_count": 30,
     "metadata": {},
     "output_type": "execute_result"
    }
   ],
   "source": [
    "# Load data\n",
    "df = pd.read_csv(\"ex1data2.txt\", header=None, sep=\",\")\n",
    "df.head()"
   ]
  },
  {
   "cell_type": "code",
   "execution_count": 31,
   "metadata": {},
   "outputs": [
    {
     "data": {
      "text/plain": [
       "pandas.core.frame.DataFrame"
      ]
     },
     "execution_count": 31,
     "metadata": {},
     "output_type": "execute_result"
    }
   ],
   "source": [
    "type(df)"
   ]
  },
  {
   "cell_type": "code",
   "execution_count": 32,
   "metadata": {},
   "outputs": [],
   "source": [
    "X = df.iloc[:, 0]"
   ]
  },
  {
   "cell_type": "code",
   "execution_count": 33,
   "metadata": {},
   "outputs": [
    {
     "data": {
      "text/plain": [
       "pandas.core.series.Series"
      ]
     },
     "execution_count": 33,
     "metadata": {},
     "output_type": "execute_result"
    }
   ],
   "source": [
    "type(X)"
   ]
  },
  {
   "cell_type": "code",
   "execution_count": 34,
   "metadata": {
    "scrolled": true
   },
   "outputs": [
    {
     "name": "stdout",
     "output_type": "stream",
     "text": [
      "[[2104    3]\n",
      " [1600    3]\n",
      " [2400    3]\n",
      " [1416    2]\n",
      " [3000    4]\n",
      " [1985    4]\n",
      " [1534    3]\n",
      " [1427    3]\n",
      " [1380    3]\n",
      " [1494    3]]\n",
      "\n",
      "\n",
      "[[399900]\n",
      " [329900]\n",
      " [369000]\n",
      " [232000]\n",
      " [539900]\n",
      " [299900]\n",
      " [314900]\n",
      " [198999]\n",
      " [212000]\n",
      " [242500]]\n"
     ]
    }
   ],
   "source": [
    "X = df.iloc[:,0:2].to_numpy()\n",
    "y = df.iloc[:, 2].to_numpy()\n",
    "y = y[:, np.newaxis]\n",
    "print(X[:10])\n",
    "print(\"\\n\")\n",
    "print(y[:10])"
   ]
  },
  {
   "cell_type": "code",
   "execution_count": 35,
   "metadata": {},
   "outputs": [],
   "source": [
    "def featureNormalize(X):\n",
    "    m, n = X.shape\n",
    "    X_mean = []\n",
    "    X_std = []\n",
    "    for i in range(n):\n",
    "        X_mean.append(np.mean(X[:, i]))\n",
    "        X_std.append(np.std(X[:, i], ddof=1))\n",
    "    \n",
    "    X = (X - X_mean)/X_std\n",
    "    \n",
    "    return X"
   ]
  },
  {
   "cell_type": "code",
   "execution_count": 36,
   "metadata": {},
   "outputs": [],
   "source": [
    "X_norm = featureNormalize(X)"
   ]
  },
  {
   "cell_type": "code",
   "execution_count": 37,
   "metadata": {},
   "outputs": [
    {
     "data": {
      "text/plain": [
       "array([[ 0.13000987, -0.22367519],\n",
       "       [-0.50418984, -0.22367519],\n",
       "       [ 0.50247636, -0.22367519],\n",
       "       [-0.73572306, -1.53776691],\n",
       "       [ 1.25747602,  1.09041654],\n",
       "       [-0.01973173,  1.09041654],\n",
       "       [-0.5872398 , -0.22367519],\n",
       "       [-0.7218814 , -0.22367519],\n",
       "       [-0.78102304, -0.22367519],\n",
       "       [-0.63757311, -0.22367519]])"
      ]
     },
     "execution_count": 37,
     "metadata": {},
     "output_type": "execute_result"
    }
   ],
   "source": [
    "X_norm[:10]"
   ]
  },
  {
   "cell_type": "code",
   "execution_count": 38,
   "metadata": {},
   "outputs": [
    {
     "data": {
      "text/plain": [
       "47"
      ]
     },
     "execution_count": 38,
     "metadata": {},
     "output_type": "execute_result"
    }
   ],
   "source": [
    "len(X_norm)"
   ]
  },
  {
   "cell_type": "code",
   "execution_count": 39,
   "metadata": {},
   "outputs": [],
   "source": [
    "# Adding intercept/biar term (matrix of ones) to newly normalized X\n",
    "ones = np.ones([len(X_norm), 1])\n",
    "X_norm = np.hstack([ones, X_norm])"
   ]
  },
  {
   "cell_type": "code",
   "execution_count": 40,
   "metadata": {
    "scrolled": true
   },
   "outputs": [
    {
     "data": {
      "text/plain": [
       "array([[ 1.        ,  0.13000987, -0.22367519],\n",
       "       [ 1.        , -0.50418984, -0.22367519],\n",
       "       [ 1.        ,  0.50247636, -0.22367519],\n",
       "       [ 1.        , -0.73572306, -1.53776691],\n",
       "       [ 1.        ,  1.25747602,  1.09041654],\n",
       "       [ 1.        , -0.01973173,  1.09041654],\n",
       "       [ 1.        , -0.5872398 , -0.22367519],\n",
       "       [ 1.        , -0.7218814 , -0.22367519],\n",
       "       [ 1.        , -0.78102304, -0.22367519],\n",
       "       [ 1.        , -0.63757311, -0.22367519]])"
      ]
     },
     "execution_count": 40,
     "metadata": {},
     "output_type": "execute_result"
    }
   ],
   "source": [
    "X_norm[:10]"
   ]
  },
  {
   "cell_type": "code",
   "execution_count": 41,
   "metadata": {},
   "outputs": [
    {
     "data": {
      "text/plain": [
       "numpy.ndarray"
      ]
     },
     "execution_count": 41,
     "metadata": {},
     "output_type": "execute_result"
    }
   ],
   "source": [
    "type(X)"
   ]
  },
  {
   "cell_type": "code",
   "execution_count": 42,
   "metadata": {},
   "outputs": [],
   "source": [
    "# Initialize new 3x1 theta matrix for X_norm\n",
    "theta = np.zeros([3, 1])"
   ]
  },
  {
   "cell_type": "markdown",
   "metadata": {},
   "source": [
    "### Gradient Descent Multiple Variables"
   ]
  },
  {
   "cell_type": "code",
   "execution_count": 43,
   "metadata": {},
   "outputs": [],
   "source": [
    "# First to calculate J_history, computeCostMulti is necessary\n",
    "def computeCostMulti(X, y, theta):\n",
    "    m, n = X.shape\n",
    "    temp1 = np.dot(X_norm, theta)-y\n",
    "    J = 1/(2*m) * np.sum(np.power(temp1, 2))\n",
    "    return J "
   ]
  },
  {
   "cell_type": "code",
   "execution_count": 44,
   "metadata": {},
   "outputs": [],
   "source": [
    "J_multi_test = computeCostMulti(X_norm, y, theta)"
   ]
  },
  {
   "cell_type": "code",
   "execution_count": 45,
   "metadata": {},
   "outputs": [
    {
     "data": {
      "text/plain": [
       "65591548106.45744"
      ]
     },
     "execution_count": 45,
     "metadata": {},
     "output_type": "execute_result"
    }
   ],
   "source": [
    "J_multi_test"
   ]
  },
  {
   "cell_type": "code",
   "execution_count": 46,
   "metadata": {},
   "outputs": [],
   "source": [
    "# Define alpha and iteration value for gradient descent\n",
    "alpha = 0.01\n",
    "num_iters = 400"
   ]
  },
  {
   "cell_type": "code",
   "execution_count": 47,
   "metadata": {},
   "outputs": [],
   "source": [
    "# Now define gradientDescentMulti\n",
    "theta = np.zeros([3, 1])\n",
    "def gradDescentMulti(X, y, theta, alpha, iteration):\n",
    "    m, n = X.shape # m, number of dataset and n, number of features of X_norm\n",
    "    J_hist = np.zeros([iteration, 1])\n",
    "    for t in range(num_iters):\n",
    "        temp = (np.dot(X, theta) - y)\n",
    "        temp = np.dot(X.T, temp)\n",
    "        temp = alpha/m * temp\n",
    "        theta = theta - temp\n",
    "        J_hist[t] = computeCostMulti(X, y, theta)\n",
    "    return theta, J_hist"
   ]
  },
  {
   "cell_type": "code",
   "execution_count": 48,
   "metadata": {
    "scrolled": true
   },
   "outputs": [],
   "source": [
    "theta, J_hist = gradDescentMulti(X_norm, y, theta, alpha, num_iters)"
   ]
  },
  {
   "cell_type": "code",
   "execution_count": 49,
   "metadata": {
    "scrolled": true
   },
   "outputs": [
    {
     "data": {
      "text/plain": [
       "array([[6.43007496e+10],\n",
       "       [6.30367950e+10],\n",
       "       [6.17991118e+10],\n",
       "       [6.05871404e+10],\n",
       "       [5.94003332e+10],\n",
       "       [5.82381546e+10],\n",
       "       [5.71000810e+10],\n",
       "       [5.59856000e+10],\n",
       "       [5.48942105e+10],\n",
       "       [5.38254223e+10]])"
      ]
     },
     "execution_count": 49,
     "metadata": {},
     "output_type": "execute_result"
    }
   ],
   "source": [
    "J_hist[:10]"
   ]
  },
  {
   "cell_type": "code",
   "execution_count": 50,
   "metadata": {
    "scrolled": true
   },
   "outputs": [
    {
     "data": {
      "text/plain": [
       "array([[334302.06399328],\n",
       "       [100087.11600585],\n",
       "       [  3673.54845093]])"
      ]
     },
     "execution_count": 50,
     "metadata": {},
     "output_type": "execute_result"
    }
   ],
   "source": [
    "theta"
   ]
  },
  {
   "cell_type": "code",
   "execution_count": 51,
   "metadata": {},
   "outputs": [
    {
     "data": {
      "image/png": "[encoded data removed]",
      "text/plain": [
       "<Figure size 432x288 with 1 Axes>"
      ]
     },
     "metadata": {},
     "output_type": "display_data"
    }
   ],
   "source": [
    "# Plot J history for multiple variables\n",
    "plt.style.use('fivethirtyeight')\n",
    "\n",
    "plt.plot(range(num_iters), J_hist)\n",
    "plt.xlabel(\"Iteration\")\n",
    "plt.ylabel(r'J($\\theta$)')\n",
    "plt.title(\"J_history with 400 iteration\")\n",
    "plt.show()"
   ]
  },
  {
   "cell_type": "code",
   "execution_count": 52,
   "metadata": {},
   "outputs": [
    {
     "data": {
      "text/plain": [
       "(400, 1)"
      ]
     },
     "execution_count": 52,
     "metadata": {},
     "output_type": "execute_result"
    }
   ],
   "source": [
    "J_hist.shape"
   ]
  },
  {
   "cell_type": "code",
   "execution_count": 53,
   "metadata": {
    "scrolled": true
   },
   "outputs": [
    {
     "name": "stdout",
     "output_type": "stream",
     "text": [
      "Theta computed from gradient descent multiple features with learning rate of 0.010:\n",
      "[[334302.06399328]\n",
      " [100087.11600585]\n",
      " [  3673.54845093]]\n"
     ]
    }
   ],
   "source": [
    "print('Theta computed from gradient descent multiple features with learning rate of %.3f:' %alpha)\n",
    "np.printoptions(precision=3, suppress=True)\n",
    "print(theta)"
   ]
  },
  {
   "cell_type": "code",
   "execution_count": 54,
   "metadata": {},
   "outputs": [
    {
     "data": {
      "text/plain": [
       "array([[1.65489064e+08]])"
      ]
     },
     "execution_count": 54,
     "metadata": {},
     "output_type": "execute_result"
    }
   ],
   "source": [
    "# Estimate the house with 1650 sq-ft and 3 br\n",
    "# Theta0*1 + Theta1*1650 + Theta2*3\n",
    "housefeat = np.array([[1, 1650, 3]]).reshape(3, 1)\n",
    "price = np.dot(np.transpose(theta), housefeat)\n",
    "price"
   ]
  },
  {
   "cell_type": "code",
   "execution_count": 55,
   "metadata": {},
   "outputs": [
    {
     "data": {
      "text/plain": [
       "165489064.11899266"
      ]
     },
     "execution_count": 55,
     "metadata": {},
     "output_type": "execute_result"
    }
   ],
   "source": [
    "house_price = price.item()\n",
    "house_price"
   ]
  },
  {
   "cell_type": "code",
   "execution_count": 56,
   "metadata": {},
   "outputs": [
    {
     "name": "stdout",
     "output_type": "stream",
     "text": [
      "Estimated house price: 165489064.119\n"
     ]
    }
   ],
   "source": [
    "# Then the estimated house price with 1650-sq ft and 3 br is\n",
    "print('Estimated house price: %.3f' %house_price)"
   ]
  },
  {
   "cell_type": "code",
   "execution_count": null,
   "metadata": {},
   "outputs": [],
   "source": []
  },
  {
   "cell_type": "markdown",
   "metadata": {},
   "source": [
    "### Normal Equations"
   ]
  },
  {
   "cell_type": "code",
   "execution_count": 57,
   "metadata": {},
   "outputs": [],
   "source": [
    "df = pd.read_csv('ex1data2.txt', header = None, sep = ',')"
   ]
  },
  {
   "cell_type": "code",
   "execution_count": 58,
   "metadata": {},
   "outputs": [],
   "source": [
    "X = df.iloc[:, 0:2].to_numpy()\n",
    "y = df.iloc[:, 2].to_numpy()"
   ]
  },
  {
   "cell_type": "code",
   "execution_count": 59,
   "metadata": {},
   "outputs": [
    {
     "data": {
      "text/plain": [
       "array([[2104,    3],\n",
       "       [1600,    3],\n",
       "       [2400,    3],\n",
       "       [1416,    2],\n",
       "       [3000,    4],\n",
       "       [1985,    4],\n",
       "       [1534,    3],\n",
       "       [1427,    3],\n",
       "       [1380,    3],\n",
       "       [1494,    3]], dtype=int64)"
      ]
     },
     "execution_count": 59,
     "metadata": {},
     "output_type": "execute_result"
    }
   ],
   "source": [
    "X[:10]"
   ]
  },
  {
   "cell_type": "code",
   "execution_count": 60,
   "metadata": {},
   "outputs": [
    {
     "data": {
      "text/plain": [
       "array([399900, 329900, 369000, 232000, 539900, 299900, 314900, 198999,\n",
       "       212000, 242500], dtype=int64)"
      ]
     },
     "execution_count": 60,
     "metadata": {},
     "output_type": "execute_result"
    }
   ],
   "source": [
    "y[:10]"
   ]
  },
  {
   "cell_type": "code",
   "execution_count": 61,
   "metadata": {},
   "outputs": [
    {
     "data": {
      "text/plain": [
       "numpy.ndarray"
      ]
     },
     "execution_count": 61,
     "metadata": {},
     "output_type": "execute_result"
    }
   ],
   "source": [
    "type(X)"
   ]
  },
  {
   "cell_type": "code",
   "execution_count": 62,
   "metadata": {},
   "outputs": [
    {
     "data": {
      "text/plain": [
       "array([[   1, 2104,    3],\n",
       "       [   1, 1600,    3],\n",
       "       [   1, 2400,    3],\n",
       "       [   1, 1416,    2],\n",
       "       [   1, 3000,    4],\n",
       "       [   1, 1985,    4],\n",
       "       [   1, 1534,    3],\n",
       "       [   1, 1427,    3],\n",
       "       [   1, 1380,    3],\n",
       "       [   1, 1494,    3]], dtype=int64)"
      ]
     },
     "execution_count": 62,
     "metadata": {},
     "output_type": "execute_result"
    }
   ],
   "source": [
    "# Add intercept/bias term to matrix of X\n",
    "X = np.insert(X, 0, 1, axis=1)\n",
    "X[:10]"
   ]
  },
  {
   "cell_type": "code",
   "execution_count": 63,
   "metadata": {},
   "outputs": [],
   "source": [
    "def normalEqn(X, y):\n",
    "    X_t = X.transpose()\n",
    "    temp = np.dot(X_t, X)\n",
    "    theta = np.dot(np.dot(np.linalg.pinv(temp), X_t), y)\n",
    "    return theta"
   ]
  },
  {
   "cell_type": "code",
   "execution_count": 64,
   "metadata": {},
   "outputs": [
    {
     "data": {
      "text/plain": [
       "array([[89597.90954361,   139.21067402, -8738.01911255]])"
      ]
     },
     "execution_count": 64,
     "metadata": {},
     "output_type": "execute_result"
    }
   ],
   "source": [
    "# Calclate theta using normal equation and convert it into 2 dimension using ndmin\n",
    "theta = normalEqn(X, y)\n",
    "theta = np.array(theta, ndmin = 2)\n",
    "theta"
   ]
  },
  {
   "cell_type": "code",
   "execution_count": 65,
   "metadata": {},
   "outputs": [
    {
     "data": {
      "text/plain": [
       "(1, 3)"
      ]
     },
     "execution_count": 65,
     "metadata": {},
     "output_type": "execute_result"
    }
   ],
   "source": [
    "theta.shape"
   ]
  },
  {
   "cell_type": "code",
   "execution_count": 66,
   "metadata": {},
   "outputs": [
    {
     "name": "stdout",
     "output_type": "stream",
     "text": [
      "Theta obtained from the normal equation are [[89597.90954361   139.21067402 -8738.01911255]]\n"
     ]
    }
   ],
   "source": [
    "print('Theta obtained from the normal equation are', theta)"
   ]
  },
  {
   "cell_type": "code",
   "execution_count": 67,
   "metadata": {},
   "outputs": [
    {
     "data": {
      "text/plain": [
       "array([[293081.46433499]])"
      ]
     },
     "execution_count": 67,
     "metadata": {},
     "output_type": "execute_result"
    }
   ],
   "source": [
    "# Estimate the house with 1650 sq-ft and 3 br\n",
    "# Theta0*1 + Theta1*1650 + Theta2*3\n",
    "housefeat = np.array([[1, 1650, 3]]).reshape(3, 1)\n",
    "price = np.dot(theta, housefeat)\n",
    "price"
   ]
  },
  {
   "cell_type": "code",
   "execution_count": 68,
   "metadata": {},
   "outputs": [
    {
     "data": {
      "text/plain": [
       "293081.4643349892"
      ]
     },
     "execution_count": 68,
     "metadata": {},
     "output_type": "execute_result"
    }
   ],
   "source": [
    "house_price = price.item()\n",
    "house_price"
   ]
  },
  {
   "cell_type": "code",
   "execution_count": 69,
   "metadata": {},
   "outputs": [
    {
     "name": "stdout",
     "output_type": "stream",
     "text": [
      "Estimated house price: 293081.464\n"
     ]
    }
   ],
   "source": [
    "# Then the estimated house price with 1650-sq ft and 3 br is\n",
    "print('Estimated house price: %.3f' %house_price)"
   ]
  },
  {
   "cell_type": "code",
   "execution_count": null,
   "metadata": {},
   "outputs": [],
   "source": []
  }
 ],
 "metadata": {
  "kernelspec": {
   "display_name": "Python 3",
   "language": "python",
   "name": "python3"
  },
  "language_info": {
   "codemirror_mode": {
    "name": "ipython",
    "version": 3
   },
   "file_extension": ".py",
   "mimetype": "text/x-python",
   "name": "python",
   "nbconvert_exporter": "python",
   "pygments_lexer": "ipython3",
   "version": "3.7.8"
  }
 },
 "nbformat": 4,
 "nbformat_minor": 4
}
