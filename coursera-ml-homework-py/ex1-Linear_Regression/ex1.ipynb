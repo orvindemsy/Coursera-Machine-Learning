{
 "cells": [
  {
   "cell_type": "markdown",
   "metadata": {},
   "source": [
    "# Exercise 1\n",
    "Coursera - Machine Learning <br/>\n",
    "Andrew Ng"
   ]
  },
  {
   "cell_type": "markdown",
   "metadata": {},
   "source": [
    "## Single Variable"
   ]
  },
  {
   "cell_type": "code",
   "execution_count": 2,
   "metadata": {},
   "outputs": [],
   "source": [
    "import matplotlib.pyplot as plt\n",
    "import numpy as np\n",
    "import csv\n",
    "import itertools\n",
    "import pandas as pd"
   ]
  },
  {
   "cell_type": "markdown",
   "metadata": {},
   "source": [
    "### Basic Function"
   ]
  },
  {
   "cell_type": "code",
   "execution_count": 110,
   "metadata": {},
   "outputs": [
    {
     "data": {
      "text/plain": [
       "array([[1., 0., 0., 0., 0.],\n",
       "       [0., 1., 0., 0., 0.],\n",
       "       [0., 0., 1., 0., 0.],\n",
       "       [0., 0., 0., 1., 0.],\n",
       "       [0., 0., 0., 0., 1.]])"
      ]
     },
     "execution_count": 110,
     "metadata": {},
     "output_type": "execute_result"
    }
   ],
   "source": [
    "# Create 5 x 5 Identity Matrix\n",
    "np.identity(5)"
   ]
  },
  {
   "cell_type": "markdown",
   "metadata": {},
   "source": [
    "### Plotting"
   ]
  },
  {
   "cell_type": "code",
   "execution_count": 111,
   "metadata": {},
   "outputs": [],
   "source": [
    "# Convert .txt database file into .csv file\n",
    "# On second thought I don't think it's needed\n",
    "# Alternative for opening file\n",
    "# with open('ex1data1.txt', 'r') as in_file:\n",
    "#     stripped = (line.strip() for line in in_file)\n",
    "#     lines = (line.split(\",\") for line in stripped if line)\n",
    "#     with open('ex1data1.csv','w') as out_file:\n",
    "#               writer = csv.writer(out_file)\n",
    "#               writer.writerow(('x', 'y'))\n",
    "#               writer.writerows(lines)\n"
   ]
  },
  {
   "cell_type": "code",
   "execution_count": 164,
   "metadata": {
    "scrolled": true
   },
   "outputs": [
    {
     "name": "stdout",
     "output_type": "stream",
     "text": [
      "          0         1\n",
      "0    6.1101  17.59200\n",
      "1    5.5277   9.13020\n",
      "2    8.5186  13.66200\n",
      "3    7.0032  11.85400\n",
      "4    5.8598   6.82330\n",
      "..      ...       ...\n",
      "92   5.8707   7.20290\n",
      "93   5.3054   1.98690\n",
      "94   8.2934   0.14454\n",
      "95  13.3940   9.05510\n",
      "96   5.4369   0.61705\n",
      "\n",
      "[97 rows x 2 columns]\n"
     ]
    }
   ],
   "source": [
    "# Reading the CSV into a pandas DataFrame\n",
    "\n",
    "df = pd.read_csv('ex1data1.txt', header = None, sep = ',')\n",
    "print(df)"
   ]
  },
  {
   "cell_type": "code",
   "execution_count": 113,
   "metadata": {
    "scrolled": false
   },
   "outputs": [
    {
     "name": "stdout",
     "output_type": "stream",
     "text": [
      "          0         1\n",
      "0    6.1101  17.59200\n",
      "1    5.5277   9.13020\n",
      "2    8.5186  13.66200\n",
      "3    7.0032  11.85400\n",
      "4    5.8598   6.82330\n",
      "..      ...       ...\n",
      "92   5.8707   7.20290\n",
      "93   5.3054   1.98690\n",
      "94   8.2934   0.14454\n",
      "95  13.3940   9.05510\n",
      "96   5.4369   0.61705\n",
      "\n",
      "[97 rows x 2 columns]\n"
     ]
    }
   ],
   "source": [
    "print(df)"
   ]
  },
  {
   "cell_type": "code",
   "execution_count": 114,
   "metadata": {
    "scrolled": false
   },
   "outputs": [
    {
     "name": "stdout",
     "output_type": "stream",
     "text": [
      "0      6.1101\n",
      "1      5.5277\n",
      "2      8.5186\n",
      "3      7.0032\n",
      "4      5.8598\n",
      "       ...   \n",
      "92     5.8707\n",
      "93     5.3054\n",
      "94     8.2934\n",
      "95    13.3940\n",
      "96     5.4369\n",
      "Name: 0, Length: 97, dtype: float64\n",
      "\n",
      "\n",
      "0     17.59200\n",
      "1      9.13020\n",
      "2     13.66200\n",
      "3     11.85400\n",
      "4      6.82330\n",
      "        ...   \n",
      "92     7.20290\n",
      "93     1.98690\n",
      "94     0.14454\n",
      "95     9.05510\n",
      "96     0.61705\n",
      "Name: 1, Length: 97, dtype: float64\n"
     ]
    }
   ],
   "source": [
    "X = df.iloc[:, 0]\n",
    "y = df.iloc[:, 1]\n",
    "print(X)\n",
    "print(\"\\n\")\n",
    "print(y)"
   ]
  },
  {
   "cell_type": "code",
   "execution_count": 115,
   "metadata": {
    "scrolled": true
   },
   "outputs": [],
   "source": [
    "def plotData(x, y):\n",
    "    font = {'size' : 20}\n",
    "    plt.figure(figsize=(15, 8), dpi=50, facecolor='w')\n",
    "    plt.scatter(x, y, color='red', marker='x', s=144)\n",
    "    plt.rc('font', **font)\n",
    "    plt.xlabel('Population of City in 10,000s')\n",
    "    plt.ylabel('Profit in $10,000')\n",
    "    plt.axis([4, 25, -5, 25])\n",
    "    plt.show()"
   ]
  },
  {
   "cell_type": "code",
   "execution_count": 116,
   "metadata": {},
   "outputs": [
    {
     "data": {
      "image/png": "[encoded data removed]",
      "text/plain": [
       "<Figure size 750x400 with 1 Axes>"
      ]
     },
     "metadata": {},
     "output_type": "display_data"
    }
   ],
   "source": [
    "plotData(X, y)"
   ]
  },
  {
   "cell_type": "markdown",
   "metadata": {},
   "source": [
    "### Cost and Gradient Descent"
   ]
  },
  {
   "cell_type": "code",
   "execution_count": 117,
   "metadata": {
    "scrolled": false
   },
   "outputs": [
    {
     "data": {
      "text/plain": [
       "97"
      ]
     },
     "execution_count": 117,
     "metadata": {},
     "output_type": "execute_result"
    }
   ],
   "source": [
    "# number of dataset\n",
    "m = len(y)\n",
    "m"
   ]
  },
  {
   "cell_type": "code",
   "execution_count": 118,
   "metadata": {},
   "outputs": [],
   "source": [
    "# When dealing with matrix array operation it's better to have rank of two or ndim = 2, thus\n",
    "X = X[:, np.newaxis]\n",
    "y = y[:, np.newaxis]"
   ]
  },
  {
   "cell_type": "code",
   "execution_count": 119,
   "metadata": {},
   "outputs": [
    {
     "data": {
      "text/plain": [
       "2"
      ]
     },
     "execution_count": 119,
     "metadata": {},
     "output_type": "execute_result"
    }
   ],
   "source": [
    "X.ndim"
   ]
  },
  {
   "cell_type": "code",
   "execution_count": 120,
   "metadata": {},
   "outputs": [
    {
     "data": {
      "text/plain": [
       "(97, 1)"
      ]
     },
     "execution_count": 120,
     "metadata": {},
     "output_type": "execute_result"
    }
   ],
   "source": [
    "X.shape"
   ]
  },
  {
   "cell_type": "code",
   "execution_count": 121,
   "metadata": {},
   "outputs": [],
   "source": [
    "# Adding intercept term (bias) to array X\n",
    "ones = np.ones([m, 1])\n",
    "X = np.hstack([ones, X])"
   ]
  },
  {
   "cell_type": "code",
   "execution_count": 122,
   "metadata": {},
   "outputs": [],
   "source": [
    "# Define alpha value (learning rate) and max iteration\n",
    "a = 0.001\n",
    "iteration = 1500"
   ]
  },
  {
   "cell_type": "code",
   "execution_count": 123,
   "metadata": {},
   "outputs": [
    {
     "data": {
      "text/plain": [
       "array([[0.],\n",
       "       [0.]])"
      ]
     },
     "execution_count": 123,
     "metadata": {},
     "output_type": "execute_result"
    }
   ],
   "source": [
    "# Prepare matrix to hold theta values\n",
    "theta = np.zeros([2, 1])\n",
    "theta"
   ]
  },
  {
   "cell_type": "markdown",
   "metadata": {},
   "source": [
    "### Cost Function\n",
    "<img src = \"..\\img\\cost-funct-basic.PNG\">\n",
    "<!-- ![](cost-funct-basic.png) -->"
   ]
  },
  {
   "cell_type": "code",
   "execution_count": 124,
   "metadata": {},
   "outputs": [],
   "source": [
    "# Define computeCost function\n",
    "def computeCost(X, y, theta):\n",
    "    const = 1/(2*m)\n",
    "    temp = np.matmul(X, theta) - y\n",
    "    J = const * np.sum(np.power(temp,2))\n",
    "    return J"
   ]
  },
  {
   "cell_type": "code",
   "execution_count": 16,
   "metadata": {},
   "outputs": [],
   "source": [
    "# Note:\n",
    "# np.sum perform better when calculating array\n",
    "# "
   ]
  },
  {
   "cell_type": "code",
   "execution_count": 139,
   "metadata": {
    "scrolled": true
   },
   "outputs": [
    {
     "data": {
      "text/plain": [
       "array([[ 1.    ,  6.1101],\n",
       "       [ 1.    ,  5.5277],\n",
       "       [ 1.    ,  8.5186],\n",
       "       [ 1.    ,  7.0032],\n",
       "       [ 1.    ,  5.8598],\n",
       "       [ 1.    ,  8.3829],\n",
       "       [ 1.    ,  7.4764],\n",
       "       [ 1.    ,  8.5781],\n",
       "       [ 1.    ,  6.4862],\n",
       "       [ 1.    ,  5.0546],\n",
       "       [ 1.    ,  5.7107],\n",
       "       [ 1.    , 14.164 ],\n",
       "       [ 1.    ,  5.734 ],\n",
       "       [ 1.    ,  8.4084],\n",
       "       [ 1.    ,  5.6407],\n",
       "       [ 1.    ,  5.3794],\n",
       "       [ 1.    ,  6.3654],\n",
       "       [ 1.    ,  5.1301],\n",
       "       [ 1.    ,  6.4296],\n",
       "       [ 1.    ,  7.0708],\n",
       "       [ 1.    ,  6.1891],\n",
       "       [ 1.    , 20.27  ],\n",
       "       [ 1.    ,  5.4901],\n",
       "       [ 1.    ,  6.3261],\n",
       "       [ 1.    ,  5.5649],\n",
       "       [ 1.    , 18.945 ],\n",
       "       [ 1.    , 12.828 ],\n",
       "       [ 1.    , 10.957 ],\n",
       "       [ 1.    , 13.176 ],\n",
       "       [ 1.    , 22.203 ],\n",
       "       [ 1.    ,  5.2524],\n",
       "       [ 1.    ,  6.5894],\n",
       "       [ 1.    ,  9.2482],\n",
       "       [ 1.    ,  5.8918],\n",
       "       [ 1.    ,  8.2111],\n",
       "       [ 1.    ,  7.9334],\n",
       "       [ 1.    ,  8.0959],\n",
       "       [ 1.    ,  5.6063],\n",
       "       [ 1.    , 12.836 ],\n",
       "       [ 1.    ,  6.3534],\n",
       "       [ 1.    ,  5.4069],\n",
       "       [ 1.    ,  6.8825],\n",
       "       [ 1.    , 11.708 ],\n",
       "       [ 1.    ,  5.7737],\n",
       "       [ 1.    ,  7.8247],\n",
       "       [ 1.    ,  7.0931],\n",
       "       [ 1.    ,  5.0702],\n",
       "       [ 1.    ,  5.8014],\n",
       "       [ 1.    , 11.7   ],\n",
       "       [ 1.    ,  5.5416],\n",
       "       [ 1.    ,  7.5402],\n",
       "       [ 1.    ,  5.3077],\n",
       "       [ 1.    ,  7.4239],\n",
       "       [ 1.    ,  7.6031],\n",
       "       [ 1.    ,  6.3328],\n",
       "       [ 1.    ,  6.3589],\n",
       "       [ 1.    ,  6.2742],\n",
       "       [ 1.    ,  5.6397],\n",
       "       [ 1.    ,  9.3102],\n",
       "       [ 1.    ,  9.4536],\n",
       "       [ 1.    ,  8.8254],\n",
       "       [ 1.    ,  5.1793],\n",
       "       [ 1.    , 21.279 ],\n",
       "       [ 1.    , 14.908 ],\n",
       "       [ 1.    , 18.959 ],\n",
       "       [ 1.    ,  7.2182],\n",
       "       [ 1.    ,  8.2951],\n",
       "       [ 1.    , 10.236 ],\n",
       "       [ 1.    ,  5.4994],\n",
       "       [ 1.    , 20.341 ],\n",
       "       [ 1.    , 10.136 ],\n",
       "       [ 1.    ,  7.3345],\n",
       "       [ 1.    ,  6.0062],\n",
       "       [ 1.    ,  7.2259],\n",
       "       [ 1.    ,  5.0269],\n",
       "       [ 1.    ,  6.5479],\n",
       "       [ 1.    ,  7.5386],\n",
       "       [ 1.    ,  5.0365],\n",
       "       [ 1.    , 10.274 ],\n",
       "       [ 1.    ,  5.1077],\n",
       "       [ 1.    ,  5.7292],\n",
       "       [ 1.    ,  5.1884],\n",
       "       [ 1.    ,  6.3557],\n",
       "       [ 1.    ,  9.7687],\n",
       "       [ 1.    ,  6.5159],\n",
       "       [ 1.    ,  8.5172],\n",
       "       [ 1.    ,  9.1802],\n",
       "       [ 1.    ,  6.002 ],\n",
       "       [ 1.    ,  5.5204],\n",
       "       [ 1.    ,  5.0594],\n",
       "       [ 1.    ,  5.7077],\n",
       "       [ 1.    ,  7.6366],\n",
       "       [ 1.    ,  5.8707],\n",
       "       [ 1.    ,  5.3054],\n",
       "       [ 1.    ,  8.2934],\n",
       "       [ 1.    , 13.394 ],\n",
       "       [ 1.    ,  5.4369]])"
      ]
     },
     "execution_count": 139,
     "metadata": {},
     "output_type": "execute_result"
    }
   ],
   "source": [
    "X"
   ]
  },
  {
   "cell_type": "code",
   "execution_count": 18,
   "metadata": {},
   "outputs": [
    {
     "name": "stdout",
     "output_type": "stream",
     "text": [
      "With theta = [0 ; 0], \n",
      "Cost computed = 32.07 \n"
     ]
    }
   ],
   "source": [
    "# Calculate computeCost with theta [0; 0]\n",
    "J1 = computeCost(X, y, theta)\n",
    "print(\"With theta = [0 ; 0], \\nCost computed = %.2f \" %J1)"
   ]
  },
  {
   "cell_type": "code",
   "execution_count": 142,
   "metadata": {},
   "outputs": [
    {
     "name": "stdout",
     "output_type": "stream",
     "text": [
      "With theta [-1, 2], \n",
      " Cost computed: 54.24\n"
     ]
    }
   ],
   "source": [
    "# Calculate computeCost with theta [-1; 2]\n",
    "theta1 = np.array([-1, 2])\n",
    "theta1 = theta1[:, np.newaxis]\n",
    "J2 = computeCost(X, y, theta1)\n",
    "print(\"With theta [-1, 2], \\n Cost computed: %.2f\" %J2) "
   ]
  },
  {
   "cell_type": "markdown",
   "metadata": {},
   "source": [
    "### Gradient Descent\n",
    "<img src = ../img/grad-descent-basic.png>"
   ]
  },
  {
   "cell_type": "code",
   "execution_count": 143,
   "metadata": {},
   "outputs": [],
   "source": [
    "# Variable for gradient descent\n",
    "# Learning rate and iteration\n",
    "alpha = 0.01\n",
    "iteration = 1500"
   ]
  },
  {
   "cell_type": "code",
   "execution_count": 144,
   "metadata": {
    "scrolled": true
   },
   "outputs": [],
   "source": [
    "theta = np.zeros([2, 1])\n",
    "def gradientDescent(X, y, theta, alpha):\n",
    "    J_hist = np.zeros([iteration, 1])\n",
    "    for t in range(iteration):\n",
    "        temp = (np.dot(X, theta) - y)\n",
    "        temp = np.dot(X.T, temp)\n",
    "        temp = alpha/m * temp\n",
    "        \n",
    "        \n",
    "        \n",
    "        theta = theta - temp\n",
    "        J_hist[t] = computeCost(X, y, theta)\n",
    "    return theta, J_hist"
   ]
  },
  {
   "cell_type": "code",
   "execution_count": 22,
   "metadata": {
    "scrolled": true
   },
   "outputs": [],
   "source": [
    "theta, J_hist = gradientDescent(X, y, theta, alpha)"
   ]
  },
  {
   "cell_type": "code",
   "execution_count": 23,
   "metadata": {
    "scrolled": true
   },
   "outputs": [
    {
     "data": {
      "text/plain": [
       "array([[-3.63029144],\n",
       "       [ 1.16636235]])"
      ]
     },
     "execution_count": 23,
     "metadata": {},
     "output_type": "execute_result"
    }
   ],
   "source": [
    "theta"
   ]
  },
  {
   "cell_type": "code",
   "execution_count": 24,
   "metadata": {
    "scrolled": false
   },
   "outputs": [
    {
     "data": {
      "text/plain": [
       "array([[6.73719046],\n",
       "       [5.93159357],\n",
       "       [5.90115471],\n",
       "       ...,\n",
       "       [4.48343473],\n",
       "       [4.48341145],\n",
       "       [4.48338826]])"
      ]
     },
     "execution_count": 24,
     "metadata": {},
     "output_type": "execute_result"
    }
   ],
   "source": [
    "J_hist"
   ]
  },
  {
   "cell_type": "code",
   "execution_count": 25,
   "metadata": {},
   "outputs": [
    {
     "data": {
      "text/plain": [
       "[<matplotlib.lines.Line2D at 0x9df6ee0a58>]"
      ]
     },
     "execution_count": 25,
     "metadata": {},
     "output_type": "execute_result"
    },
    {
     "data": {
      "image/png": "[encoded data removed]",
      "text/plain": [
       "<Figure size 432x288 with 1 Axes>"
      ]
     },
     "metadata": {},
     "output_type": "display_data"
    }
   ],
   "source": [
    "# Checks to see whether J_hist decrease each iteration\n",
    "plt.style.use('fivethirtyeight')\n",
    "plt.title(\"J_history Plot\")\n",
    "plt.plot(J_hist)"
   ]
  },
  {
   "cell_type": "markdown",
   "metadata": {},
   "source": [
    "### Plotting Linear Regression"
   ]
  },
  {
   "cell_type": "code",
   "execution_count": 26,
   "metadata": {
    "scrolled": true
   },
   "outputs": [
    {
     "data": {
      "image/png": "[encoded data removed]",
      "text/plain": [
       "<Figure size 680x360 with 1 Axes>"
      ]
     },
     "metadata": {},
     "output_type": "display_data"
    }
   ],
   "source": [
    "# Plot the linear fit\n",
    "plt.figure(figsize=(17, 9), dpi=40)\n",
    "font = {'size' : 25}\n",
    "plt.rc('font', **font)\n",
    "plt.scatter(X[:, [1]], y, color = '#aa0000')\n",
    "plt.plot(X[:, [1]], np.dot(X, theta), color = '#adff5d')\n",
    "plt.xlabel('Population of City in 10,000s')\n",
    "plt.ylabel('Profit in $10,000s')\n",
    "plt.axis([4, 23, -5, 25])\n",
    "plt.show()"
   ]
  },
  {
   "cell_type": "code",
   "execution_count": 27,
   "metadata": {},
   "outputs": [
    {
     "name": "stdout",
     "output_type": "stream",
     "text": [
      "For population = 35,000, we predict a profit of 4519.76787\n"
     ]
    }
   ],
   "source": [
    "# Predict values for population sizes of 35,000 and 70,000\n",
    "theta_pred1 = np.array([1, 3.5])\n",
    "predict1 = np.dot(theta_pred1, theta)\n",
    "print(\"For population = 35,000, we predict a profit of %.5f\" %(predict1*10000))"
   ]
  },
  {
   "cell_type": "code",
   "execution_count": 28,
   "metadata": {},
   "outputs": [
    {
     "name": "stdout",
     "output_type": "stream",
     "text": [
      "For population = 70,000, we predict a profit of 45342.45013\n"
     ]
    }
   ],
   "source": [
    "# Predict values for population sizes of 35,000 and 70,000\n",
    "theta_pred2 = np.array([1, 7])\n",
    "predict2 = np.dot(theta_pred2, theta)\n",
    "print(\"For population = 70,000, we predict a profit of %.5f\" %(predict2*10000))"
   ]
  },
  {
   "cell_type": "markdown",
   "metadata": {},
   "source": [
    "### Visualizing J (θ)"
   ]
  },
  {
   "cell_type": "code",
   "execution_count": 29,
   "metadata": {},
   "outputs": [],
   "source": [
    "# Save it for later let's try multivariate first"
   ]
  },
  {
   "cell_type": "code",
   "execution_count": null,
   "metadata": {},
   "outputs": [],
   "source": []
  },
  {
   "cell_type": "markdown",
   "metadata": {},
   "source": [
    "## Multiple Variable"
   ]
  },
  {
   "cell_type": "markdown",
   "metadata": {},
   "source": [
    "### Feature Normalization"
   ]
  },
  {
   "cell_type": "code",
   "execution_count": 141,
   "metadata": {
    "scrolled": true
   },
   "outputs": [
    {
     "name": "stdout",
     "output_type": "stream",
     "text": [
      "       0  1       2\n",
      "0   2104  3  399900\n",
      "1   1600  3  329900\n",
      "2   2400  3  369000\n",
      "3   1416  2  232000\n",
      "4   3000  4  539900\n",
      "5   1985  4  299900\n",
      "6   1534  3  314900\n",
      "7   1427  3  198999\n",
      "8   1380  3  212000\n",
      "9   1494  3  242500\n",
      "10  1940  4  239999\n",
      "11  2000  3  347000\n",
      "12  1890  3  329999\n",
      "13  4478  5  699900\n",
      "14  1268  3  259900\n",
      "15  2300  4  449900\n",
      "16  1320  2  299900\n",
      "17  1236  3  199900\n",
      "18  2609  4  499998\n",
      "19  3031  4  599000\n",
      "20  1767  3  252900\n",
      "21  1888  2  255000\n",
      "22  1604  3  242900\n",
      "23  1962  4  259900\n",
      "24  3890  3  573900\n",
      "25  1100  3  249900\n",
      "26  1458  3  464500\n",
      "27  2526  3  469000\n",
      "28  2200  3  475000\n",
      "29  2637  3  299900\n",
      "30  1839  2  349900\n",
      "31  1000  1  169900\n",
      "32  2040  4  314900\n",
      "33  3137  3  579900\n",
      "34  1811  4  285900\n",
      "35  1437  3  249900\n",
      "36  1239  3  229900\n",
      "37  2132  4  345000\n",
      "38  4215  4  549000\n",
      "39  2162  4  287000\n",
      "40  1664  2  368500\n",
      "41  2238  3  329900\n",
      "42  2567  4  314000\n",
      "43  1200  3  299000\n",
      "44   852  2  179900\n",
      "45  1852  4  299900\n",
      "46  1203  3  239500\n"
     ]
    }
   ],
   "source": [
    "# Load data\n",
    "df = pd.read_csv(\"ex1data2.txt\", header=None, sep=\",\")\n",
    "print(df)"
   ]
  },
  {
   "cell_type": "code",
   "execution_count": 142,
   "metadata": {},
   "outputs": [
    {
     "data": {
      "text/plain": [
       "pandas.core.frame.DataFrame"
      ]
     },
     "execution_count": 142,
     "metadata": {},
     "output_type": "execute_result"
    }
   ],
   "source": [
    "type(df)"
   ]
  },
  {
   "cell_type": "code",
   "execution_count": 143,
   "metadata": {},
   "outputs": [],
   "source": [
    "X = df.iloc[:, 0]"
   ]
  },
  {
   "cell_type": "code",
   "execution_count": 144,
   "metadata": {},
   "outputs": [
    {
     "data": {
      "text/plain": [
       "pandas.core.series.Series"
      ]
     },
     "execution_count": 144,
     "metadata": {},
     "output_type": "execute_result"
    }
   ],
   "source": [
    "type(X)"
   ]
  },
  {
   "cell_type": "code",
   "execution_count": 145,
   "metadata": {
    "scrolled": true
   },
   "outputs": [
    {
     "name": "stdout",
     "output_type": "stream",
     "text": [
      "[[2104    3]\n",
      " [1600    3]\n",
      " [2400    3]\n",
      " [1416    2]\n",
      " [3000    4]\n",
      " [1985    4]\n",
      " [1534    3]\n",
      " [1427    3]\n",
      " [1380    3]\n",
      " [1494    3]\n",
      " [1940    4]\n",
      " [2000    3]\n",
      " [1890    3]\n",
      " [4478    5]\n",
      " [1268    3]\n",
      " [2300    4]\n",
      " [1320    2]\n",
      " [1236    3]\n",
      " [2609    4]\n",
      " [3031    4]\n",
      " [1767    3]\n",
      " [1888    2]\n",
      " [1604    3]\n",
      " [1962    4]\n",
      " [3890    3]\n",
      " [1100    3]\n",
      " [1458    3]\n",
      " [2526    3]\n",
      " [2200    3]\n",
      " [2637    3]\n",
      " [1839    2]\n",
      " [1000    1]\n",
      " [2040    4]\n",
      " [3137    3]\n",
      " [1811    4]\n",
      " [1437    3]\n",
      " [1239    3]\n",
      " [2132    4]\n",
      " [4215    4]\n",
      " [2162    4]\n",
      " [1664    2]\n",
      " [2238    3]\n",
      " [2567    4]\n",
      " [1200    3]\n",
      " [ 852    2]\n",
      " [1852    4]\n",
      " [1203    3]]\n",
      "\n",
      "\n",
      "[[399900]\n",
      " [329900]\n",
      " [369000]\n",
      " [232000]\n",
      " [539900]\n",
      " [299900]\n",
      " [314900]\n",
      " [198999]\n",
      " [212000]\n",
      " [242500]\n",
      " [239999]\n",
      " [347000]\n",
      " [329999]\n",
      " [699900]\n",
      " [259900]\n",
      " [449900]\n",
      " [299900]\n",
      " [199900]\n",
      " [499998]\n",
      " [599000]\n",
      " [252900]\n",
      " [255000]\n",
      " [242900]\n",
      " [259900]\n",
      " [573900]\n",
      " [249900]\n",
      " [464500]\n",
      " [469000]\n",
      " [475000]\n",
      " [299900]\n",
      " [349900]\n",
      " [169900]\n",
      " [314900]\n",
      " [579900]\n",
      " [285900]\n",
      " [249900]\n",
      " [229900]\n",
      " [345000]\n",
      " [549000]\n",
      " [287000]\n",
      " [368500]\n",
      " [329900]\n",
      " [314000]\n",
      " [299000]\n",
      " [179900]\n",
      " [299900]\n",
      " [239500]]\n"
     ]
    }
   ],
   "source": [
    "X = df.iloc[:,0:2].to_numpy()\n",
    "y = df.iloc[:, 2].to_numpy()\n",
    "y = y[:, np.newaxis]\n",
    "print(X)\n",
    "print(\"\\n\")\n",
    "print(y)"
   ]
  },
  {
   "cell_type": "code",
   "execution_count": 146,
   "metadata": {},
   "outputs": [],
   "source": [
    "def featureNormalize(X):\n",
    "    m, n = X.shape\n",
    "#     X_mean = np.zeros([m, 2])\n",
    "    X_mean = []\n",
    "    X_std = []\n",
    "    for i in range(n):\n",
    "        X_mean.append(np.mean(X[:, i]))\n",
    "        X_std.append(np.std(X[:, i], ddof=1))\n",
    "    \n",
    "    X = (X - X_mean)/X_std\n",
    "    \n",
    "    return X"
   ]
  },
  {
   "cell_type": "code",
   "execution_count": 147,
   "metadata": {
    "scrolled": false
   },
   "outputs": [],
   "source": [
    "X_norm = featureNormalize(X)"
   ]
  },
  {
   "cell_type": "code",
   "execution_count": 148,
   "metadata": {},
   "outputs": [
    {
     "data": {
      "text/plain": [
       "array([[ 1.30009869e-01, -2.23675187e-01],\n",
       "       [-5.04189838e-01, -2.23675187e-01],\n",
       "       [ 5.02476364e-01, -2.23675187e-01],\n",
       "       [-7.35723065e-01, -1.53776691e+00],\n",
       "       [ 1.25747602e+00,  1.09041654e+00],\n",
       "       [-1.97317285e-02,  1.09041654e+00],\n",
       "       [-5.87239800e-01, -2.23675187e-01],\n",
       "       [-7.21881404e-01, -2.23675187e-01],\n",
       "       [-7.81023044e-01, -2.23675187e-01],\n",
       "       [-6.37573110e-01, -2.23675187e-01],\n",
       "       [-7.63567023e-02,  1.09041654e+00],\n",
       "       [-8.56737193e-04, -2.23675187e-01],\n",
       "       [-1.39273340e-01, -2.23675187e-01],\n",
       "       [ 3.11729182e+00,  2.40450826e+00],\n",
       "       [-9.21956312e-01, -2.23675187e-01],\n",
       "       [ 3.76643089e-01,  1.09041654e+00],\n",
       "       [-8.56523009e-01, -1.53776691e+00],\n",
       "       [-9.62222960e-01, -2.23675187e-01],\n",
       "       [ 7.65467909e-01,  1.09041654e+00],\n",
       "       [ 1.29648433e+00,  1.09041654e+00],\n",
       "       [-2.94048269e-01, -2.23675187e-01],\n",
       "       [-1.41790005e-01, -1.53776691e+00],\n",
       "       [-4.99156507e-01, -2.23675187e-01],\n",
       "       [-4.86733818e-02,  1.09041654e+00],\n",
       "       [ 2.37739217e+00, -2.23675187e-01],\n",
       "       [-1.13335621e+00, -2.23675187e-01],\n",
       "       [-6.82873089e-01, -2.23675187e-01],\n",
       "       [ 6.61026291e-01, -2.23675187e-01],\n",
       "       [ 2.50809813e-01, -2.23675187e-01],\n",
       "       [ 8.00701226e-01, -2.23675187e-01],\n",
       "       [-2.03448310e-01, -1.53776691e+00],\n",
       "       [-1.25918949e+00, -2.85185864e+00],\n",
       "       [ 4.94765729e-02,  1.09041654e+00],\n",
       "       [ 1.42986760e+00, -2.23675187e-01],\n",
       "       [-2.38681627e-01,  1.09041654e+00],\n",
       "       [-7.09298077e-01, -2.23675187e-01],\n",
       "       [-9.58447962e-01, -2.23675187e-01],\n",
       "       [ 1.65243186e-01,  1.09041654e+00],\n",
       "       [ 2.78635031e+00,  1.09041654e+00],\n",
       "       [ 2.02993169e-01,  1.09041654e+00],\n",
       "       [-4.23656542e-01, -1.53776691e+00],\n",
       "       [ 2.98626458e-01, -2.23675187e-01],\n",
       "       [ 7.12617934e-01,  1.09041654e+00],\n",
       "       [-1.00752294e+00, -2.23675187e-01],\n",
       "       [-1.44542274e+00, -1.53776691e+00],\n",
       "       [-1.87089985e-01,  1.09041654e+00],\n",
       "       [-1.00374794e+00, -2.23675187e-01]])"
      ]
     },
     "execution_count": 148,
     "metadata": {},
     "output_type": "execute_result"
    }
   ],
   "source": [
    "X_norm"
   ]
  },
  {
   "cell_type": "code",
   "execution_count": 149,
   "metadata": {},
   "outputs": [
    {
     "data": {
      "text/plain": [
       "47"
      ]
     },
     "execution_count": 149,
     "metadata": {},
     "output_type": "execute_result"
    }
   ],
   "source": [
    "len(X_norm)"
   ]
  },
  {
   "cell_type": "code",
   "execution_count": 150,
   "metadata": {},
   "outputs": [],
   "source": [
    "# Adding intercept/biar term (matrix of ones) to newly normalized X\n",
    "ones = np.ones([len(X_norm), 1])\n",
    "X_norm = np.hstack([ones, X_norm])"
   ]
  },
  {
   "cell_type": "code",
   "execution_count": 151,
   "metadata": {
    "scrolled": true
   },
   "outputs": [
    {
     "data": {
      "text/plain": [
       "array([[ 1.00000000e+00,  1.30009869e-01, -2.23675187e-01],\n",
       "       [ 1.00000000e+00, -5.04189838e-01, -2.23675187e-01],\n",
       "       [ 1.00000000e+00,  5.02476364e-01, -2.23675187e-01],\n",
       "       [ 1.00000000e+00, -7.35723065e-01, -1.53776691e+00],\n",
       "       [ 1.00000000e+00,  1.25747602e+00,  1.09041654e+00],\n",
       "       [ 1.00000000e+00, -1.97317285e-02,  1.09041654e+00],\n",
       "       [ 1.00000000e+00, -5.87239800e-01, -2.23675187e-01],\n",
       "       [ 1.00000000e+00, -7.21881404e-01, -2.23675187e-01],\n",
       "       [ 1.00000000e+00, -7.81023044e-01, -2.23675187e-01],\n",
       "       [ 1.00000000e+00, -6.37573110e-01, -2.23675187e-01],\n",
       "       [ 1.00000000e+00, -7.63567023e-02,  1.09041654e+00],\n",
       "       [ 1.00000000e+00, -8.56737193e-04, -2.23675187e-01],\n",
       "       [ 1.00000000e+00, -1.39273340e-01, -2.23675187e-01],\n",
       "       [ 1.00000000e+00,  3.11729182e+00,  2.40450826e+00],\n",
       "       [ 1.00000000e+00, -9.21956312e-01, -2.23675187e-01],\n",
       "       [ 1.00000000e+00,  3.76643089e-01,  1.09041654e+00],\n",
       "       [ 1.00000000e+00, -8.56523009e-01, -1.53776691e+00],\n",
       "       [ 1.00000000e+00, -9.62222960e-01, -2.23675187e-01],\n",
       "       [ 1.00000000e+00,  7.65467909e-01,  1.09041654e+00],\n",
       "       [ 1.00000000e+00,  1.29648433e+00,  1.09041654e+00],\n",
       "       [ 1.00000000e+00, -2.94048269e-01, -2.23675187e-01],\n",
       "       [ 1.00000000e+00, -1.41790005e-01, -1.53776691e+00],\n",
       "       [ 1.00000000e+00, -4.99156507e-01, -2.23675187e-01],\n",
       "       [ 1.00000000e+00, -4.86733818e-02,  1.09041654e+00],\n",
       "       [ 1.00000000e+00,  2.37739217e+00, -2.23675187e-01],\n",
       "       [ 1.00000000e+00, -1.13335621e+00, -2.23675187e-01],\n",
       "       [ 1.00000000e+00, -6.82873089e-01, -2.23675187e-01],\n",
       "       [ 1.00000000e+00,  6.61026291e-01, -2.23675187e-01],\n",
       "       [ 1.00000000e+00,  2.50809813e-01, -2.23675187e-01],\n",
       "       [ 1.00000000e+00,  8.00701226e-01, -2.23675187e-01],\n",
       "       [ 1.00000000e+00, -2.03448310e-01, -1.53776691e+00],\n",
       "       [ 1.00000000e+00, -1.25918949e+00, -2.85185864e+00],\n",
       "       [ 1.00000000e+00,  4.94765729e-02,  1.09041654e+00],\n",
       "       [ 1.00000000e+00,  1.42986760e+00, -2.23675187e-01],\n",
       "       [ 1.00000000e+00, -2.38681627e-01,  1.09041654e+00],\n",
       "       [ 1.00000000e+00, -7.09298077e-01, -2.23675187e-01],\n",
       "       [ 1.00000000e+00, -9.58447962e-01, -2.23675187e-01],\n",
       "       [ 1.00000000e+00,  1.65243186e-01,  1.09041654e+00],\n",
       "       [ 1.00000000e+00,  2.78635031e+00,  1.09041654e+00],\n",
       "       [ 1.00000000e+00,  2.02993169e-01,  1.09041654e+00],\n",
       "       [ 1.00000000e+00, -4.23656542e-01, -1.53776691e+00],\n",
       "       [ 1.00000000e+00,  2.98626458e-01, -2.23675187e-01],\n",
       "       [ 1.00000000e+00,  7.12617934e-01,  1.09041654e+00],\n",
       "       [ 1.00000000e+00, -1.00752294e+00, -2.23675187e-01],\n",
       "       [ 1.00000000e+00, -1.44542274e+00, -1.53776691e+00],\n",
       "       [ 1.00000000e+00, -1.87089985e-01,  1.09041654e+00],\n",
       "       [ 1.00000000e+00, -1.00374794e+00, -2.23675187e-01]])"
      ]
     },
     "execution_count": 151,
     "metadata": {},
     "output_type": "execute_result"
    }
   ],
   "source": [
    "X_norm"
   ]
  },
  {
   "cell_type": "code",
   "execution_count": 152,
   "metadata": {},
   "outputs": [
    {
     "data": {
      "text/plain": [
       "numpy.ndarray"
      ]
     },
     "execution_count": 152,
     "metadata": {},
     "output_type": "execute_result"
    }
   ],
   "source": [
    "type(X)"
   ]
  },
  {
   "cell_type": "code",
   "execution_count": 153,
   "metadata": {},
   "outputs": [],
   "source": [
    "# Initialize new 3x1 theta matrix for X_norm\n",
    "theta = np.zeros([3, 1])"
   ]
  },
  {
   "cell_type": "markdown",
   "metadata": {},
   "source": [
    "### Gradient Descent Multiple Variables"
   ]
  },
  {
   "cell_type": "code",
   "execution_count": 154,
   "metadata": {},
   "outputs": [],
   "source": [
    "# First to calculate J_history, computeCostMulti is necessary\n",
    "def computeCostMulti(X, y, theta):\n",
    "    m, n = X.shape\n",
    "    temp1 = np.dot(X_norm, theta)-y\n",
    "    J = 1/(2*m) * np.sum(np.power(temp1, 2))\n",
    "    return J "
   ]
  },
  {
   "cell_type": "code",
   "execution_count": 155,
   "metadata": {},
   "outputs": [],
   "source": [
    "J_multi_test = computeCostMulti(X_norm, y, theta)"
   ]
  },
  {
   "cell_type": "code",
   "execution_count": 156,
   "metadata": {},
   "outputs": [
    {
     "data": {
      "text/plain": [
       "65591548106.45744"
      ]
     },
     "execution_count": 156,
     "metadata": {},
     "output_type": "execute_result"
    }
   ],
   "source": [
    "J_multi_test"
   ]
  },
  {
   "cell_type": "code",
   "execution_count": 157,
   "metadata": {},
   "outputs": [],
   "source": [
    "# Define alpha and iteration value for gradient descent\n",
    "alpha = 0.01\n",
    "num_iters = 400"
   ]
  },
  {
   "cell_type": "code",
   "execution_count": 158,
   "metadata": {},
   "outputs": [],
   "source": [
    "# Now define gradientDescentMulti\n",
    "theta = np.zeros([3, 1])\n",
    "def gradDescentMulti(X, y, theta, alpha, iteration):\n",
    "    m, n = X.shape # m, number of dataset and n, number of features of X_norm\n",
    "    J_hist = np.zeros([iteration, 1])\n",
    "    for t in range(num_iters):\n",
    "        temp = (np.dot(X, theta) - y)\n",
    "        temp = np.dot(X.T, temp)\n",
    "        temp = alpha/m * temp\n",
    "        theta = theta - temp\n",
    "        J_hist[t] = computeCostMulti(X, y, theta)\n",
    "    return theta, J_hist"
   ]
  },
  {
   "cell_type": "code",
   "execution_count": 159,
   "metadata": {
    "scrolled": true
   },
   "outputs": [],
   "source": [
    "theta, J_hist = gradDescentMulti(X_norm, y, theta, alpha, num_iters)"
   ]
  },
  {
   "cell_type": "code",
   "execution_count": 160,
   "metadata": {
    "scrolled": true
   },
   "outputs": [
    {
     "data": {
      "text/plain": [
       "array([[6.43007496e+10],\n",
       "       [6.30367950e+10],\n",
       "       [6.17991118e+10],\n",
       "       [6.05871404e+10],\n",
       "       [5.94003332e+10],\n",
       "       [5.82381546e+10],\n",
       "       [5.71000810e+10],\n",
       "       [5.59856000e+10],\n",
       "       [5.48942105e+10],\n",
       "       [5.38254223e+10],\n",
       "       [5.27787561e+10],\n",
       "       [5.17537429e+10],\n",
       "       [5.07499240e+10],\n",
       "       [4.97668505e+10],\n",
       "       [4.88040836e+10],\n",
       "       [4.78611938e+10],\n",
       "       [4.69377610e+10],\n",
       "       [4.60333743e+10],\n",
       "       [4.51476316e+10],\n",
       "       [4.42801397e+10],\n",
       "       [4.34305137e+10],\n",
       "       [4.25983772e+10],\n",
       "       [4.17833619e+10],\n",
       "       [4.09851074e+10],\n",
       "       [4.02032613e+10],\n",
       "       [3.94374785e+10],\n",
       "       [3.86874216e+10],\n",
       "       [3.79527603e+10],\n",
       "       [3.72331717e+10],\n",
       "       [3.65283394e+10],\n",
       "       [3.58379543e+10],\n",
       "       [3.51617135e+10],\n",
       "       [3.44993210e+10],\n",
       "       [3.38504869e+10],\n",
       "       [3.32149275e+10],\n",
       "       [3.25923655e+10],\n",
       "       [3.19825292e+10],\n",
       "       [3.13851529e+10],\n",
       "       [3.07999764e+10],\n",
       "       [3.02267454e+10],\n",
       "       [2.96652106e+10],\n",
       "       [2.91151285e+10],\n",
       "       [2.85762604e+10],\n",
       "       [2.80483728e+10],\n",
       "       [2.75312374e+10],\n",
       "       [2.70246304e+10],\n",
       "       [2.65283331e+10],\n",
       "       [2.60421313e+10],\n",
       "       [2.55658153e+10],\n",
       "       [2.50991798e+10],\n",
       "       [2.46420242e+10],\n",
       "       [2.41941518e+10],\n",
       "       [2.37553703e+10],\n",
       "       [2.33254912e+10],\n",
       "       [2.29043304e+10],\n",
       "       [2.24917073e+10],\n",
       "       [2.20874453e+10],\n",
       "       [2.16913717e+10],\n",
       "       [2.13033171e+10],\n",
       "       [2.09231159e+10],\n",
       "       [2.05506060e+10],\n",
       "       [2.01856286e+10],\n",
       "       [1.98280283e+10],\n",
       "       [1.94776531e+10],\n",
       "       [1.91343541e+10],\n",
       "       [1.87979854e+10],\n",
       "       [1.84684044e+10],\n",
       "       [1.81454713e+10],\n",
       "       [1.78290494e+10],\n",
       "       [1.75190049e+10],\n",
       "       [1.72152065e+10],\n",
       "       [1.69175261e+10],\n",
       "       [1.66258378e+10],\n",
       "       [1.63400188e+10],\n",
       "       [1.60599486e+10],\n",
       "       [1.57855093e+10],\n",
       "       [1.55165854e+10],\n",
       "       [1.52530639e+10],\n",
       "       [1.49948341e+10],\n",
       "       [1.47417878e+10],\n",
       "       [1.44938187e+10],\n",
       "       [1.42508230e+10],\n",
       "       [1.40126990e+10],\n",
       "       [1.37793471e+10],\n",
       "       [1.35506698e+10],\n",
       "       [1.33265716e+10],\n",
       "       [1.31069590e+10],\n",
       "       [1.28917404e+10],\n",
       "       [1.26808262e+10],\n",
       "       [1.24741286e+10],\n",
       "       [1.22715617e+10],\n",
       "       [1.20730413e+10],\n",
       "       [1.18784849e+10],\n",
       "       [1.16878119e+10],\n",
       "       [1.15009431e+10],\n",
       "       [1.13178013e+10],\n",
       "       [1.11383105e+10],\n",
       "       [1.09623965e+10],\n",
       "       [1.07899868e+10],\n",
       "       [1.06210099e+10],\n",
       "       [1.04553964e+10],\n",
       "       [1.02930778e+10],\n",
       "       [1.01339873e+10],\n",
       "       [9.97805946e+09],\n",
       "       [9.82523010e+09],\n",
       "       [9.67543643e+09],\n",
       "       [9.52861692e+09],\n",
       "       [9.38471134e+09],\n",
       "       [9.24366069e+09],\n",
       "       [9.10540718e+09],\n",
       "       [8.96989420e+09],\n",
       "       [8.83706634e+09],\n",
       "       [8.70686930e+09],\n",
       "       [8.57924990e+09],\n",
       "       [8.45415606e+09],\n",
       "       [8.33153678e+09],\n",
       "       [8.21134209e+09],\n",
       "       [8.09352306e+09],\n",
       "       [7.97803175e+09],\n",
       "       [7.86482121e+09],\n",
       "       [7.75384547e+09],\n",
       "       [7.64505947e+09],\n",
       "       [7.53841910e+09],\n",
       "       [7.43388115e+09],\n",
       "       [7.33140328e+09],\n",
       "       [7.23094403e+09],\n",
       "       [7.13246279e+09],\n",
       "       [7.03591977e+09],\n",
       "       [6.94127601e+09],\n",
       "       [6.84849332e+09],\n",
       "       [6.75753432e+09],\n",
       "       [6.66836237e+09],\n",
       "       [6.58094160e+09],\n",
       "       [6.49523685e+09],\n",
       "       [6.41121370e+09],\n",
       "       [6.32883841e+09],\n",
       "       [6.24807794e+09],\n",
       "       [6.16889993e+09],\n",
       "       [6.09127266e+09],\n",
       "       [6.01516507e+09],\n",
       "       [5.94054674e+09],\n",
       "       [5.86738785e+09],\n",
       "       [5.79565919e+09],\n",
       "       [5.72533216e+09],\n",
       "       [5.65637873e+09],\n",
       "       [5.58877144e+09],\n",
       "       [5.52248339e+09],\n",
       "       [5.45748823e+09],\n",
       "       [5.39376013e+09],\n",
       "       [5.33127381e+09],\n",
       "       [5.27000448e+09],\n",
       "       [5.20992786e+09],\n",
       "       [5.15102016e+09],\n",
       "       [5.09325809e+09],\n",
       "       [5.03661880e+09],\n",
       "       [4.98107994e+09],\n",
       "       [4.92661958e+09],\n",
       "       [4.87321626e+09],\n",
       "       [4.82084893e+09],\n",
       "       [4.76949698e+09],\n",
       "       [4.71914022e+09],\n",
       "       [4.66975887e+09],\n",
       "       [4.62133353e+09],\n",
       "       [4.57384521e+09],\n",
       "       [4.52727530e+09],\n",
       "       [4.48160557e+09],\n",
       "       [4.43681814e+09],\n",
       "       [4.39289552e+09],\n",
       "       [4.34982055e+09],\n",
       "       [4.30757642e+09],\n",
       "       [4.26614666e+09],\n",
       "       [4.22551514e+09],\n",
       "       [4.18566605e+09],\n",
       "       [4.14658390e+09],\n",
       "       [4.10825350e+09],\n",
       "       [4.07065998e+09],\n",
       "       [4.03378877e+09],\n",
       "       [3.99762559e+09],\n",
       "       [3.96215643e+09],\n",
       "       [3.92736760e+09],\n",
       "       [3.89324564e+09],\n",
       "       [3.85977740e+09],\n",
       "       [3.82694997e+09],\n",
       "       [3.79475071e+09],\n",
       "       [3.76316723e+09],\n",
       "       [3.73218738e+09],\n",
       "       [3.70179928e+09],\n",
       "       [3.67199126e+09],\n",
       "       [3.64275191e+09],\n",
       "       [3.61407001e+09],\n",
       "       [3.58593461e+09],\n",
       "       [3.55833496e+09],\n",
       "       [3.53126051e+09],\n",
       "       [3.50470094e+09],\n",
       "       [3.47864614e+09],\n",
       "       [3.45308620e+09],\n",
       "       [3.42801138e+09],\n",
       "       [3.40341218e+09],\n",
       "       [3.37927926e+09],\n",
       "       [3.35560348e+09],\n",
       "       [3.33237587e+09],\n",
       "       [3.30958765e+09],\n",
       "       [3.28723021e+09],\n",
       "       [3.26529512e+09],\n",
       "       [3.24377411e+09],\n",
       "       [3.22265908e+09],\n",
       "       [3.20194208e+09],\n",
       "       [3.18161535e+09],\n",
       "       [3.16167124e+09],\n",
       "       [3.14210228e+09],\n",
       "       [3.12290116e+09],\n",
       "       [3.10406068e+09],\n",
       "       [3.08557381e+09],\n",
       "       [3.06743366e+09],\n",
       "       [3.04963347e+09],\n",
       "       [3.03216661e+09],\n",
       "       [3.01502659e+09],\n",
       "       [2.99820704e+09],\n",
       "       [2.98170173e+09],\n",
       "       [2.96550455e+09],\n",
       "       [2.94960950e+09],\n",
       "       [2.93401072e+09],\n",
       "       [2.91870244e+09],\n",
       "       [2.90367902e+09],\n",
       "       [2.88893494e+09],\n",
       "       [2.87446478e+09],\n",
       "       [2.86026322e+09],\n",
       "       [2.84632506e+09],\n",
       "       [2.83264519e+09],\n",
       "       [2.81921861e+09],\n",
       "       [2.80604042e+09],\n",
       "       [2.79310582e+09],\n",
       "       [2.78041008e+09],\n",
       "       [2.76794860e+09],\n",
       "       [2.75571685e+09],\n",
       "       [2.74371039e+09],\n",
       "       [2.73192487e+09],\n",
       "       [2.72035604e+09],\n",
       "       [2.70899970e+09],\n",
       "       [2.69785178e+09],\n",
       "       [2.68690824e+09],\n",
       "       [2.67616516e+09],\n",
       "       [2.66561868e+09],\n",
       "       [2.65526501e+09],\n",
       "       [2.64510046e+09],\n",
       "       [2.63512138e+09],\n",
       "       [2.62532422e+09],\n",
       "       [2.61570548e+09],\n",
       "       [2.60626174e+09],\n",
       "       [2.59698964e+09],\n",
       "       [2.58788589e+09],\n",
       "       [2.57894728e+09],\n",
       "       [2.57017064e+09],\n",
       "       [2.56155286e+09],\n",
       "       [2.55309092e+09],\n",
       "       [2.54478183e+09],\n",
       "       [2.53662267e+09],\n",
       "       [2.52861058e+09],\n",
       "       [2.52074277e+09],\n",
       "       [2.51301646e+09],\n",
       "       [2.50542898e+09],\n",
       "       [2.49797766e+09],\n",
       "       [2.49065993e+09],\n",
       "       [2.48347325e+09],\n",
       "       [2.47641511e+09],\n",
       "       [2.46948307e+09],\n",
       "       [2.46267476e+09],\n",
       "       [2.45598780e+09],\n",
       "       [2.44941991e+09],\n",
       "       [2.44296883e+09],\n",
       "       [2.43663234e+09],\n",
       "       [2.43040828e+09],\n",
       "       [2.42429451e+09],\n",
       "       [2.41828896e+09],\n",
       "       [2.41238958e+09],\n",
       "       [2.40659436e+09],\n",
       "       [2.40090134e+09],\n",
       "       [2.39530859e+09],\n",
       "       [2.38981423e+09],\n",
       "       [2.38441639e+09],\n",
       "       [2.37911327e+09],\n",
       "       [2.37390309e+09],\n",
       "       [2.36878409e+09],\n",
       "       [2.36375457e+09],\n",
       "       [2.35881284e+09],\n",
       "       [2.35395726e+09],\n",
       "       [2.34918622e+09],\n",
       "       [2.34449813e+09],\n",
       "       [2.33989144e+09],\n",
       "       [2.33536463e+09],\n",
       "       [2.33091621e+09],\n",
       "       [2.32654471e+09],\n",
       "       [2.32224871e+09],\n",
       "       [2.31802678e+09],\n",
       "       [2.31387755e+09],\n",
       "       [2.30979968e+09],\n",
       "       [2.30579183e+09],\n",
       "       [2.30185270e+09],\n",
       "       [2.29798101e+09],\n",
       "       [2.29417552e+09],\n",
       "       [2.29043500e+09],\n",
       "       [2.28675824e+09],\n",
       "       [2.28314406e+09],\n",
       "       [2.27959131e+09],\n",
       "       [2.27609886e+09],\n",
       "       [2.27266558e+09],\n",
       "       [2.26929040e+09],\n",
       "       [2.26597223e+09],\n",
       "       [2.26271003e+09],\n",
       "       [2.25950276e+09],\n",
       "       [2.25634943e+09],\n",
       "       [2.25324903e+09],\n",
       "       [2.25020061e+09],\n",
       "       [2.24720319e+09],\n",
       "       [2.24425586e+09],\n",
       "       [2.24135769e+09],\n",
       "       [2.23850779e+09],\n",
       "       [2.23570527e+09],\n",
       "       [2.23294928e+09],\n",
       "       [2.23023895e+09],\n",
       "       [2.22757347e+09],\n",
       "       [2.22495201e+09],\n",
       "       [2.22237378e+09],\n",
       "       [2.21983798e+09],\n",
       "       [2.21734386e+09],\n",
       "       [2.21489065e+09],\n",
       "       [2.21247761e+09],\n",
       "       [2.21010403e+09],\n",
       "       [2.20776918e+09],\n",
       "       [2.20547237e+09],\n",
       "       [2.20321290e+09],\n",
       "       [2.20099012e+09],\n",
       "       [2.19880335e+09],\n",
       "       [2.19665196e+09],\n",
       "       [2.19453530e+09],\n",
       "       [2.19245275e+09],\n",
       "       [2.19040371e+09],\n",
       "       [2.18838757e+09],\n",
       "       [2.18640375e+09],\n",
       "       [2.18445166e+09],\n",
       "       [2.18253075e+09],\n",
       "       [2.18064045e+09],\n",
       "       [2.17878023e+09],\n",
       "       [2.17694955e+09],\n",
       "       [2.17514787e+09],\n",
       "       [2.17337470e+09],\n",
       "       [2.17162952e+09],\n",
       "       [2.16991185e+09],\n",
       "       [2.16822118e+09],\n",
       "       [2.16655705e+09],\n",
       "       [2.16491900e+09],\n",
       "       [2.16330655e+09],\n",
       "       [2.16171927e+09],\n",
       "       [2.16015670e+09],\n",
       "       [2.15861842e+09],\n",
       "       [2.15710400e+09],\n",
       "       [2.15561302e+09],\n",
       "       [2.15414507e+09],\n",
       "       [2.15269976e+09],\n",
       "       [2.15127668e+09],\n",
       "       [2.14987546e+09],\n",
       "       [2.14849570e+09],\n",
       "       [2.14713704e+09],\n",
       "       [2.14579912e+09],\n",
       "       [2.14448157e+09],\n",
       "       [2.14318404e+09],\n",
       "       [2.14190618e+09],\n",
       "       [2.14064767e+09],\n",
       "       [2.13940815e+09],\n",
       "       [2.13818732e+09],\n",
       "       [2.13698484e+09],\n",
       "       [2.13580040e+09],\n",
       "       [2.13463370e+09],\n",
       "       [2.13348443e+09],\n",
       "       [2.13235229e+09],\n",
       "       [2.13123699e+09],\n",
       "       [2.13013825e+09],\n",
       "       [2.12905578e+09],\n",
       "       [2.12798931e+09],\n",
       "       [2.12693856e+09],\n",
       "       [2.12590327e+09],\n",
       "       [2.12488319e+09],\n",
       "       [2.12387804e+09],\n",
       "       [2.12288759e+09],\n",
       "       [2.12191159e+09],\n",
       "       [2.12094978e+09],\n",
       "       [2.12000194e+09],\n",
       "       [2.11906783e+09],\n",
       "       [2.11814722e+09],\n",
       "       [2.11723989e+09],\n",
       "       [2.11634561e+09],\n",
       "       [2.11546417e+09],\n",
       "       [2.11459536e+09],\n",
       "       [2.11373896e+09],\n",
       "       [2.11289477e+09],\n",
       "       [2.11206259e+09],\n",
       "       [2.11124222e+09],\n",
       "       [2.11043347e+09],\n",
       "       [2.10963615e+09],\n",
       "       [2.10885006e+09]])"
      ]
     },
     "execution_count": 160,
     "metadata": {},
     "output_type": "execute_result"
    }
   ],
   "source": [
    "J_hist"
   ]
  },
  {
   "cell_type": "code",
   "execution_count": 161,
   "metadata": {
    "scrolled": true
   },
   "outputs": [
    {
     "data": {
      "text/plain": [
       "array([[334302.06399328],\n",
       "       [100087.11600585],\n",
       "       [  3673.54845093]])"
      ]
     },
     "execution_count": 161,
     "metadata": {},
     "output_type": "execute_result"
    }
   ],
   "source": [
    "theta"
   ]
  },
  {
   "cell_type": "code",
   "execution_count": 162,
   "metadata": {},
   "outputs": [
    {
     "data": {
      "image/png": "[encoded data removed]",
      "text/plain": [
       "<Figure size 432x288 with 1 Axes>"
      ]
     },
     "metadata": {},
     "output_type": "display_data"
    }
   ],
   "source": [
    "# Plot J history for multiple variables\n",
    "plt.style.use('fivethirtyeight')\n",
    "\n",
    "plt.plot(range(num_iters), J_hist)\n",
    "plt.xlabel(\"Iteration\")\n",
    "plt.ylabel(r'J($\\theta$)')\n",
    "plt.title(\"J_history with 400 iteration\")\n",
    "plt.show()"
   ]
  },
  {
   "cell_type": "code",
   "execution_count": 163,
   "metadata": {
    "scrolled": false
   },
   "outputs": [
    {
     "data": {
      "text/plain": [
       "(400, 1)"
      ]
     },
     "execution_count": 163,
     "metadata": {},
     "output_type": "execute_result"
    }
   ],
   "source": [
    "J_hist.shape"
   ]
  },
  {
   "cell_type": "code",
   "execution_count": 173,
   "metadata": {
    "scrolled": true
   },
   "outputs": [
    {
     "name": "stdout",
     "output_type": "stream",
     "text": [
      "Theta computed from gradient descent multiple features with learning rate of 0.010:\n",
      "[[334302.06399328]\n",
      " [100087.11600585]\n",
      " [  3673.54845093]]\n"
     ]
    }
   ],
   "source": [
    "print('Theta computed from gradient descent multiple features with learning rate of %.3f:' %alpha)\n",
    "np.printoptions(precision=3, suppress=True)\n",
    "print(theta)"
   ]
  },
  {
   "cell_type": "code",
   "execution_count": 167,
   "metadata": {},
   "outputs": [
    {
     "data": {
      "text/plain": [
       "array([[1.65489064e+08]])"
      ]
     },
     "execution_count": 167,
     "metadata": {},
     "output_type": "execute_result"
    }
   ],
   "source": [
    "# Estimate the house with 1650 sq-ft and 3 br\n",
    "# Theta0*1 + Theta1*1650 + Theta2*3\n",
    "housefeat = np.array([[1, 1650, 3]]).reshape(3, 1)\n",
    "price = np.dot(np.transpose(theta), housefeat)\n",
    "price"
   ]
  },
  {
   "cell_type": "code",
   "execution_count": 168,
   "metadata": {},
   "outputs": [
    {
     "data": {
      "text/plain": [
       "165489064.11899266"
      ]
     },
     "execution_count": 168,
     "metadata": {},
     "output_type": "execute_result"
    }
   ],
   "source": [
    "house_price = price.item()\n",
    "house_price"
   ]
  },
  {
   "cell_type": "code",
   "execution_count": 169,
   "metadata": {},
   "outputs": [
    {
     "name": "stdout",
     "output_type": "stream",
     "text": [
      "Estimated house price: 165489064.119\n"
     ]
    }
   ],
   "source": [
    "# Then the estimated house price with 1650-sq ft and 3 br is\n",
    "print('Estimated house price: %.3f' %house_price)"
   ]
  },
  {
   "cell_type": "code",
   "execution_count": null,
   "metadata": {},
   "outputs": [],
   "source": []
  },
  {
   "cell_type": "markdown",
   "metadata": {},
   "source": [
    "### Normal Equations"
   ]
  },
  {
   "cell_type": "code",
   "execution_count": 47,
   "metadata": {},
   "outputs": [],
   "source": [
    "df = pd.read_csv('ex1data2.txt', header = None, sep = ',')"
   ]
  },
  {
   "cell_type": "code",
   "execution_count": 59,
   "metadata": {},
   "outputs": [],
   "source": [
    "X = df.iloc[:, 0:2].to_numpy()\n",
    "y = df.iloc[:, 2].to_numpy()"
   ]
  },
  {
   "cell_type": "code",
   "execution_count": 12,
   "metadata": {
    "collapsed": true
   },
   "outputs": [
    {
     "data": {
      "text/html": [
       "<div>\n",
       "<style scoped>\n",
       "    .dataframe tbody tr th:only-of-type {\n",
       "        vertical-align: middle;\n",
       "    }\n",
       "\n",
       "    .dataframe tbody tr th {\n",
       "        vertical-align: top;\n",
       "    }\n",
       "\n",
       "    .dataframe thead th {\n",
       "        text-align: right;\n",
       "    }\n",
       "</style>\n",
       "<table border=\"1\" class=\"dataframe\">\n",
       "  <thead>\n",
       "    <tr style=\"text-align: right;\">\n",
       "      <th></th>\n",
       "      <th>0</th>\n",
       "      <th>1</th>\n",
       "    </tr>\n",
       "  </thead>\n",
       "  <tbody>\n",
       "    <tr>\n",
       "      <td>0</td>\n",
       "      <td>2104</td>\n",
       "      <td>3</td>\n",
       "    </tr>\n",
       "    <tr>\n",
       "      <td>1</td>\n",
       "      <td>1600</td>\n",
       "      <td>3</td>\n",
       "    </tr>\n",
       "    <tr>\n",
       "      <td>2</td>\n",
       "      <td>2400</td>\n",
       "      <td>3</td>\n",
       "    </tr>\n",
       "    <tr>\n",
       "      <td>3</td>\n",
       "      <td>1416</td>\n",
       "      <td>2</td>\n",
       "    </tr>\n",
       "    <tr>\n",
       "      <td>4</td>\n",
       "      <td>3000</td>\n",
       "      <td>4</td>\n",
       "    </tr>\n",
       "    <tr>\n",
       "      <td>5</td>\n",
       "      <td>1985</td>\n",
       "      <td>4</td>\n",
       "    </tr>\n",
       "    <tr>\n",
       "      <td>6</td>\n",
       "      <td>1534</td>\n",
       "      <td>3</td>\n",
       "    </tr>\n",
       "    <tr>\n",
       "      <td>7</td>\n",
       "      <td>1427</td>\n",
       "      <td>3</td>\n",
       "    </tr>\n",
       "    <tr>\n",
       "      <td>8</td>\n",
       "      <td>1380</td>\n",
       "      <td>3</td>\n",
       "    </tr>\n",
       "    <tr>\n",
       "      <td>9</td>\n",
       "      <td>1494</td>\n",
       "      <td>3</td>\n",
       "    </tr>\n",
       "    <tr>\n",
       "      <td>10</td>\n",
       "      <td>1940</td>\n",
       "      <td>4</td>\n",
       "    </tr>\n",
       "    <tr>\n",
       "      <td>11</td>\n",
       "      <td>2000</td>\n",
       "      <td>3</td>\n",
       "    </tr>\n",
       "    <tr>\n",
       "      <td>12</td>\n",
       "      <td>1890</td>\n",
       "      <td>3</td>\n",
       "    </tr>\n",
       "    <tr>\n",
       "      <td>13</td>\n",
       "      <td>4478</td>\n",
       "      <td>5</td>\n",
       "    </tr>\n",
       "    <tr>\n",
       "      <td>14</td>\n",
       "      <td>1268</td>\n",
       "      <td>3</td>\n",
       "    </tr>\n",
       "    <tr>\n",
       "      <td>15</td>\n",
       "      <td>2300</td>\n",
       "      <td>4</td>\n",
       "    </tr>\n",
       "    <tr>\n",
       "      <td>16</td>\n",
       "      <td>1320</td>\n",
       "      <td>2</td>\n",
       "    </tr>\n",
       "    <tr>\n",
       "      <td>17</td>\n",
       "      <td>1236</td>\n",
       "      <td>3</td>\n",
       "    </tr>\n",
       "    <tr>\n",
       "      <td>18</td>\n",
       "      <td>2609</td>\n",
       "      <td>4</td>\n",
       "    </tr>\n",
       "    <tr>\n",
       "      <td>19</td>\n",
       "      <td>3031</td>\n",
       "      <td>4</td>\n",
       "    </tr>\n",
       "    <tr>\n",
       "      <td>20</td>\n",
       "      <td>1767</td>\n",
       "      <td>3</td>\n",
       "    </tr>\n",
       "    <tr>\n",
       "      <td>21</td>\n",
       "      <td>1888</td>\n",
       "      <td>2</td>\n",
       "    </tr>\n",
       "    <tr>\n",
       "      <td>22</td>\n",
       "      <td>1604</td>\n",
       "      <td>3</td>\n",
       "    </tr>\n",
       "    <tr>\n",
       "      <td>23</td>\n",
       "      <td>1962</td>\n",
       "      <td>4</td>\n",
       "    </tr>\n",
       "    <tr>\n",
       "      <td>24</td>\n",
       "      <td>3890</td>\n",
       "      <td>3</td>\n",
       "    </tr>\n",
       "    <tr>\n",
       "      <td>25</td>\n",
       "      <td>1100</td>\n",
       "      <td>3</td>\n",
       "    </tr>\n",
       "    <tr>\n",
       "      <td>26</td>\n",
       "      <td>1458</td>\n",
       "      <td>3</td>\n",
       "    </tr>\n",
       "    <tr>\n",
       "      <td>27</td>\n",
       "      <td>2526</td>\n",
       "      <td>3</td>\n",
       "    </tr>\n",
       "    <tr>\n",
       "      <td>28</td>\n",
       "      <td>2200</td>\n",
       "      <td>3</td>\n",
       "    </tr>\n",
       "    <tr>\n",
       "      <td>29</td>\n",
       "      <td>2637</td>\n",
       "      <td>3</td>\n",
       "    </tr>\n",
       "    <tr>\n",
       "      <td>30</td>\n",
       "      <td>1839</td>\n",
       "      <td>2</td>\n",
       "    </tr>\n",
       "    <tr>\n",
       "      <td>31</td>\n",
       "      <td>1000</td>\n",
       "      <td>1</td>\n",
       "    </tr>\n",
       "    <tr>\n",
       "      <td>32</td>\n",
       "      <td>2040</td>\n",
       "      <td>4</td>\n",
       "    </tr>\n",
       "    <tr>\n",
       "      <td>33</td>\n",
       "      <td>3137</td>\n",
       "      <td>3</td>\n",
       "    </tr>\n",
       "    <tr>\n",
       "      <td>34</td>\n",
       "      <td>1811</td>\n",
       "      <td>4</td>\n",
       "    </tr>\n",
       "    <tr>\n",
       "      <td>35</td>\n",
       "      <td>1437</td>\n",
       "      <td>3</td>\n",
       "    </tr>\n",
       "    <tr>\n",
       "      <td>36</td>\n",
       "      <td>1239</td>\n",
       "      <td>3</td>\n",
       "    </tr>\n",
       "    <tr>\n",
       "      <td>37</td>\n",
       "      <td>2132</td>\n",
       "      <td>4</td>\n",
       "    </tr>\n",
       "    <tr>\n",
       "      <td>38</td>\n",
       "      <td>4215</td>\n",
       "      <td>4</td>\n",
       "    </tr>\n",
       "    <tr>\n",
       "      <td>39</td>\n",
       "      <td>2162</td>\n",
       "      <td>4</td>\n",
       "    </tr>\n",
       "    <tr>\n",
       "      <td>40</td>\n",
       "      <td>1664</td>\n",
       "      <td>2</td>\n",
       "    </tr>\n",
       "    <tr>\n",
       "      <td>41</td>\n",
       "      <td>2238</td>\n",
       "      <td>3</td>\n",
       "    </tr>\n",
       "    <tr>\n",
       "      <td>42</td>\n",
       "      <td>2567</td>\n",
       "      <td>4</td>\n",
       "    </tr>\n",
       "    <tr>\n",
       "      <td>43</td>\n",
       "      <td>1200</td>\n",
       "      <td>3</td>\n",
       "    </tr>\n",
       "    <tr>\n",
       "      <td>44</td>\n",
       "      <td>852</td>\n",
       "      <td>2</td>\n",
       "    </tr>\n",
       "    <tr>\n",
       "      <td>45</td>\n",
       "      <td>1852</td>\n",
       "      <td>4</td>\n",
       "    </tr>\n",
       "    <tr>\n",
       "      <td>46</td>\n",
       "      <td>1203</td>\n",
       "      <td>3</td>\n",
       "    </tr>\n",
       "  </tbody>\n",
       "</table>\n",
       "</div>"
      ],
      "text/plain": [
       "       0  1\n",
       "0   2104  3\n",
       "1   1600  3\n",
       "2   2400  3\n",
       "3   1416  2\n",
       "4   3000  4\n",
       "5   1985  4\n",
       "6   1534  3\n",
       "7   1427  3\n",
       "8   1380  3\n",
       "9   1494  3\n",
       "10  1940  4\n",
       "11  2000  3\n",
       "12  1890  3\n",
       "13  4478  5\n",
       "14  1268  3\n",
       "15  2300  4\n",
       "16  1320  2\n",
       "17  1236  3\n",
       "18  2609  4\n",
       "19  3031  4\n",
       "20  1767  3\n",
       "21  1888  2\n",
       "22  1604  3\n",
       "23  1962  4\n",
       "24  3890  3\n",
       "25  1100  3\n",
       "26  1458  3\n",
       "27  2526  3\n",
       "28  2200  3\n",
       "29  2637  3\n",
       "30  1839  2\n",
       "31  1000  1\n",
       "32  2040  4\n",
       "33  3137  3\n",
       "34  1811  4\n",
       "35  1437  3\n",
       "36  1239  3\n",
       "37  2132  4\n",
       "38  4215  4\n",
       "39  2162  4\n",
       "40  1664  2\n",
       "41  2238  3\n",
       "42  2567  4\n",
       "43  1200  3\n",
       "44   852  2\n",
       "45  1852  4\n",
       "46  1203  3"
      ]
     },
     "execution_count": 12,
     "metadata": {},
     "output_type": "execute_result"
    }
   ],
   "source": [
    "X"
   ]
  },
  {
   "cell_type": "code",
   "execution_count": 13,
   "metadata": {
    "collapsed": true
   },
   "outputs": [
    {
     "data": {
      "text/plain": [
       "0     399900\n",
       "1     329900\n",
       "2     369000\n",
       "3     232000\n",
       "4     539900\n",
       "5     299900\n",
       "6     314900\n",
       "7     198999\n",
       "8     212000\n",
       "9     242500\n",
       "10    239999\n",
       "11    347000\n",
       "12    329999\n",
       "13    699900\n",
       "14    259900\n",
       "15    449900\n",
       "16    299900\n",
       "17    199900\n",
       "18    499998\n",
       "19    599000\n",
       "20    252900\n",
       "21    255000\n",
       "22    242900\n",
       "23    259900\n",
       "24    573900\n",
       "25    249900\n",
       "26    464500\n",
       "27    469000\n",
       "28    475000\n",
       "29    299900\n",
       "30    349900\n",
       "31    169900\n",
       "32    314900\n",
       "33    579900\n",
       "34    285900\n",
       "35    249900\n",
       "36    229900\n",
       "37    345000\n",
       "38    549000\n",
       "39    287000\n",
       "40    368500\n",
       "41    329900\n",
       "42    314000\n",
       "43    299000\n",
       "44    179900\n",
       "45    299900\n",
       "46    239500\n",
       "Name: 2, dtype: int64"
      ]
     },
     "execution_count": 13,
     "metadata": {},
     "output_type": "execute_result"
    }
   ],
   "source": [
    "y"
   ]
  },
  {
   "cell_type": "code",
   "execution_count": 60,
   "metadata": {},
   "outputs": [
    {
     "data": {
      "text/plain": [
       "numpy.ndarray"
      ]
     },
     "execution_count": 60,
     "metadata": {},
     "output_type": "execute_result"
    }
   ],
   "source": [
    "type(X)"
   ]
  },
  {
   "cell_type": "code",
   "execution_count": 57,
   "metadata": {},
   "outputs": [],
   "source": [
    "# Add intercept/bias term to matrix of X\n",
    "ones = np.ones([X.shape[0], 1])\n",
    "X = [ones, X]"
   ]
  },
  {
   "cell_type": "code",
   "execution_count": 61,
   "metadata": {},
   "outputs": [
    {
     "data": {
      "text/plain": [
       "numpy.ndarray"
      ]
     },
     "execution_count": 61,
     "metadata": {},
     "output_type": "execute_result"
    }
   ],
   "source": [
    "type(ones)"
   ]
  },
  {
   "cell_type": "code",
   "execution_count": 62,
   "metadata": {},
   "outputs": [
    {
     "data": {
      "text/plain": [
       "numpy.ndarray"
      ]
     },
     "execution_count": 62,
     "metadata": {},
     "output_type": "execute_result"
    }
   ],
   "source": [
    "type(X)"
   ]
  },
  {
   "cell_type": "code",
   "execution_count": 64,
   "metadata": {
    "collapsed": true
   },
   "outputs": [
    {
     "data": {
      "text/plain": [
       "array([[1.000e+00, 2.104e+03, 3.000e+00],\n",
       "       [1.000e+00, 1.600e+03, 3.000e+00],\n",
       "       [1.000e+00, 2.400e+03, 3.000e+00],\n",
       "       [1.000e+00, 1.416e+03, 2.000e+00],\n",
       "       [1.000e+00, 3.000e+03, 4.000e+00],\n",
       "       [1.000e+00, 1.985e+03, 4.000e+00],\n",
       "       [1.000e+00, 1.534e+03, 3.000e+00],\n",
       "       [1.000e+00, 1.427e+03, 3.000e+00],\n",
       "       [1.000e+00, 1.380e+03, 3.000e+00],\n",
       "       [1.000e+00, 1.494e+03, 3.000e+00],\n",
       "       [1.000e+00, 1.940e+03, 4.000e+00],\n",
       "       [1.000e+00, 2.000e+03, 3.000e+00],\n",
       "       [1.000e+00, 1.890e+03, 3.000e+00],\n",
       "       [1.000e+00, 4.478e+03, 5.000e+00],\n",
       "       [1.000e+00, 1.268e+03, 3.000e+00],\n",
       "       [1.000e+00, 2.300e+03, 4.000e+00],\n",
       "       [1.000e+00, 1.320e+03, 2.000e+00],\n",
       "       [1.000e+00, 1.236e+03, 3.000e+00],\n",
       "       [1.000e+00, 2.609e+03, 4.000e+00],\n",
       "       [1.000e+00, 3.031e+03, 4.000e+00],\n",
       "       [1.000e+00, 1.767e+03, 3.000e+00],\n",
       "       [1.000e+00, 1.888e+03, 2.000e+00],\n",
       "       [1.000e+00, 1.604e+03, 3.000e+00],\n",
       "       [1.000e+00, 1.962e+03, 4.000e+00],\n",
       "       [1.000e+00, 3.890e+03, 3.000e+00],\n",
       "       [1.000e+00, 1.100e+03, 3.000e+00],\n",
       "       [1.000e+00, 1.458e+03, 3.000e+00],\n",
       "       [1.000e+00, 2.526e+03, 3.000e+00],\n",
       "       [1.000e+00, 2.200e+03, 3.000e+00],\n",
       "       [1.000e+00, 2.637e+03, 3.000e+00],\n",
       "       [1.000e+00, 1.839e+03, 2.000e+00],\n",
       "       [1.000e+00, 1.000e+03, 1.000e+00],\n",
       "       [1.000e+00, 2.040e+03, 4.000e+00],\n",
       "       [1.000e+00, 3.137e+03, 3.000e+00],\n",
       "       [1.000e+00, 1.811e+03, 4.000e+00],\n",
       "       [1.000e+00, 1.437e+03, 3.000e+00],\n",
       "       [1.000e+00, 1.239e+03, 3.000e+00],\n",
       "       [1.000e+00, 2.132e+03, 4.000e+00],\n",
       "       [1.000e+00, 4.215e+03, 4.000e+00],\n",
       "       [1.000e+00, 2.162e+03, 4.000e+00],\n",
       "       [1.000e+00, 1.664e+03, 2.000e+00],\n",
       "       [1.000e+00, 2.238e+03, 3.000e+00],\n",
       "       [1.000e+00, 2.567e+03, 4.000e+00],\n",
       "       [1.000e+00, 1.200e+03, 3.000e+00],\n",
       "       [1.000e+00, 8.520e+02, 2.000e+00],\n",
       "       [1.000e+00, 1.852e+03, 4.000e+00],\n",
       "       [1.000e+00, 1.203e+03, 3.000e+00]])"
      ]
     },
     "execution_count": 64,
     "metadata": {},
     "output_type": "execute_result"
    }
   ],
   "source": [
    "X = np.hstack([ones, X])\n",
    "X"
   ]
  },
  {
   "cell_type": "code",
   "execution_count": 72,
   "metadata": {},
   "outputs": [],
   "source": [
    "def normalEqn(X, y):\n",
    "    X_t = X.transpose()\n",
    "    temp = np.dot(X_t, X)\n",
    "    theta = np.dot(np.dot(np.linalg.pinv(temp), X_t), y)\n",
    "    return theta\n",
    "#     theta = pinv((X' * X)) * X' * y;\n",
    "    "
   ]
  },
  {
   "cell_type": "code",
   "execution_count": 118,
   "metadata": {
    "scrolled": false
   },
   "outputs": [
    {
     "data": {
      "text/plain": [
       "array([[89597.90954355,   139.21067402, -8738.01911255]])"
      ]
     },
     "execution_count": 118,
     "metadata": {},
     "output_type": "execute_result"
    }
   ],
   "source": [
    "# Calclate theta using normal equation and convert it into 2 dimension using ndmin\n",
    "theta = normalEqn(X, y)\n",
    "theta = np.array(theta, ndmin = 2)\n",
    "theta"
   ]
  },
  {
   "cell_type": "code",
   "execution_count": 119,
   "metadata": {},
   "outputs": [
    {
     "data": {
      "text/plain": [
       "(1, 3)"
      ]
     },
     "execution_count": 119,
     "metadata": {},
     "output_type": "execute_result"
    }
   ],
   "source": [
    "theta.shape"
   ]
  },
  {
   "cell_type": "code",
   "execution_count": 120,
   "metadata": {},
   "outputs": [
    {
     "name": "stdout",
     "output_type": "stream",
     "text": [
      "Theta obtained from the normal equation are [[89597.90954355   139.21067402 -8738.01911255]]\n"
     ]
    }
   ],
   "source": [
    "print('Theta obtained from the normal equation are', theta)"
   ]
  },
  {
   "cell_type": "code",
   "execution_count": 127,
   "metadata": {},
   "outputs": [
    {
     "data": {
      "text/plain": [
       "array([[293081.46433497]])"
      ]
     },
     "execution_count": 127,
     "metadata": {},
     "output_type": "execute_result"
    }
   ],
   "source": [
    "# Estimate the house with 1650 sq-ft and 3 br\n",
    "# Theta0*1 + Theta1*1650 + Theta2*3\n",
    "housefeat = np.array([[1, 1650, 3]]).reshape(3, 1)\n",
    "price = np.dot(theta, housefeat)\n",
    "price"
   ]
  },
  {
   "cell_type": "code",
   "execution_count": 130,
   "metadata": {},
   "outputs": [
    {
     "data": {
      "text/plain": [
       "293081.4643349717"
      ]
     },
     "execution_count": 130,
     "metadata": {},
     "output_type": "execute_result"
    }
   ],
   "source": [
    "house_price = price.item()\n",
    "house_price"
   ]
  },
  {
   "cell_type": "code",
   "execution_count": 131,
   "metadata": {},
   "outputs": [
    {
     "name": "stdout",
     "output_type": "stream",
     "text": [
      "Estimated house price: 293081.464\n"
     ]
    }
   ],
   "source": [
    "# Then the estimated house price with 1650-sq ft and 3 br is\n",
    "print('Estimated house price: %.3f' %house_price)"
   ]
  },
  {
   "cell_type": "code",
   "execution_count": null,
   "metadata": {},
   "outputs": [],
   "source": []
  }
 ],
 "metadata": {
  "kernelspec": {
   "display_name": "Python 3",
   "language": "python",
   "name": "python3"
  },
  "language_info": {
   "codemirror_mode": {
    "name": "ipython",
    "version": 3
   },
   "file_extension": ".py",
   "mimetype": "text/x-python",
   "name": "python",
   "nbconvert_exporter": "python",
   "pygments_lexer": "ipython3",
   "version": "3.7.3"
  }
 },
 "nbformat": 4,
 "nbformat_minor": 2
}
